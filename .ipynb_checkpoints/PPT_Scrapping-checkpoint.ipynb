{
 "cells": [
  {
   "cell_type": "code",
   "execution_count": 1,
   "id": "798c9445",
   "metadata": {},
   "outputs": [
    {
     "name": "stdout",
     "output_type": "stream",
     "text": [
      "Collecting python-pptx\n",
      "  Downloading python_pptx-0.6.23-py3-none-any.whl.metadata (18 kB)\n",
      "Requirement already satisfied: lxml>=3.1.0 in c:\\users\\srnadimp\\anaconda3\\lib\\site-packages (from python-pptx) (4.9.1)\n",
      "Requirement already satisfied: Pillow>=3.3.2 in c:\\users\\srnadimp\\anaconda3\\lib\\site-packages (from python-pptx) (10.1.0)\n",
      "Requirement already satisfied: XlsxWriter>=0.5.7 in c:\\users\\srnadimp\\anaconda3\\lib\\site-packages (from python-pptx) (3.0.3)\n",
      "Downloading python_pptx-0.6.23-py3-none-any.whl (471 kB)\n",
      "   ---------------------------------------- 471.6/471.6 kB 3.7 MB/s eta 0:00:00\n",
      "Installing collected packages: python-pptx\n",
      "Successfully installed python-pptx-0.6.23\n",
      "Note: you may need to restart the kernel to use updated packages.\n"
     ]
    },
    {
     "name": "stderr",
     "output_type": "stream",
     "text": [
      "WARNING: Ignoring invalid distribution -pencv-python-headless (c:\\users\\srnadimp\\anaconda3\\lib\\site-packages)\n",
      "WARNING: Ignoring invalid distribution -treamlit (c:\\users\\srnadimp\\anaconda3\\lib\\site-packages)\n",
      "WARNING: Ignoring invalid distribution -pencv-python-headless (c:\\users\\srnadimp\\anaconda3\\lib\\site-packages)\n",
      "WARNING: Ignoring invalid distribution -treamlit (c:\\users\\srnadimp\\anaconda3\\lib\\site-packages)\n",
      "WARNING: There was an error checking the latest version of pip.\n"
     ]
    }
   ],
   "source": [
    "pip install python-pptx"
   ]
  },
  {
   "cell_type": "code",
   "execution_count": 2,
   "id": "4d3eb7a3",
   "metadata": {},
   "outputs": [],
   "source": [
    "from pptx import Presentation"
   ]
  },
  {
   "cell_type": "code",
   "execution_count": 3,
   "id": "a3f3344d",
   "metadata": {},
   "outputs": [],
   "source": [
    "presentation = Presentation('Week 22 - Audio & Video Sensing.pptx')"
   ]
  },
  {
   "cell_type": "code",
   "execution_count": 4,
   "id": "6dc29e44",
   "metadata": {},
   "outputs": [
    {
     "name": "stdout",
     "output_type": "stream",
     "text": [
      "\n",
      "Audio & Video Sensing\n",
      "Get \n",
      "Extension\n",
      "\n",
      "\n",
      "Draw a bubble\n",
      "Code\n",
      "Reset the game\n",
      "Start camera\n",
      "Make clones\n",
      "When a bubble is made\n",
      "Random size\n",
      "Random \n",
      "Position\n",
      "Weight\n",
      " on sprite\n",
      "Part 1: Audio Sensing\n",
      "01\n",
      "\n",
      "\n",
      "The Circles\n",
      "Draw 1 circle sprite\n",
      "Duplicate it\n",
      "You should have 5\n",
      "Circle\n",
      " 1\n",
      "Have circle 1 go to center\n",
      "Have the x change by the loudness\n",
      "Circle 2\n",
      "Have circle 2 go to center\n",
      "Have the x change by the loudness\n",
      "\n",
      "Circle 3\n",
      "Have circle 3 go to center\n",
      "Have the x change by the loudness\n",
      "\n",
      "Circle 4\n",
      "Have circle 4 go to center\n",
      "Have the x change by the loudness\n",
      "\n",
      "Circle 5\n",
      "Have circle 5 go to front layer\n",
      "Go to center\n",
      "Set size to 100\n",
      "Backdrop\n",
      "Go to backdrop code\n",
      "Add code so the fisheye effect changes by loudness\n"
     ]
    }
   ],
   "source": [
    "for slide in presentation.slides:\n",
    "    for shape in slide.shapes:\n",
    "        if shape.has_text_frame:\n",
    "            for paragraph in shape.text_frame.paragraphs:\n",
    "                for run in paragraph.runs:\n",
    "                    print(run.text)"
   ]
  },
  {
   "cell_type": "code",
   "execution_count": null,
   "id": "7ed0c824",
   "metadata": {},
   "outputs": [],
   "source": []
  }
 ],
 "metadata": {
  "kernelspec": {
   "display_name": "Python 3 (ipykernel)",
   "language": "python",
   "name": "python3"
  },
  "language_info": {
   "codemirror_mode": {
    "name": "ipython",
    "version": 3
   },
   "file_extension": ".py",
   "mimetype": "text/x-python",
   "name": "python",
   "nbconvert_exporter": "python",
   "pygments_lexer": "ipython3",
   "version": "3.9.12"
  }
 },
 "nbformat": 4,
 "nbformat_minor": 5
}
