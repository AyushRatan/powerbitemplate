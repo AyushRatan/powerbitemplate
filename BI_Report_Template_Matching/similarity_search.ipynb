{
 "cells": [
  {
   "cell_type": "code",
   "execution_count": 1,
   "metadata": {
    "colab": {
     "base_uri": "https://localhost:8080/"
    },
    "id": "GdIRK9Z7WBvz",
    "outputId": "73d15fbb-d5ec-489b-b263-9ead07da7c07"
   },
   "outputs": [
    {
     "name": "stderr",
     "output_type": "stream",
     "text": [
      "WARNING: Ignoring invalid distribution -pencv-python-headless (c:\\users\\srnadimp\\anaconda3\\lib\\site-packages)\n",
      "WARNING: Ignoring invalid distribution -treamlit (c:\\users\\srnadimp\\anaconda3\\lib\\site-packages)\n",
      "WARNING: Ignoring invalid distribution -pencv-python-headless (c:\\users\\srnadimp\\anaconda3\\lib\\site-packages)\n",
      "WARNING: Ignoring invalid distribution -treamlit (c:\\users\\srnadimp\\anaconda3\\lib\\site-packages)\n",
      "WARNING: There was an error checking the latest version of pip.\n"
     ]
    }
   ],
   "source": [
    "!pip install openai --quiet"
   ]
  },
  {
   "cell_type": "code",
   "execution_count": 3,
   "metadata": {
    "id": "c3GmfOpQUq7Z"
   },
   "outputs": [],
   "source": [
    "import pandas as pd\n",
    "import openai\n",
    "#from openai import OpenAI\n",
    "import os\n",
    "import numpy as np"
   ]
  },
  {
   "cell_type": "code",
   "execution_count": 4,
   "metadata": {
    "id": "VQCt7YPiWBFK"
   },
   "outputs": [],
   "source": [
    "os.environ[\"OPENAI_API_TYPE\"] = \"azure\"\n",
    "\n",
    "os.environ[\"AZURE_OPENAI_KEY\"] = \"6ad08c8e58dd4de9985b86b1209d9cc2\"\n",
    "\n",
    "os.environ[\"AZURE_OPENAI_ENDPOINT\"] = \"https://azureopenaitext.openai.azure.com/\"\n",
    "\n",
    "os.environ[\"OPENAI_API_VERSION\"] = \"2023-09-15-preview\""
   ]
  },
  {
   "cell_type": "code",
   "execution_count": 5,
   "metadata": {
    "id": "iKce_H3XWApv"
   },
   "outputs": [],
   "source": [
    "openai.api_type = os.getenv(\"OPENAI_API_TYPE\")\n",
    "openai.api_base = os.getenv(\"AZURE_OPENAI_ENDPOINT\")\n",
    "openai.api_version = os.getenv(\"OPENAI_API_VERSION\")\n",
    "openai.api_key = os.getenv(\"AZURE_OPENAI_KEY\")"
   ]
  },
  {
   "cell_type": "code",
   "execution_count": 7,
   "metadata": {
    "colab": {
     "base_uri": "https://localhost:8080/",
     "height": 293
    },
    "id": "CK_2r3ZVV-k9",
    "outputId": "52fa7ab5-f731-4dc5-934a-308b198d2705"
   },
   "outputs": [
    {
     "data": {
      "text/html": [
       "<div>\n",
       "<style scoped>\n",
       "    .dataframe tbody tr th:only-of-type {\n",
       "        vertical-align: middle;\n",
       "    }\n",
       "\n",
       "    .dataframe tbody tr th {\n",
       "        vertical-align: top;\n",
       "    }\n",
       "\n",
       "    .dataframe thead th {\n",
       "        text-align: right;\n",
       "    }\n",
       "</style>\n",
       "<table border=\"1\" class=\"dataframe\">\n",
       "  <thead>\n",
       "    <tr style=\"text-align: right;\">\n",
       "      <th></th>\n",
       "      <th>Report_Name</th>\n",
       "      <th>Page_Name</th>\n",
       "      <th>Title</th>\n",
       "      <th>Type</th>\n",
       "      <th>Columns</th>\n",
       "      <th>Responses</th>\n",
       "    </tr>\n",
       "  </thead>\n",
       "  <tbody>\n",
       "    <tr>\n",
       "      <th>0</th>\n",
       "      <td>POC_Regional_Sales</td>\n",
       "      <td>Sales Overview</td>\n",
       "      <td>Revenue Open by Sales Stage</td>\n",
       "      <td>funnel</td>\n",
       "      <td>Sales Stage, Revenue Open</td>\n",
       "      <td>The Revenue Open by Sales Stage visual in Powe...</td>\n",
       "    </tr>\n",
       "    <tr>\n",
       "      <th>1</th>\n",
       "      <td>POC_Regional_Sales</td>\n",
       "      <td>Sales Overview</td>\n",
       "      <td>Forecast by Location</td>\n",
       "      <td>shapeMap</td>\n",
       "      <td>State or Province, State or Province.1, Rev Go...</td>\n",
       "      <td>The Power BI visual Forecast by Location is a ...</td>\n",
       "    </tr>\n",
       "    <tr>\n",
       "      <th>2</th>\n",
       "      <td>POC_Regional_Sales</td>\n",
       "      <td>Sales Overview</td>\n",
       "      <td>Revenue Won and Revenue In Pipeline by Product...</td>\n",
       "      <td>barChart</td>\n",
       "      <td>Product Category, Product, Revenue Won, Revenu...</td>\n",
       "      <td>The Power BI visual \"Revenue Won and Revenue I...</td>\n",
       "    </tr>\n",
       "    <tr>\n",
       "      <th>3</th>\n",
       "      <td>POC_Regional_Sales</td>\n",
       "      <td>Sales Overview</td>\n",
       "      <td>(Right click to drill to Users)</td>\n",
       "      <td>lineStackedColumnComboChart</td>\n",
       "      <td>Manager, Owner, Revenue won, Qualified pipelin...</td>\n",
       "      <td>The Power BI visual \"Right click to drill to U...</td>\n",
       "    </tr>\n",
       "    <tr>\n",
       "      <th>4</th>\n",
       "      <td>POC_Regional_Sales</td>\n",
       "      <td>Sales Overview</td>\n",
       "      <td>Revenue and forecast by Product</td>\n",
       "      <td>pivotTable</td>\n",
       "      <td>Product Category, Product, Revenue Won, Qualif...</td>\n",
       "      <td>The Power BI visual \"Revenue and forecast by P...</td>\n",
       "    </tr>\n",
       "  </tbody>\n",
       "</table>\n",
       "</div>"
      ],
      "text/plain": [
       "          Report_Name       Page_Name  \\\n",
       "0  POC_Regional_Sales  Sales Overview   \n",
       "1  POC_Regional_Sales  Sales Overview   \n",
       "2  POC_Regional_Sales  Sales Overview   \n",
       "3  POC_Regional_Sales  Sales Overview   \n",
       "4  POC_Regional_Sales  Sales Overview   \n",
       "\n",
       "                                               Title  \\\n",
       "0                        Revenue Open by Sales Stage   \n",
       "1                               Forecast by Location   \n",
       "2  Revenue Won and Revenue In Pipeline by Product...   \n",
       "3                    (Right click to drill to Users)   \n",
       "4                    Revenue and forecast by Product   \n",
       "\n",
       "                          Type  \\\n",
       "0                       funnel   \n",
       "1                     shapeMap   \n",
       "2                     barChart   \n",
       "3  lineStackedColumnComboChart   \n",
       "4                   pivotTable   \n",
       "\n",
       "                                             Columns  \\\n",
       "0                          Sales Stage, Revenue Open   \n",
       "1  State or Province, State or Province.1, Rev Go...   \n",
       "2  Product Category, Product, Revenue Won, Revenu...   \n",
       "3  Manager, Owner, Revenue won, Qualified pipelin...   \n",
       "4  Product Category, Product, Revenue Won, Qualif...   \n",
       "\n",
       "                                           Responses  \n",
       "0  The Revenue Open by Sales Stage visual in Powe...  \n",
       "1  The Power BI visual Forecast by Location is a ...  \n",
       "2  The Power BI visual \"Revenue Won and Revenue I...  \n",
       "3  The Power BI visual \"Right click to drill to U...  \n",
       "4  The Power BI visual \"Revenue and forecast by P...  "
      ]
     },
     "execution_count": 7,
     "metadata": {},
     "output_type": "execute_result"
    }
   ],
   "source": [
    "folder_name = \"POC_Regional_Sales\"\n",
    "file_path_4 = os.path.join(folder_name, f\"POC_Regional_Sales_MasterData_Description.csv\")\n",
    "main_df = pd.read_csv(file_path_4, encoding=\"ISO-8859-1\")\n",
    "if \"Unnamed: 0\" in main_df:\n",
    "    main_df.drop(columns = \"Unnamed: 0\", axis = 1, inplace = True)\n",
    "main_df.head()"
   ]
  },
  {
   "cell_type": "code",
   "execution_count": 10,
   "metadata": {
    "colab": {
     "base_uri": "https://localhost:8080/",
     "height": 293
    },
    "id": "N9Wedxz1Xm03",
    "outputId": "1d10f6f6-6570-4603-ba38-16af871017d1"
   },
   "outputs": [
    {
     "data": {
      "text/html": [
       "<div>\n",
       "<style scoped>\n",
       "    .dataframe tbody tr th:only-of-type {\n",
       "        vertical-align: middle;\n",
       "    }\n",
       "\n",
       "    .dataframe tbody tr th {\n",
       "        vertical-align: top;\n",
       "    }\n",
       "\n",
       "    .dataframe thead th {\n",
       "        text-align: right;\n",
       "    }\n",
       "</style>\n",
       "<table border=\"1\" class=\"dataframe\">\n",
       "  <thead>\n",
       "    <tr style=\"text-align: right;\">\n",
       "      <th></th>\n",
       "      <th>Report_Name</th>\n",
       "      <th>Page_Name</th>\n",
       "      <th>Title</th>\n",
       "      <th>Type</th>\n",
       "      <th>Columns</th>\n",
       "      <th>Responses</th>\n",
       "      <th>combined_text</th>\n",
       "    </tr>\n",
       "  </thead>\n",
       "  <tbody>\n",
       "    <tr>\n",
       "      <th>0</th>\n",
       "      <td>POC_Regional_Sales</td>\n",
       "      <td>Sales Overview</td>\n",
       "      <td>Revenue Open by Sales Stage</td>\n",
       "      <td>funnel</td>\n",
       "      <td>Sales Stage, Revenue Open</td>\n",
       "      <td>The Revenue Open by Sales Stage visual in Powe...</td>\n",
       "      <td>Report Name: POC_Regional_Sales; Page Name: Sa...</td>\n",
       "    </tr>\n",
       "    <tr>\n",
       "      <th>1</th>\n",
       "      <td>POC_Regional_Sales</td>\n",
       "      <td>Sales Overview</td>\n",
       "      <td>Forecast by Location</td>\n",
       "      <td>shapeMap</td>\n",
       "      <td>State or Province, State or Province.1, Rev Go...</td>\n",
       "      <td>The Power BI visual Forecast by Location is a ...</td>\n",
       "      <td>Report Name: POC_Regional_Sales; Page Name: Sa...</td>\n",
       "    </tr>\n",
       "    <tr>\n",
       "      <th>2</th>\n",
       "      <td>POC_Regional_Sales</td>\n",
       "      <td>Sales Overview</td>\n",
       "      <td>Revenue Won and Revenue In Pipeline by Product...</td>\n",
       "      <td>barChart</td>\n",
       "      <td>Product Category, Product, Revenue Won, Revenu...</td>\n",
       "      <td>The Power BI visual \"Revenue Won and Revenue I...</td>\n",
       "      <td>Report Name: POC_Regional_Sales; Page Name: Sa...</td>\n",
       "    </tr>\n",
       "    <tr>\n",
       "      <th>3</th>\n",
       "      <td>POC_Regional_Sales</td>\n",
       "      <td>Sales Overview</td>\n",
       "      <td>(Right click to drill to Users)</td>\n",
       "      <td>lineStackedColumnComboChart</td>\n",
       "      <td>Manager, Owner, Revenue won, Qualified pipelin...</td>\n",
       "      <td>The Power BI visual \"Right click to drill to U...</td>\n",
       "      <td>Report Name: POC_Regional_Sales; Page Name: Sa...</td>\n",
       "    </tr>\n",
       "    <tr>\n",
       "      <th>4</th>\n",
       "      <td>POC_Regional_Sales</td>\n",
       "      <td>Sales Overview</td>\n",
       "      <td>Revenue and forecast by Product</td>\n",
       "      <td>pivotTable</td>\n",
       "      <td>Product Category, Product, Revenue Won, Qualif...</td>\n",
       "      <td>The Power BI visual \"Revenue and forecast by P...</td>\n",
       "      <td>Report Name: POC_Regional_Sales; Page Name: Sa...</td>\n",
       "    </tr>\n",
       "  </tbody>\n",
       "</table>\n",
       "</div>"
      ],
      "text/plain": [
       "          Report_Name       Page_Name  \\\n",
       "0  POC_Regional_Sales  Sales Overview   \n",
       "1  POC_Regional_Sales  Sales Overview   \n",
       "2  POC_Regional_Sales  Sales Overview   \n",
       "3  POC_Regional_Sales  Sales Overview   \n",
       "4  POC_Regional_Sales  Sales Overview   \n",
       "\n",
       "                                               Title  \\\n",
       "0                        Revenue Open by Sales Stage   \n",
       "1                               Forecast by Location   \n",
       "2  Revenue Won and Revenue In Pipeline by Product...   \n",
       "3                    (Right click to drill to Users)   \n",
       "4                    Revenue and forecast by Product   \n",
       "\n",
       "                          Type  \\\n",
       "0                       funnel   \n",
       "1                     shapeMap   \n",
       "2                     barChart   \n",
       "3  lineStackedColumnComboChart   \n",
       "4                   pivotTable   \n",
       "\n",
       "                                             Columns  \\\n",
       "0                          Sales Stage, Revenue Open   \n",
       "1  State or Province, State or Province.1, Rev Go...   \n",
       "2  Product Category, Product, Revenue Won, Revenu...   \n",
       "3  Manager, Owner, Revenue won, Qualified pipelin...   \n",
       "4  Product Category, Product, Revenue Won, Qualif...   \n",
       "\n",
       "                                           Responses  \\\n",
       "0  The Revenue Open by Sales Stage visual in Powe...   \n",
       "1  The Power BI visual Forecast by Location is a ...   \n",
       "2  The Power BI visual \"Revenue Won and Revenue I...   \n",
       "3  The Power BI visual \"Right click to drill to U...   \n",
       "4  The Power BI visual \"Revenue and forecast by P...   \n",
       "\n",
       "                                       combined_text  \n",
       "0  Report Name: POC_Regional_Sales; Page Name: Sa...  \n",
       "1  Report Name: POC_Regional_Sales; Page Name: Sa...  \n",
       "2  Report Name: POC_Regional_Sales; Page Name: Sa...  \n",
       "3  Report Name: POC_Regional_Sales; Page Name: Sa...  \n",
       "4  Report Name: POC_Regional_Sales; Page Name: Sa...  "
      ]
     },
     "execution_count": 10,
     "metadata": {},
     "output_type": "execute_result"
    }
   ],
   "source": [
    "combined = ['Report Name: {0}; Page Name: {1}; Title: {2}; Type: {3}; Columns: {4}; Responses: {5};'.format(row['Report_Name'],\n",
    "                                                                                                              row['Page_Name'],\n",
    "                                                                                                              row['Title'],\n",
    "                                                                                                              row['Type'],\n",
    "                                                                                                              row['Columns'],\n",
    "                                                                                                              row['Responses']) for ix, row in main_df.iterrows()]\n",
    "main_df['combined_text'] = combined\n",
    "main_df.head()"
   ]
  },
  {
   "cell_type": "code",
   "execution_count": 14,
   "metadata": {},
   "outputs": [],
   "source": [
    "#pip install --upgrade openai"
   ]
  },
  {
   "cell_type": "code",
   "execution_count": 13,
   "metadata": {
    "colab": {
     "base_uri": "https://localhost:8080/",
     "height": 822
    },
    "id": "dDJveIRMc_Cd",
    "outputId": "04162394-5515-46ef-e2a3-5def433f7e19"
   },
   "outputs": [
    {
     "ename": "AttributeError",
     "evalue": "module 'openai' has no attribute 'embeddings'",
     "output_type": "error",
     "traceback": [
      "\u001b[1;31m---------------------------------------------------------------------------\u001b[0m",
      "\u001b[1;31mAttributeError\u001b[0m                            Traceback (most recent call last)",
      "Input \u001b[1;32mIn [13]\u001b[0m, in \u001b[0;36m<cell line: 9>\u001b[1;34m()\u001b[0m\n\u001b[0;32m      2\u001b[0m   res \u001b[38;5;241m=\u001b[39m openai\u001b[38;5;241m.\u001b[39membeddings\u001b[38;5;241m.\u001b[39mcreate(\n\u001b[0;32m      3\u001b[0m       \u001b[38;5;28minput\u001b[39m \u001b[38;5;241m=\u001b[39m text,\n\u001b[0;32m      4\u001b[0m       model \u001b[38;5;241m=\u001b[39m model\n\u001b[0;32m      5\u001b[0m   )\n\u001b[0;32m      7\u001b[0m   \u001b[38;5;28;01mreturn\u001b[39;00m res\u001b[38;5;241m.\u001b[39mdata[\u001b[38;5;241m0\u001b[39m]\u001b[38;5;241m.\u001b[39membedding\n\u001b[1;32m----> 9\u001b[0m main_df[\u001b[38;5;124m'\u001b[39m\u001b[38;5;124membeddings\u001b[39m\u001b[38;5;124m'\u001b[39m] \u001b[38;5;241m=\u001b[39m \u001b[43mmain_df\u001b[49m\u001b[43m[\u001b[49m\u001b[38;5;124;43m'\u001b[39;49m\u001b[38;5;124;43mcombined_text\u001b[39;49m\u001b[38;5;124;43m'\u001b[39;49m\u001b[43m]\u001b[49m\u001b[38;5;241;43m.\u001b[39;49m\u001b[43mapply\u001b[49m\u001b[43m(\u001b[49m\u001b[38;5;28;43;01mlambda\u001b[39;49;00m\u001b[43m \u001b[49m\u001b[43mx\u001b[49m\u001b[43m:\u001b[49m\u001b[43m \u001b[49m\u001b[43mget_embeddings\u001b[49m\u001b[43m(\u001b[49m\u001b[43mx\u001b[49m\u001b[43m,\u001b[49m\u001b[43m \u001b[49m\u001b[43mmodel\u001b[49m\u001b[43m \u001b[49m\u001b[38;5;241;43m=\u001b[39;49m\u001b[43m \u001b[49m\u001b[38;5;124;43m\"\u001b[39;49m\u001b[38;5;124;43mtext-embedding-ada-002\u001b[39;49m\u001b[38;5;124;43m\"\u001b[39;49m\u001b[43m)\u001b[49m\u001b[43m)\u001b[49m\n\u001b[0;32m     10\u001b[0m main_df\u001b[38;5;241m.\u001b[39mhead()\n",
      "File \u001b[1;32m~\\Anaconda3\\lib\\site-packages\\pandas\\core\\series.py:4774\u001b[0m, in \u001b[0;36mSeries.apply\u001b[1;34m(self, func, convert_dtype, args, **kwargs)\u001b[0m\n\u001b[0;32m   4664\u001b[0m \u001b[38;5;28;01mdef\u001b[39;00m \u001b[38;5;21mapply\u001b[39m(\n\u001b[0;32m   4665\u001b[0m     \u001b[38;5;28mself\u001b[39m,\n\u001b[0;32m   4666\u001b[0m     func: AggFuncType,\n\u001b[1;32m   (...)\u001b[0m\n\u001b[0;32m   4669\u001b[0m     \u001b[38;5;241m*\u001b[39m\u001b[38;5;241m*\u001b[39mkwargs,\n\u001b[0;32m   4670\u001b[0m ) \u001b[38;5;241m-\u001b[39m\u001b[38;5;241m>\u001b[39m DataFrame \u001b[38;5;241m|\u001b[39m Series:\n\u001b[0;32m   4671\u001b[0m     \u001b[38;5;124;03m\"\"\"\u001b[39;00m\n\u001b[0;32m   4672\u001b[0m \u001b[38;5;124;03m    Invoke function on values of Series.\u001b[39;00m\n\u001b[0;32m   4673\u001b[0m \n\u001b[1;32m   (...)\u001b[0m\n\u001b[0;32m   4772\u001b[0m \u001b[38;5;124;03m    dtype: float64\u001b[39;00m\n\u001b[0;32m   4773\u001b[0m \u001b[38;5;124;03m    \"\"\"\u001b[39;00m\n\u001b[1;32m-> 4774\u001b[0m     \u001b[38;5;28;01mreturn\u001b[39;00m \u001b[43mSeriesApply\u001b[49m\u001b[43m(\u001b[49m\u001b[38;5;28;43mself\u001b[39;49m\u001b[43m,\u001b[49m\u001b[43m \u001b[49m\u001b[43mfunc\u001b[49m\u001b[43m,\u001b[49m\u001b[43m \u001b[49m\u001b[43mconvert_dtype\u001b[49m\u001b[43m,\u001b[49m\u001b[43m \u001b[49m\u001b[43margs\u001b[49m\u001b[43m,\u001b[49m\u001b[43m \u001b[49m\u001b[43mkwargs\u001b[49m\u001b[43m)\u001b[49m\u001b[38;5;241;43m.\u001b[39;49m\u001b[43mapply\u001b[49m\u001b[43m(\u001b[49m\u001b[43m)\u001b[49m\n",
      "File \u001b[1;32m~\\Anaconda3\\lib\\site-packages\\pandas\\core\\apply.py:1100\u001b[0m, in \u001b[0;36mSeriesApply.apply\u001b[1;34m(self)\u001b[0m\n\u001b[0;32m   1097\u001b[0m     \u001b[38;5;28;01mreturn\u001b[39;00m \u001b[38;5;28mself\u001b[39m\u001b[38;5;241m.\u001b[39mapply_str()\n\u001b[0;32m   1099\u001b[0m \u001b[38;5;66;03m# self.f is Callable\u001b[39;00m\n\u001b[1;32m-> 1100\u001b[0m \u001b[38;5;28;01mreturn\u001b[39;00m \u001b[38;5;28;43mself\u001b[39;49m\u001b[38;5;241;43m.\u001b[39;49m\u001b[43mapply_standard\u001b[49m\u001b[43m(\u001b[49m\u001b[43m)\u001b[49m\n",
      "File \u001b[1;32m~\\Anaconda3\\lib\\site-packages\\pandas\\core\\apply.py:1151\u001b[0m, in \u001b[0;36mSeriesApply.apply_standard\u001b[1;34m(self)\u001b[0m\n\u001b[0;32m   1149\u001b[0m     \u001b[38;5;28;01melse\u001b[39;00m:\n\u001b[0;32m   1150\u001b[0m         values \u001b[38;5;241m=\u001b[39m obj\u001b[38;5;241m.\u001b[39mastype(\u001b[38;5;28mobject\u001b[39m)\u001b[38;5;241m.\u001b[39m_values\n\u001b[1;32m-> 1151\u001b[0m         mapped \u001b[38;5;241m=\u001b[39m \u001b[43mlib\u001b[49m\u001b[38;5;241;43m.\u001b[39;49m\u001b[43mmap_infer\u001b[49m\u001b[43m(\u001b[49m\n\u001b[0;32m   1152\u001b[0m \u001b[43m            \u001b[49m\u001b[43mvalues\u001b[49m\u001b[43m,\u001b[49m\n\u001b[0;32m   1153\u001b[0m \u001b[43m            \u001b[49m\u001b[43mf\u001b[49m\u001b[43m,\u001b[49m\n\u001b[0;32m   1154\u001b[0m \u001b[43m            \u001b[49m\u001b[43mconvert\u001b[49m\u001b[38;5;241;43m=\u001b[39;49m\u001b[38;5;28;43mself\u001b[39;49m\u001b[38;5;241;43m.\u001b[39;49m\u001b[43mconvert_dtype\u001b[49m\u001b[43m,\u001b[49m\n\u001b[0;32m   1155\u001b[0m \u001b[43m        \u001b[49m\u001b[43m)\u001b[49m\n\u001b[0;32m   1157\u001b[0m \u001b[38;5;28;01mif\u001b[39;00m \u001b[38;5;28mlen\u001b[39m(mapped) \u001b[38;5;129;01mand\u001b[39;00m \u001b[38;5;28misinstance\u001b[39m(mapped[\u001b[38;5;241m0\u001b[39m], ABCSeries):\n\u001b[0;32m   1158\u001b[0m     \u001b[38;5;66;03m# GH#43986 Need to do list(mapped) in order to get treated as nested\u001b[39;00m\n\u001b[0;32m   1159\u001b[0m     \u001b[38;5;66;03m#  See also GH#25959 regarding EA support\u001b[39;00m\n\u001b[0;32m   1160\u001b[0m     \u001b[38;5;28;01mreturn\u001b[39;00m obj\u001b[38;5;241m.\u001b[39m_constructor_expanddim(\u001b[38;5;28mlist\u001b[39m(mapped), index\u001b[38;5;241m=\u001b[39mobj\u001b[38;5;241m.\u001b[39mindex)\n",
      "File \u001b[1;32m~\\Anaconda3\\lib\\site-packages\\pandas\\_libs\\lib.pyx:2919\u001b[0m, in \u001b[0;36mpandas._libs.lib.map_infer\u001b[1;34m()\u001b[0m\n",
      "Input \u001b[1;32mIn [13]\u001b[0m, in \u001b[0;36m<lambda>\u001b[1;34m(x)\u001b[0m\n\u001b[0;32m      2\u001b[0m   res \u001b[38;5;241m=\u001b[39m openai\u001b[38;5;241m.\u001b[39membeddings\u001b[38;5;241m.\u001b[39mcreate(\n\u001b[0;32m      3\u001b[0m       \u001b[38;5;28minput\u001b[39m \u001b[38;5;241m=\u001b[39m text,\n\u001b[0;32m      4\u001b[0m       model \u001b[38;5;241m=\u001b[39m model\n\u001b[0;32m      5\u001b[0m   )\n\u001b[0;32m      7\u001b[0m   \u001b[38;5;28;01mreturn\u001b[39;00m res\u001b[38;5;241m.\u001b[39mdata[\u001b[38;5;241m0\u001b[39m]\u001b[38;5;241m.\u001b[39membedding\n\u001b[1;32m----> 9\u001b[0m main_df[\u001b[38;5;124m'\u001b[39m\u001b[38;5;124membeddings\u001b[39m\u001b[38;5;124m'\u001b[39m] \u001b[38;5;241m=\u001b[39m main_df[\u001b[38;5;124m'\u001b[39m\u001b[38;5;124mcombined_text\u001b[39m\u001b[38;5;124m'\u001b[39m]\u001b[38;5;241m.\u001b[39mapply(\u001b[38;5;28;01mlambda\u001b[39;00m x: \u001b[43mget_embeddings\u001b[49m\u001b[43m(\u001b[49m\u001b[43mx\u001b[49m\u001b[43m,\u001b[49m\u001b[43m \u001b[49m\u001b[43mmodel\u001b[49m\u001b[43m \u001b[49m\u001b[38;5;241;43m=\u001b[39;49m\u001b[43m \u001b[49m\u001b[38;5;124;43m\"\u001b[39;49m\u001b[38;5;124;43mtext-embedding-ada-002\u001b[39;49m\u001b[38;5;124;43m\"\u001b[39;49m\u001b[43m)\u001b[49m)\n\u001b[0;32m     10\u001b[0m main_df\u001b[38;5;241m.\u001b[39mhead()\n",
      "Input \u001b[1;32mIn [13]\u001b[0m, in \u001b[0;36mget_embeddings\u001b[1;34m(text, model)\u001b[0m\n\u001b[0;32m      1\u001b[0m \u001b[38;5;28;01mdef\u001b[39;00m \u001b[38;5;21mget_embeddings\u001b[39m(text, model\u001b[38;5;241m=\u001b[39m\u001b[38;5;124m\"\u001b[39m\u001b[38;5;124mtext-embedding-ada-002\u001b[39m\u001b[38;5;124m\"\u001b[39m):\n\u001b[1;32m----> 2\u001b[0m   res \u001b[38;5;241m=\u001b[39m \u001b[43mopenai\u001b[49m\u001b[38;5;241;43m.\u001b[39;49m\u001b[43membeddings\u001b[49m\u001b[38;5;241m.\u001b[39mcreate(\n\u001b[0;32m      3\u001b[0m       \u001b[38;5;28minput\u001b[39m \u001b[38;5;241m=\u001b[39m text,\n\u001b[0;32m      4\u001b[0m       model \u001b[38;5;241m=\u001b[39m model\n\u001b[0;32m      5\u001b[0m   )\n\u001b[0;32m      7\u001b[0m   \u001b[38;5;28;01mreturn\u001b[39;00m res\u001b[38;5;241m.\u001b[39mdata[\u001b[38;5;241m0\u001b[39m]\u001b[38;5;241m.\u001b[39membedding\n",
      "\u001b[1;31mAttributeError\u001b[0m: module 'openai' has no attribute 'embeddings'"
     ]
    }
   ],
   "source": [
    "def get_embeddings(text, model=\"text-embedding-ada-002\"):\n",
    "  res = openai.embeddings.create(\n",
    "      input = text,\n",
    "      model = model\n",
    "  )\n",
    "\n",
    "  return res.data[0].embedding\n",
    "\n",
    "main_df['embeddings'] = main_df['combined_text'].apply(lambda x: get_embeddings(x, model = \"text-embedding-ada-002\"))\n",
    "main_df.head()"
   ]
  },
  {
   "cell_type": "code",
   "execution_count": null,
   "metadata": {
    "id": "ligp9WE_c_Gb"
   },
   "outputs": [],
   "source": [
    "query = \"Revenue report\"\n",
    "query_vector = get_embeddings(query)"
   ]
  },
  {
   "cell_type": "code",
   "execution_count": null,
   "metadata": {
    "id": "nPjM94O4c_J1"
   },
   "outputs": [],
   "source": [
    "similarity_search = [main_df['embeddings'].apply(lambda x: np.dot(x, query_vector))]"
   ]
  },
  {
   "cell_type": "code",
   "execution_count": null,
   "metadata": {
    "colab": {
     "base_uri": "https://localhost:8080/"
    },
    "id": "8-mATrTsc_NO",
    "outputId": "1f36d4a0-c63a-44d7-d55c-43f477290518"
   },
   "outputs": [
    {
     "data": {
      "text/plain": [
       "[0    0.836835\n",
       " 1    0.798928\n",
       " 2    0.800614\n",
       " 3    0.791796\n",
       " 4    0.829529\n",
       " 5    0.819016\n",
       " 6    0.782877\n",
       " 7    0.829024\n",
       " 8    0.812354\n",
       " Name: embeddings, dtype: float64]"
      ]
     },
     "execution_count": 39,
     "metadata": {},
     "output_type": "execute_result"
    }
   ],
   "source": [
    "similarity_search"
   ]
  },
  {
   "cell_type": "code",
   "execution_count": null,
   "metadata": {
    "id": "PCQPETr2mtOh"
   },
   "outputs": [],
   "source": []
  },
  {
   "cell_type": "code",
   "execution_count": null,
   "metadata": {
    "id": "GJxw8M2Gc_Tp"
   },
   "outputs": [],
   "source": []
  },
  {
   "cell_type": "code",
   "execution_count": null,
   "metadata": {
    "id": "_m2M86xJc_Wx"
   },
   "outputs": [],
   "source": []
  },
  {
   "cell_type": "code",
   "execution_count": null,
   "metadata": {
    "id": "J9REwbgxc_Z3"
   },
   "outputs": [],
   "source": []
  },
  {
   "cell_type": "code",
   "execution_count": null,
   "metadata": {
    "id": "CgBbXqG-c_cp"
   },
   "outputs": [],
   "source": []
  }
 ],
 "metadata": {
  "colab": {
   "provenance": []
  },
  "kernelspec": {
   "display_name": "Python 3 (ipykernel)",
   "language": "python",
   "name": "python3"
  },
  "language_info": {
   "codemirror_mode": {
    "name": "ipython",
    "version": 3
   },
   "file_extension": ".py",
   "mimetype": "text/x-python",
   "name": "python",
   "nbconvert_exporter": "python",
   "pygments_lexer": "ipython3",
   "version": "3.9.12"
  }
 },
 "nbformat": 4,
 "nbformat_minor": 1
}
