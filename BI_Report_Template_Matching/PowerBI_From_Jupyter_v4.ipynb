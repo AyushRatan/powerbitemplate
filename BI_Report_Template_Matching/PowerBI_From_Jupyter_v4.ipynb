{
 "cells": [
  {
   "cell_type": "code",
   "execution_count": 1,
   "id": "bd9aa283",
   "metadata": {},
   "outputs": [
    {
     "name": "stdout",
     "output_type": "stream",
     "text": [
      "A local browser window will open for interactive sign in.\n",
      "\n",
      "Interactive authentication successfully completed.\n",
      "You are now logged in.\n",
      "\n",
      "The result should be passed only to trusted code in your notebook.\n"
     ]
    }
   ],
   "source": [
    "import os\n",
    "import time\n",
    "import pandas as pd\n",
    "from powerbiclient import Report, models\n",
    "from powerbiclient.authentication import InteractiveLoginAuthentication\n",
    "device_auth = InteractiveLoginAuthentication()"
   ]
  },
  {
   "cell_type": "code",
   "execution_count": 4,
   "id": "8e36f519",
   "metadata": {},
   "outputs": [
    {
     "name": "stdout",
     "output_type": "stream",
     "text": [
      "Group ID - 653fc201-df39-4f8d-9bb1-b9de4e2b03be\n",
      "Report ID - 6f1bd60a-d7a2-41b8-9850-00c0b0d2c01e\n"
     ]
    }
   ],
   "source": [
    "import re\n",
    "\n",
    "url = \"https://app.powerbi.com/groups/653fc201-df39-4f8d-9bb1-b9de4e2b03be/reports/6f1bd60a-d7a2-41b8-9850-00c0b0d2c01e/ReportSection76c409e0c333d60bb1e2?experience=power-bi\"\n",
    "\n",
    "pattern = re.compile(r'/groups/(\\w+-\\w+-\\w+-\\w+-\\w+)/reports/(\\w+-\\w+-\\w+-\\w+-\\w+)/')\n",
    "matches = pattern.search(url)\n",
    "\n",
    "if matches:\n",
    "    group_id = matches.group(1)\n",
    "    report_id = matches.group(2)\n",
    "    print(f\"Group ID - {group_id}\")\n",
    "    print(f\"Report ID - {report_id}\")\n"
   ]
  },
  {
   "cell_type": "code",
   "execution_count": 2,
   "id": "ffd8d06d",
   "metadata": {},
   "outputs": [],
   "source": [
    "#Revenue_Opportunities\n",
    "group_id = \"653fc201-df39-4f8d-9bb1-b9de4e2b03be\"\n",
    "report_id = \"8bbfe108-f5ca-4579-91a0-9a2d37bdefb4\""
   ]
  },
  {
   "cell_type": "code",
   "execution_count": 3,
   "id": "c587a501",
   "metadata": {},
   "outputs": [
    {
     "data": {
      "application/vnd.jupyter.widget-view+json": {
       "model_id": "b5a9c592d70d4fe683ef128f519be158",
       "version_major": 2,
       "version_minor": 0
      },
      "text/plain": [
       "Report()"
      ]
     },
     "metadata": {},
     "output_type": "display_data"
    }
   ],
   "source": [
    "report = Report(group_id = group_id, report_id = report_id, auth = device_auth)\n",
    "report"
   ]
  },
  {
   "cell_type": "code",
   "execution_count": null,
   "id": "e75ff93c",
   "metadata": {},
   "outputs": [],
   "source": [
    "Main - https://app.powerbi.com/groups/653fc201-df39-4f8d-9bb1-b9de4e2b03be/list?experience=power-bi\n",
    "Report - https://app.powerbi.com/groups/653fc201-df39-4f8d-9bb1-b9de4e2b03be/reports/6f1bd60a-d7a2-41b8-9850-00c0b0d2c01e/ReportSection76c409e0c333d60bb1e2?experience=power-bi\n",
    "Export - https://app.powerbi.com/reportEmbed?reportId=6f1bd60a-d7a2-41b8-9850-00c0b0d2c01e&autoAuth=true&ctid=76a2ae5a-9f00-4f6b-95ed-5d33d77c4d61\n",
    "export2 https://app.powerbi.com/reportEmbed?reportId=6f1bd60a-d7a2-41b8-9850-00c0b0d2c01e&autoAuth=true&ctid=76a2ae5a-9f00-4f6b-95ed-5d33d77c4d61"
   ]
  },
  {
   "cell_type": "code",
   "execution_count": null,
   "id": "cb0fc2df",
   "metadata": {},
   "outputs": [],
   "source": [
    "https://app.powerbi.com/reportEmbed?reportId=8bbfe108-f5ca-4579-91a0-9a2d37bdefb4&autoAuth=true&ctid=76a2ae5a-9f00-4f6b-95ed-5d33d77c4d61\n",
    "https://app.powerbi.com/reportEmbed?reportId=8bbfe108-f5ca-4579-91a0-9a2d37bdefb4&autoAuth=true&ctid=76a2ae5a-9f00-4f6b-95ed-5d33d77c4d61"
   ]
  },
  {
   "cell_type": "code",
   "execution_count": 53,
   "id": "d5fd7d57",
   "metadata": {},
   "outputs": [],
   "source": [
    "report_pages=report.get_pages()\n",
    "Page_id = []\n",
    "Page_Name = []\n",
    "Visual_ID = []\n",
    "Visualization = []\n",
    "Title = []\n",
    "\n",
    "for report_page in report_pages:\n",
    "    if report_page['visibility'] == 0 and report_page['isActive'] == True:\n",
    "        #print(f\"Page_id: {report_page['name']}, Page_Name: {report_page['displayName']}, Visibility: {report_page['visibility']}\")\n",
    "        Page_id.append(report_page['name'])\n",
    "        Page_Name.append(report_page['displayName'])\n",
    "        report_visuals=report.visuals_on_page(report_page[\"name\"])\n",
    "        for report_visual in report_visuals:\n",
    "            try:\n",
    "                title = report_visual['title']\n",
    "            except:\n",
    "                title = None\n",
    "\n",
    "            #print(f\"Visual ID: {report_visual['name']}, Visualization Type:{report_visual['type']}, Title: {title}\")\n",
    "            Visual_ID.append(report_visual['name'])\n",
    "            Visualization.append(report_visual['type'])\n",
    "            Title.append(title)\n",
    "            \n",
    "\n",
    "Page_id = Page_id * len(Visual_ID)\n",
    "Page_Name = Page_Name * len(Visual_ID)\n",
    "data = list(zip(Page_id, Page_Name, Visual_ID, Visualization, Title))\n",
    "df = pd.DataFrame(data, columns=[\"Page_id\", \"Page_Name\", \"Visual_ID\", \"Visualization\", \"Title\"])\n",
    "#df.to_csv(f\"POC_Revenue Opportunities_{report_page['displayName']}_VisualMetaData.csv\")"
   ]
  },
  {
   "cell_type": "code",
   "execution_count": 54,
   "id": "5b09446a",
   "metadata": {},
   "outputs": [
    {
     "data": {
      "text/html": [
       "<div>\n",
       "<style scoped>\n",
       "    .dataframe tbody tr th:only-of-type {\n",
       "        vertical-align: middle;\n",
       "    }\n",
       "\n",
       "    .dataframe tbody tr th {\n",
       "        vertical-align: top;\n",
       "    }\n",
       "\n",
       "    .dataframe thead th {\n",
       "        text-align: right;\n",
       "    }\n",
       "</style>\n",
       "<table border=\"1\" class=\"dataframe\">\n",
       "  <thead>\n",
       "    <tr style=\"text-align: right;\">\n",
       "      <th></th>\n",
       "      <th>Page_id</th>\n",
       "      <th>Page_Name</th>\n",
       "      <th>Visual_ID</th>\n",
       "      <th>Visualization</th>\n",
       "      <th>Title</th>\n",
       "    </tr>\n",
       "  </thead>\n",
       "  <tbody>\n",
       "    <tr>\n",
       "      <th>0</th>\n",
       "      <td>ReportSection9380eec50a2a0165bb4b</td>\n",
       "      <td>Detail</td>\n",
       "      <td>df4f5199190e7a2291de</td>\n",
       "      <td>pivotTable</td>\n",
       "      <td>Matrix</td>\n",
       "    </tr>\n",
       "  </tbody>\n",
       "</table>\n",
       "</div>"
      ],
      "text/plain": [
       "                             Page_id Page_Name             Visual_ID  \\\n",
       "0  ReportSection9380eec50a2a0165bb4b    Detail  df4f5199190e7a2291de   \n",
       "\n",
       "  Visualization   Title  \n",
       "0    pivotTable  Matrix  "
      ]
     },
     "execution_count": 54,
     "metadata": {},
     "output_type": "execute_result"
    }
   ],
   "source": [
    "dont_consider = [\"actionButton\", \"basicShape\", \"textbox\"]\n",
    "df2 = df[~df[\"Visualization\"].isin(dont_consider)]\n",
    "df2"
   ]
  },
  {
   "cell_type": "code",
   "execution_count": 55,
   "id": "c029f134",
   "metadata": {},
   "outputs": [],
   "source": [
    "df3 = pd.concat([df1, df2], ignore_index = True)\n",
    "#df3.to_csv(\"POC_Revenue Opportunities_VisualMetaData.csv\")"
   ]
  },
  {
   "cell_type": "code",
   "execution_count": 56,
   "id": "932cd9e4",
   "metadata": {},
   "outputs": [
    {
     "data": {
      "text/html": [
       "<div>\n",
       "<style scoped>\n",
       "    .dataframe tbody tr th:only-of-type {\n",
       "        vertical-align: middle;\n",
       "    }\n",
       "\n",
       "    .dataframe tbody tr th {\n",
       "        vertical-align: top;\n",
       "    }\n",
       "\n",
       "    .dataframe thead th {\n",
       "        text-align: right;\n",
       "    }\n",
       "</style>\n",
       "<table border=\"1\" class=\"dataframe\">\n",
       "  <thead>\n",
       "    <tr style=\"text-align: right;\">\n",
       "      <th></th>\n",
       "      <th>Page_id</th>\n",
       "      <th>Page_Name</th>\n",
       "      <th>Visual_ID</th>\n",
       "      <th>Visualization</th>\n",
       "      <th>Title</th>\n",
       "    </tr>\n",
       "  </thead>\n",
       "  <tbody>\n",
       "    <tr>\n",
       "      <th>0</th>\n",
       "      <td>ReportSection</td>\n",
       "      <td>Opportunity Overview</td>\n",
       "      <td>0fa4715079a4d5b14dc6</td>\n",
       "      <td>card</td>\n",
       "      <td>Revenue</td>\n",
       "    </tr>\n",
       "    <tr>\n",
       "      <th>1</th>\n",
       "      <td>ReportSection</td>\n",
       "      <td>Opportunity Overview</td>\n",
       "      <td>2a48b7b9c411369725ca</td>\n",
       "      <td>card</td>\n",
       "      <td>Count</td>\n",
       "    </tr>\n",
       "    <tr>\n",
       "      <th>2</th>\n",
       "      <td>ReportSection</td>\n",
       "      <td>Opportunity Overview</td>\n",
       "      <td>77960fe4d6dd7e864e6c</td>\n",
       "      <td>slicer</td>\n",
       "      <td>Product Slicer</td>\n",
       "    </tr>\n",
       "    <tr>\n",
       "      <th>3</th>\n",
       "      <td>ReportSection</td>\n",
       "      <td>Opportunity Overview</td>\n",
       "      <td>eaf58d9fd08140688010</td>\n",
       "      <td>treemap</td>\n",
       "      <td>Opportunity Count by Region</td>\n",
       "    </tr>\n",
       "    <tr>\n",
       "      <th>4</th>\n",
       "      <td>ReportSection</td>\n",
       "      <td>Opportunity Overview</td>\n",
       "      <td>91b894da4c7a504a0d7c</td>\n",
       "      <td>filledMap</td>\n",
       "      <td>Revenue by State</td>\n",
       "    </tr>\n",
       "    <tr>\n",
       "      <th>5</th>\n",
       "      <td>ReportSection</td>\n",
       "      <td>Opportunity Overview</td>\n",
       "      <td>efc42a2f1a28997b4092</td>\n",
       "      <td>lineStackedColumnComboChart</td>\n",
       "      <td>Revenue and Opportunity Count by Month</td>\n",
       "    </tr>\n",
       "    <tr>\n",
       "      <th>6</th>\n",
       "      <td>ReportSection</td>\n",
       "      <td>Opportunity Overview</td>\n",
       "      <td>772b1906500006b78011</td>\n",
       "      <td>barChart</td>\n",
       "      <td>Pipeline by Stage</td>\n",
       "    </tr>\n",
       "    <tr>\n",
       "      <th>7</th>\n",
       "      <td>ReportSection</td>\n",
       "      <td>Opportunity Overview</td>\n",
       "      <td>8a2c970418c8c8b490ba</td>\n",
       "      <td>barChart</td>\n",
       "      <td>Revenue by Region and State</td>\n",
       "    </tr>\n",
       "    <tr>\n",
       "      <th>8</th>\n",
       "      <td>ReportSection9380eec50a2a0165bb4b</td>\n",
       "      <td>Detail</td>\n",
       "      <td>df4f5199190e7a2291de</td>\n",
       "      <td>pivotTable</td>\n",
       "      <td>Matrix</td>\n",
       "    </tr>\n",
       "  </tbody>\n",
       "</table>\n",
       "</div>"
      ],
      "text/plain": [
       "                             Page_id             Page_Name  \\\n",
       "0                      ReportSection  Opportunity Overview   \n",
       "1                      ReportSection  Opportunity Overview   \n",
       "2                      ReportSection  Opportunity Overview   \n",
       "3                      ReportSection  Opportunity Overview   \n",
       "4                      ReportSection  Opportunity Overview   \n",
       "5                      ReportSection  Opportunity Overview   \n",
       "6                      ReportSection  Opportunity Overview   \n",
       "7                      ReportSection  Opportunity Overview   \n",
       "8  ReportSection9380eec50a2a0165bb4b                Detail   \n",
       "\n",
       "              Visual_ID                Visualization  \\\n",
       "0  0fa4715079a4d5b14dc6                         card   \n",
       "1  2a48b7b9c411369725ca                         card   \n",
       "2  77960fe4d6dd7e864e6c                       slicer   \n",
       "3  eaf58d9fd08140688010                      treemap   \n",
       "4  91b894da4c7a504a0d7c                    filledMap   \n",
       "5  efc42a2f1a28997b4092  lineStackedColumnComboChart   \n",
       "6  772b1906500006b78011                     barChart   \n",
       "7  8a2c970418c8c8b490ba                     barChart   \n",
       "8  df4f5199190e7a2291de                   pivotTable   \n",
       "\n",
       "                                    Title  \n",
       "0                                 Revenue  \n",
       "1                                   Count  \n",
       "2                          Product Slicer  \n",
       "3             Opportunity Count by Region  \n",
       "4                        Revenue by State  \n",
       "5  Revenue and Opportunity Count by Month  \n",
       "6                       Pipeline by Stage  \n",
       "7             Revenue by Region and State  \n",
       "8                                  Matrix  "
      ]
     },
     "execution_count": 56,
     "metadata": {},
     "output_type": "execute_result"
    }
   ],
   "source": [
    "df3"
   ]
  },
  {
   "cell_type": "code",
   "execution_count": 67,
   "id": "e5403def",
   "metadata": {},
   "outputs": [],
   "source": [
    "Page_id_list = list(df3[\"Page_id\"])\n",
    "Visual_ID_list = list(df3[\"Visual_ID\"])\n",
    "Page_Name_list = list(df3[\"Page_Name\"])\n",
    "Title_list = list(df3[\"Title\"])\n",
    "Visualization_list = list(df3[\"Visualization\"])"
   ]
  },
  {
   "cell_type": "code",
   "execution_count": 163,
   "id": "c961db5e",
   "metadata": {},
   "outputs": [],
   "source": [
    "folder_name = \"POC_Revenue_Opportunities\"\n",
    "main_column_list = []\n",
    "if not os.path.exists(folder_name):\n",
    "    os.makedirs(folder_name)\n",
    "for i in range(len(Page_id_list)):\n",
    "    try:\n",
    "        viz_data=report.export_visual_data(Page_id_list[i],Visual_ID_list[i])\n",
    "        file_path = os.path.join(folder_name, f\"POC_Revenue_Opportunities_{Page_Name_list[i]}_{Title_list[i]}.csv\")\n",
    "        with open(file_path, \"w\") as file:\n",
    "            file.write(viz_data)\n",
    "        dummy2 = pd.read_csv(file_path)\n",
    "        if \"Unnamed: 0\" in dummy2:\n",
    "            dummy2.drop(columns = \"Unnamed: 0\", axis = 1, inplace = True)\n",
    "        dummy3_columns = dummy2.columns.tolist()\n",
    "        main_column_list.append(dummy3_columns)\n",
    "        dummy2.to_csv(file_path)\n",
    "    except:\n",
    "        pass"
   ]
  },
  {
   "cell_type": "code",
   "execution_count": 253,
   "id": "c7a9ec0d",
   "metadata": {},
   "outputs": [
    {
     "data": {
      "text/plain": [
       "[['Opportunity Size',\n",
       "  'Region',\n",
       "  'Partner',\n",
       "  'Opportunities',\n",
       "  'Revenue',\n",
       "  'Factored Revenue',\n",
       "  'Avg Revenue']]"
      ]
     },
     "execution_count": 253,
     "metadata": {},
     "output_type": "execute_result"
    }
   ],
   "source": [
    "main_column_list"
   ]
  },
  {
   "cell_type": "code",
   "execution_count": 114,
   "id": "381841c8",
   "metadata": {},
   "outputs": [],
   "source": [
    "main_column_list2 = [', '.join(map(str, sublist)) for sublist in main_column_list]\n",
    "main_column_series = pd.Series(main_column_list2)\n",
    "columns_for_description = list(zip(Title_list, Visualization_list, main_column_series))\n",
    "df4 = pd.DataFrame(columns_for_description, columns = [\"Title\", \"Type\", \"Columns\"])"
   ]
  },
  {
   "cell_type": "code",
   "execution_count": 162,
   "id": "19096a5a",
   "metadata": {},
   "outputs": [],
   "source": [
    "df4.to_csv(\"POC_Revenue_Opportunities_MasterData.csv\")"
   ]
  },
  {
   "cell_type": "code",
   "execution_count": 235,
   "id": "e7bd35ab",
   "metadata": {},
   "outputs": [
    {
     "data": {
      "text/html": [
       "<div>\n",
       "<style scoped>\n",
       "    .dataframe tbody tr th:only-of-type {\n",
       "        vertical-align: middle;\n",
       "    }\n",
       "\n",
       "    .dataframe tbody tr th {\n",
       "        vertical-align: top;\n",
       "    }\n",
       "\n",
       "    .dataframe thead th {\n",
       "        text-align: right;\n",
       "    }\n",
       "</style>\n",
       "<table border=\"1\" class=\"dataframe\">\n",
       "  <thead>\n",
       "    <tr style=\"text-align: right;\">\n",
       "      <th></th>\n",
       "      <th>Title</th>\n",
       "      <th>Type</th>\n",
       "      <th>Columns</th>\n",
       "    </tr>\n",
       "  </thead>\n",
       "  <tbody>\n",
       "    <tr>\n",
       "      <th>0</th>\n",
       "      <td>Revenue</td>\n",
       "      <td>card</td>\n",
       "      <td>Opportunity Revenue</td>\n",
       "    </tr>\n",
       "    <tr>\n",
       "      <th>1</th>\n",
       "      <td>Count</td>\n",
       "      <td>card</td>\n",
       "      <td>Opportunity Count</td>\n",
       "    </tr>\n",
       "    <tr>\n",
       "      <th>2</th>\n",
       "      <td>Product Slicer</td>\n",
       "      <td>slicer</td>\n",
       "      <td>Product Code</td>\n",
       "    </tr>\n",
       "    <tr>\n",
       "      <th>3</th>\n",
       "      <td>Opportunity Count by Region</td>\n",
       "      <td>treemap</td>\n",
       "      <td>Region, State, Opportunity Count</td>\n",
       "    </tr>\n",
       "    <tr>\n",
       "      <th>4</th>\n",
       "      <td>Revenue by State</td>\n",
       "      <td>filledMap</td>\n",
       "      <td>State, Revenue</td>\n",
       "    </tr>\n",
       "    <tr>\n",
       "      <th>5</th>\n",
       "      <td>Revenue and Opportunity Count by Month</td>\n",
       "      <td>lineStackedColumnComboChart</td>\n",
       "      <td>Month, Revenue, Opportunity Count</td>\n",
       "    </tr>\n",
       "    <tr>\n",
       "      <th>6</th>\n",
       "      <td>Pipeline by Stage</td>\n",
       "      <td>barChart</td>\n",
       "      <td>Sales Stage, Opportunity Count</td>\n",
       "    </tr>\n",
       "    <tr>\n",
       "      <th>7</th>\n",
       "      <td>Revenue by Region and State</td>\n",
       "      <td>barChart</td>\n",
       "      <td>Region, State, Revenue</td>\n",
       "    </tr>\n",
       "  </tbody>\n",
       "</table>\n",
       "</div>"
      ],
      "text/plain": [
       "                                    Title                         Type  \\\n",
       "0                                 Revenue                         card   \n",
       "1                                   Count                         card   \n",
       "2                          Product Slicer                       slicer   \n",
       "3             Opportunity Count by Region                      treemap   \n",
       "4                        Revenue by State                    filledMap   \n",
       "5  Revenue and Opportunity Count by Month  lineStackedColumnComboChart   \n",
       "6                       Pipeline by Stage                     barChart   \n",
       "7             Revenue by Region and State                     barChart   \n",
       "\n",
       "                             Columns  \n",
       "0                Opportunity Revenue  \n",
       "1                  Opportunity Count  \n",
       "2                       Product Code  \n",
       "3   Region, State, Opportunity Count  \n",
       "4                     State, Revenue  \n",
       "5  Month, Revenue, Opportunity Count  \n",
       "6     Sales Stage, Opportunity Count  \n",
       "7             Region, State, Revenue  "
      ]
     },
     "execution_count": 235,
     "metadata": {},
     "output_type": "execute_result"
    }
   ],
   "source": [
    "df4"
   ]
  },
  {
   "cell_type": "markdown",
   "id": "ca4fcd16",
   "metadata": {},
   "source": [
    "## LLM"
   ]
  },
  {
   "cell_type": "code",
   "execution_count": 127,
   "id": "fea23544",
   "metadata": {},
   "outputs": [],
   "source": [
    "#Existing credentials\n",
    "import os\n",
    "import openai\n",
    "openai.api_type = \"azure\"\n",
    "openai.api_base = \"https://azureopenaitext.openai.azure.com/\"\n",
    "openai.api_version = \"2023-09-15-preview\"\n",
    "openai.api_key =\"6ad08c8e58dd4de9985b86b1209d9cc2\""
   ]
  },
  {
   "cell_type": "code",
   "execution_count": 189,
   "id": "968d5e33",
   "metadata": {},
   "outputs": [],
   "source": [
    "#Nitin credentials\n",
    "import os\n",
    "import openai\n",
    "openai.api_type = \"azure\"\n",
    "openai.api_base =\"https://llmdemo.openai.azure.com/\"\n",
    "openai.api_version = \"2023-09-15-preview\"\n",
    "openai.api_key =\"7ae7bffcd56d4ee89f742dcf20b67269\""
   ]
  },
  {
   "cell_type": "code",
   "execution_count": null,
   "id": "b0937805",
   "metadata": {},
   "outputs": [],
   "source": []
  },
  {
   "cell_type": "code",
   "execution_count": null,
   "id": "3666ef29",
   "metadata": {},
   "outputs": [],
   "source": []
  },
  {
   "cell_type": "code",
   "execution_count": null,
   "id": "089cbb2a",
   "metadata": {},
   "outputs": [],
   "source": []
  },
  {
   "cell_type": "code",
   "execution_count": null,
   "id": "526e1825",
   "metadata": {},
   "outputs": [],
   "source": []
  },
  {
   "cell_type": "code",
   "execution_count": null,
   "id": "65b6f4a5",
   "metadata": {},
   "outputs": [],
   "source": []
  },
  {
   "cell_type": "code",
   "execution_count": null,
   "id": "29809aaf",
   "metadata": {},
   "outputs": [],
   "source": []
  },
  {
   "cell_type": "code",
   "execution_count": null,
   "id": "cc80df13",
   "metadata": {},
   "outputs": [],
   "source": []
  },
  {
   "cell_type": "code",
   "execution_count": null,
   "id": "3f504829",
   "metadata": {},
   "outputs": [],
   "source": []
  },
  {
   "cell_type": "code",
   "execution_count": null,
   "id": "6db24900",
   "metadata": {},
   "outputs": [],
   "source": []
  },
  {
   "cell_type": "raw",
   "id": "eb099d09",
   "metadata": {},
   "source": [
    "New Table:\n",
    "1) Visual Title from VisualMetaData table\n",
    "2) Visual Type from VisualMetaData table\n",
    "3) Column name from Visual Tabels"
   ]
  },
  {
   "cell_type": "raw",
   "id": "ade07276",
   "metadata": {},
   "source": [
    "1) VisualMetaData\n",
    "2) Visual Tables\n",
    "3) Columns Table"
   ]
  }
 ],
 "metadata": {
  "kernelspec": {
   "display_name": "Python 3 (ipykernel)",
   "language": "python",
   "name": "python3"
  },
  "language_info": {
   "codemirror_mode": {
    "name": "ipython",
    "version": 3
   },
   "file_extension": ".py",
   "mimetype": "text/x-python",
   "name": "python",
   "nbconvert_exporter": "python",
   "pygments_lexer": "ipython3",
   "version": "3.9.12"
  }
 },
 "nbformat": 4,
 "nbformat_minor": 5
}
