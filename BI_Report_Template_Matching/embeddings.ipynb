{
 "cells": [
  {
   "cell_type": "code",
   "execution_count": 20,
   "metadata": {},
   "outputs": [
    {
     "name": "stdout",
     "output_type": "stream",
     "text": [
      "Requirement already satisfied: openai in c:\\users\\srnadimp\\anaconda3\\lib\\site-packages (1.3.5)\n",
      "Requirement already satisfied: anyio<4,>=3.5.0 in c:\\users\\srnadimp\\anaconda3\\lib\\site-packages (from openai) (3.5.0)\n",
      "Requirement already satisfied: distro<2,>=1.7.0 in c:\\users\\srnadimp\\anaconda3\\lib\\site-packages (from openai) (1.8.0)\n",
      "Requirement already satisfied: httpx<1,>=0.23.0 in c:\\users\\srnadimp\\anaconda3\\lib\\site-packages (from openai) (0.25.0)\n",
      "Requirement already satisfied: pydantic<3,>=1.9.0 in c:\\users\\srnadimp\\anaconda3\\lib\\site-packages (from openai) (1.9.2)\n",
      "Requirement already satisfied: tqdm>4 in c:\\users\\srnadimp\\anaconda3\\lib\\site-packages (from openai) (4.64.0)\n",
      "Requirement already satisfied: typing-extensions<5,>=4.5 in c:\\users\\srnadimp\\anaconda3\\lib\\site-packages (from openai) (4.8.0)\n",
      "Requirement already satisfied: idna>=2.8 in c:\\users\\srnadimp\\anaconda3\\lib\\site-packages (from anyio<4,>=3.5.0->openai) (3.4)\n",
      "Requirement already satisfied: sniffio>=1.1 in c:\\users\\srnadimp\\anaconda3\\lib\\site-packages (from anyio<4,>=3.5.0->openai) (1.2.0)\n",
      "Requirement already satisfied: certifi in c:\\users\\srnadimp\\anaconda3\\lib\\site-packages (from httpx<1,>=0.23.0->openai) (2023.7.22)\n",
      "Requirement already satisfied: httpcore<0.19.0,>=0.18.0 in c:\\users\\srnadimp\\anaconda3\\lib\\site-packages (from httpx<1,>=0.23.0->openai) (0.18.0)\n",
      "Requirement already satisfied: colorama in c:\\users\\srnadimp\\anaconda3\\lib\\site-packages (from tqdm>4->openai) (0.4.5)\n",
      "Requirement already satisfied: h11<0.15,>=0.13 in c:\\users\\srnadimp\\anaconda3\\lib\\site-packages (from httpcore<0.19.0,>=0.18.0->httpx<1,>=0.23.0->openai) (0.14.0)\n"
     ]
    },
    {
     "name": "stderr",
     "output_type": "stream",
     "text": [
      "WARNING: Ignoring invalid distribution -pencv-python-headless (c:\\users\\srnadimp\\anaconda3\\lib\\site-packages)\n",
      "WARNING: Ignoring invalid distribution -treamlit (c:\\users\\srnadimp\\anaconda3\\lib\\site-packages)\n",
      "WARNING: Ignoring invalid distribution -pencv-python-headless (c:\\users\\srnadimp\\anaconda3\\lib\\site-packages)\n",
      "WARNING: Ignoring invalid distribution -treamlit (c:\\users\\srnadimp\\anaconda3\\lib\\site-packages)\n",
      "WARNING: There was an error checking the latest version of pip.\n"
     ]
    },
    {
     "name": "stdout",
     "output_type": "stream",
     "text": [
      "Requirement already satisfied: langchain in c:\\users\\srnadimp\\anaconda3\\lib\\site-packages (0.0.340)\n",
      "Requirement already satisfied: PyYAML>=5.3 in c:\\users\\srnadimp\\anaconda3\\lib\\site-packages (from langchain) (6.0)\n",
      "Requirement already satisfied: SQLAlchemy<3,>=1.4 in c:\\users\\srnadimp\\anaconda3\\lib\\site-packages (from langchain) (1.4.50)\n",
      "Requirement already satisfied: aiohttp<4.0.0,>=3.8.3 in c:\\users\\srnadimp\\anaconda3\\lib\\site-packages (from langchain) (3.9.1)\n",
      "Requirement already satisfied: anyio<4.0 in c:\\users\\srnadimp\\anaconda3\\lib\\site-packages (from langchain) (3.5.0)\n",
      "Requirement already satisfied: async-timeout<5.0.0,>=4.0.0 in c:\\users\\srnadimp\\anaconda3\\lib\\site-packages (from langchain) (4.0.1)\n",
      "Requirement already satisfied: dataclasses-json<0.7,>=0.5.7 in c:\\users\\srnadimp\\anaconda3\\lib\\site-packages (from langchain) (0.6.2)\n",
      "Requirement already satisfied: jsonpatch<2.0,>=1.33 in c:\\users\\srnadimp\\anaconda3\\lib\\site-packages (from langchain) (1.33)\n",
      "Requirement already satisfied: langsmith<0.1.0,>=0.0.63 in c:\\users\\srnadimp\\anaconda3\\lib\\site-packages (from langchain) (0.0.66)\n",
      "Requirement already satisfied: numpy<2,>=1 in c:\\users\\srnadimp\\anaconda3\\lib\\site-packages (from langchain) (1.23.3)\n",
      "Requirement already satisfied: pydantic<3,>=1 in c:\\users\\srnadimp\\anaconda3\\lib\\site-packages (from langchain) (1.9.2)\n",
      "Requirement already satisfied: requests<3,>=2 in c:\\users\\srnadimp\\anaconda3\\lib\\site-packages (from langchain) (2.28.1)\n",
      "Requirement already satisfied: tenacity<9.0.0,>=8.1.0 in c:\\users\\srnadimp\\anaconda3\\lib\\site-packages (from langchain) (8.2.3)\n",
      "Requirement already satisfied: attrs>=17.3.0 in c:\\users\\srnadimp\\anaconda3\\lib\\site-packages (from aiohttp<4.0.0,>=3.8.3->langchain) (22.1.0)\n",
      "Requirement already satisfied: multidict<7.0,>=4.5 in c:\\users\\srnadimp\\anaconda3\\lib\\site-packages (from aiohttp<4.0.0,>=3.8.3->langchain) (5.1.0)\n",
      "Requirement already satisfied: yarl<2.0,>=1.0 in c:\\users\\srnadimp\\anaconda3\\lib\\site-packages (from aiohttp<4.0.0,>=3.8.3->langchain) (1.6.3)\n",
      "Requirement already satisfied: frozenlist>=1.1.1 in c:\\users\\srnadimp\\anaconda3\\lib\\site-packages (from aiohttp<4.0.0,>=3.8.3->langchain) (1.2.0)\n",
      "Requirement already satisfied: aiosignal>=1.1.2 in c:\\users\\srnadimp\\anaconda3\\lib\\site-packages (from aiohttp<4.0.0,>=3.8.3->langchain) (1.2.0)\n",
      "Requirement already satisfied: idna>=2.8 in c:\\users\\srnadimp\\anaconda3\\lib\\site-packages (from anyio<4.0->langchain) (3.4)\n"
     ]
    },
    {
     "name": "stderr",
     "output_type": "stream",
     "text": [
      "WARNING: Ignoring invalid distribution -pencv-python-headless (c:\\users\\srnadimp\\anaconda3\\lib\\site-packages)\n",
      "WARNING: Ignoring invalid distribution -treamlit (c:\\users\\srnadimp\\anaconda3\\lib\\site-packages)\n",
      "WARNING: Ignoring invalid distribution -pencv-python-headless (c:\\users\\srnadimp\\anaconda3\\lib\\site-packages)\n",
      "WARNING: Ignoring invalid distribution -treamlit (c:\\users\\srnadimp\\anaconda3\\lib\\site-packages)\n",
      "WARNING: There was an error checking the latest version of pip.\n"
     ]
    },
    {
     "name": "stdout",
     "output_type": "stream",
     "text": [
      "Requirement already satisfied: sniffio>=1.1 in c:\\users\\srnadimp\\anaconda3\\lib\\site-packages (from anyio<4.0->langchain) (1.2.0)\n",
      "Requirement already satisfied: typing-extensions>=3.6.5 in c:\\users\\srnadimp\\anaconda3\\lib\\site-packages (from async-timeout<5.0.0,>=4.0.0->langchain) (4.8.0)\n",
      "Requirement already satisfied: marshmallow<4.0.0,>=3.18.0 in c:\\users\\srnadimp\\anaconda3\\lib\\site-packages (from dataclasses-json<0.7,>=0.5.7->langchain) (3.20.1)\n",
      "Requirement already satisfied: typing-inspect<1,>=0.4.0 in c:\\users\\srnadimp\\anaconda3\\lib\\site-packages (from dataclasses-json<0.7,>=0.5.7->langchain) (0.9.0)\n",
      "Requirement already satisfied: jsonpointer>=1.9 in c:\\users\\srnadimp\\anaconda3\\lib\\site-packages (from jsonpatch<2.0,>=1.33->langchain) (2.4)\n",
      "Requirement already satisfied: charset-normalizer<3,>=2 in c:\\users\\srnadimp\\anaconda3\\lib\\site-packages (from requests<3,>=2->langchain) (2.1.1)\n",
      "Requirement already satisfied: urllib3<1.27,>=1.21.1 in c:\\users\\srnadimp\\anaconda3\\lib\\site-packages (from requests<3,>=2->langchain) (1.26.12)\n",
      "Requirement already satisfied: certifi>=2017.4.17 in c:\\users\\srnadimp\\anaconda3\\lib\\site-packages (from requests<3,>=2->langchain) (2023.7.22)\n",
      "Requirement already satisfied: greenlet!=0.4.17 in c:\\users\\srnadimp\\anaconda3\\lib\\site-packages (from SQLAlchemy<3,>=1.4->langchain) (1.1.1)\n",
      "Requirement already satisfied: packaging>=17.0 in c:\\users\\srnadimp\\anaconda3\\lib\\site-packages (from marshmallow<4.0.0,>=3.18.0->dataclasses-json<0.7,>=0.5.7->langchain) (21.3)\n",
      "Requirement already satisfied: mypy-extensions>=0.3.0 in c:\\users\\srnadimp\\anaconda3\\lib\\site-packages (from typing-inspect<1,>=0.4.0->dataclasses-json<0.7,>=0.5.7->langchain) (0.4.3)\n",
      "Requirement already satisfied: pyparsing!=3.0.5,>=2.0.2 in c:\\users\\srnadimp\\anaconda3\\lib\\site-packages (from packaging>=17.0->marshmallow<4.0.0,>=3.18.0->dataclasses-json<0.7,>=0.5.7->langchain) (3.0.9)\n",
      "Requirement already satisfied: pandasai in c:\\users\\srnadimp\\anaconda3\\lib\\site-packages (1.5.4)\n",
      "Requirement already satisfied: astor<0.9.0,>=0.8.1 in c:\\users\\srnadimp\\anaconda3\\lib\\site-packages (from pandasai) (0.8.1)\n",
      "Requirement already satisfied: duckdb<0.9.0,>=0.8.1 in c:\\users\\srnadimp\\anaconda3\\lib\\site-packages (from pandasai) (0.8.1)\n",
      "Requirement already satisfied: faker<20.0.0,>=19.12.0 in c:\\users\\srnadimp\\anaconda3\\lib\\site-packages (from pandasai) (19.13.0)\n",
      "Requirement already satisfied: ipython<9.0.0,>=8.13.1 in c:\\users\\srnadimp\\anaconda3\\lib\\site-packages (from pandasai) (8.18.0)\n",
      "Requirement already satisfied: matplotlib<4.0.0,>=3.7.1 in c:\\users\\srnadimp\\anaconda3\\lib\\site-packages (from pandasai) (3.8.2)\n",
      "Requirement already satisfied: openai<2.0.0,>=1.0.0 in c:\\users\\srnadimp\\anaconda3\\lib\\site-packages (from pandasai) (1.3.5)\n",
      "Requirement already satisfied: pandas==1.5.3 in c:\\users\\srnadimp\\anaconda3\\lib\\site-packages (from pandasai) (1.5.3)\n",
      "Requirement already satisfied: pillow<11.0.0,>=10.1.0 in c:\\users\\srnadimp\\anaconda3\\lib\\site-packages (from pandasai) (10.1.0)\n",
      "Requirement already satisfied: pydantic<2,>=1 in c:\\users\\srnadimp\\anaconda3\\lib\\site-packages (from pandasai) (1.9.2)\n",
      "Requirement already satisfied: python-dotenv<2.0.0,>=1.0.0 in c:\\users\\srnadimp\\anaconda3\\lib\\site-packages (from pandasai) (1.0.0)\n",
      "Requirement already satisfied: scipy<2.0.0,>=1.9.0 in c:\\users\\srnadimp\\anaconda3\\lib\\site-packages (from pandasai) (1.9.1)\n",
      "Requirement already satisfied: sqlalchemy<2.0.0,>=1.4.49 in c:\\users\\srnadimp\\anaconda3\\lib\\site-packages (from pandasai) (1.4.50)\n",
      "Requirement already satisfied: python-dateutil>=2.8.1 in c:\\users\\srnadimp\\anaconda3\\lib\\site-packages (from pandas==1.5.3->pandasai) (2.8.2)\n",
      "Requirement already satisfied: pytz>=2020.1 in c:\\users\\srnadimp\\anaconda3\\lib\\site-packages (from pandas==1.5.3->pandasai) (2022.7.1)\n",
      "Requirement already satisfied: numpy>=1.20.3 in c:\\users\\srnadimp\\anaconda3\\lib\\site-packages (from pandas==1.5.3->pandasai) (1.23.3)\n",
      "Requirement already satisfied: decorator in c:\\users\\srnadimp\\anaconda3\\lib\\site-packages (from ipython<9.0.0,>=8.13.1->pandasai) (5.1.1)\n",
      "Requirement already satisfied: jedi>=0.16 in c:\\users\\srnadimp\\anaconda3\\lib\\site-packages (from ipython<9.0.0,>=8.13.1->pandasai) (0.18.1)\n",
      "Requirement already satisfied: matplotlib-inline in c:\\users\\srnadimp\\anaconda3\\lib\\site-packages (from ipython<9.0.0,>=8.13.1->pandasai) (0.1.2)\n",
      "Requirement already satisfied: prompt-toolkit!=3.0.37,<3.1.0,>=3.0.30 in c:\\users\\srnadimp\\anaconda3\\lib\\site-packages (from ipython<9.0.0,>=8.13.1->pandasai) (3.0.41)\n",
      "Requirement already satisfied: pygments>=2.4.0 in c:\\users\\srnadimp\\anaconda3\\lib\\site-packages (from ipython<9.0.0,>=8.13.1->pandasai) (2.13.0)\n",
      "Requirement already satisfied: stack-data in c:\\users\\srnadimp\\anaconda3\\lib\\site-packages (from ipython<9.0.0,>=8.13.1->pandasai) (0.2.0)\n",
      "Requirement already satisfied: traitlets>=5 in c:\\users\\srnadimp\\anaconda3\\lib\\site-packages (from ipython<9.0.0,>=8.13.1->pandasai) (5.1.1)\n",
      "Requirement already satisfied: typing-extensions in c:\\users\\srnadimp\\anaconda3\\lib\\site-packages (from ipython<9.0.0,>=8.13.1->pandasai) (4.8.0)\n",
      "Requirement already satisfied: exceptiongroup in c:\\users\\srnadimp\\anaconda3\\lib\\site-packages (from ipython<9.0.0,>=8.13.1->pandasai) (1.2.0)\n",
      "Requirement already satisfied: colorama in c:\\users\\srnadimp\\anaconda3\\lib\\site-packages (from ipython<9.0.0,>=8.13.1->pandasai) (0.4.5)\n",
      "Requirement already satisfied: contourpy>=1.0.1 in c:\\users\\srnadimp\\anaconda3\\lib\\site-packages (from matplotlib<4.0.0,>=3.7.1->pandasai) (1.0.5)\n",
      "Requirement already satisfied: cycler>=0.10 in c:\\users\\srnadimp\\anaconda3\\lib\\site-packages (from matplotlib<4.0.0,>=3.7.1->pandasai) (0.11.0)\n",
      "Requirement already satisfied: fonttools>=4.22.0 in c:\\users\\srnadimp\\anaconda3\\lib\\site-packages (from matplotlib<4.0.0,>=3.7.1->pandasai) (4.37.4)\n",
      "Requirement already satisfied: kiwisolver>=1.3.1 in c:\\users\\srnadimp\\anaconda3\\lib\\site-packages (from matplotlib<4.0.0,>=3.7.1->pandasai) (1.4.4)\n",
      "Requirement already satisfied: packaging>=20.0 in c:\\users\\srnadimp\\anaconda3\\lib\\site-packages (from matplotlib<4.0.0,>=3.7.1->pandasai) (21.3)\n",
      "Requirement already satisfied: pyparsing>=2.3.1 in c:\\users\\srnadimp\\anaconda3\\lib\\site-packages (from matplotlib<4.0.0,>=3.7.1->pandasai) (3.0.9)\n",
      "Requirement already satisfied: importlib-resources>=3.2.0 in c:\\users\\srnadimp\\anaconda3\\lib\\site-packages (from matplotlib<4.0.0,>=3.7.1->pandasai) (5.9.0)\n",
      "Requirement already satisfied: anyio<4,>=3.5.0 in c:\\users\\srnadimp\\anaconda3\\lib\\site-packages (from openai<2.0.0,>=1.0.0->pandasai) (3.5.0)\n",
      "Requirement already satisfied: distro<2,>=1.7.0 in c:\\users\\srnadimp\\anaconda3\\lib\\site-packages (from openai<2.0.0,>=1.0.0->pandasai) (1.8.0)\n",
      "Requirement already satisfied: httpx<1,>=0.23.0 in c:\\users\\srnadimp\\anaconda3\\lib\\site-packages (from openai<2.0.0,>=1.0.0->pandasai) (0.25.0)\n",
      "Requirement already satisfied: tqdm>4 in c:\\users\\srnadimp\\anaconda3\\lib\\site-packages (from openai<2.0.0,>=1.0.0->pandasai) (4.64.0)\n",
      "Requirement already satisfied: greenlet!=0.4.17 in c:\\users\\srnadimp\\anaconda3\\lib\\site-packages (from sqlalchemy<2.0.0,>=1.4.49->pandasai) (1.1.1)\n",
      "Requirement already satisfied: idna>=2.8 in c:\\users\\srnadimp\\anaconda3\\lib\\site-packages (from anyio<4,>=3.5.0->openai<2.0.0,>=1.0.0->pandasai) (3.4)\n",
      "Requirement already satisfied: sniffio>=1.1 in c:\\users\\srnadimp\\anaconda3\\lib\\site-packages (from anyio<4,>=3.5.0->openai<2.0.0,>=1.0.0->pandasai) (1.2.0)\n",
      "Requirement already satisfied: certifi in c:\\users\\srnadimp\\anaconda3\\lib\\site-packages (from httpx<1,>=0.23.0->openai<2.0.0,>=1.0.0->pandasai) (2023.7.22)\n",
      "Requirement already satisfied: httpcore<0.19.0,>=0.18.0 in c:\\users\\srnadimp\\anaconda3\\lib\\site-packages (from httpx<1,>=0.23.0->openai<2.0.0,>=1.0.0->pandasai) (0.18.0)\n",
      "Requirement already satisfied: zipp>=3.1.0 in c:\\users\\srnadimp\\anaconda3\\lib\\site-packages (from importlib-resources>=3.2.0->matplotlib<4.0.0,>=3.7.1->pandasai) (3.8.1)\n",
      "Requirement already satisfied: parso<0.9.0,>=0.8.0 in c:\\users\\srnadimp\\anaconda3\\lib\\site-packages (from jedi>=0.16->ipython<9.0.0,>=8.13.1->pandasai) (0.8.3)\n",
      "Requirement already satisfied: wcwidth in c:\\users\\srnadimp\\anaconda3\\lib\\site-packages (from prompt-toolkit!=3.0.37,<3.1.0,>=3.0.30->ipython<9.0.0,>=8.13.1->pandasai) (0.2.5)\n",
      "Requirement already satisfied: six>=1.5 in c:\\users\\srnadimp\\anaconda3\\lib\\site-packages (from python-dateutil>=2.8.1->pandas==1.5.3->pandasai) (1.16.0)\n",
      "Requirement already satisfied: executing in c:\\users\\srnadimp\\anaconda3\\lib\\site-packages (from stack-data->ipython<9.0.0,>=8.13.1->pandasai) (0.8.3)\n",
      "Requirement already satisfied: asttokens in c:\\users\\srnadimp\\anaconda3\\lib\\site-packages (from stack-data->ipython<9.0.0,>=8.13.1->pandasai) (2.0.5)\n",
      "Requirement already satisfied: pure-eval in c:\\users\\srnadimp\\anaconda3\\lib\\site-packages (from stack-data->ipython<9.0.0,>=8.13.1->pandasai) (0.2.2)\n",
      "Requirement already satisfied: h11<0.15,>=0.13 in c:\\users\\srnadimp\\anaconda3\\lib\\site-packages (from httpcore<0.19.0,>=0.18.0->httpx<1,>=0.23.0->openai<2.0.0,>=1.0.0->pandasai) (0.14.0)\n"
     ]
    },
    {
     "name": "stderr",
     "output_type": "stream",
     "text": [
      "WARNING: Ignoring invalid distribution -pencv-python-headless (c:\\users\\srnadimp\\anaconda3\\lib\\site-packages)\n",
      "WARNING: Ignoring invalid distribution -treamlit (c:\\users\\srnadimp\\anaconda3\\lib\\site-packages)\n",
      "WARNING: Ignoring invalid distribution -pencv-python-headless (c:\\users\\srnadimp\\anaconda3\\lib\\site-packages)\n",
      "WARNING: Ignoring invalid distribution -treamlit (c:\\users\\srnadimp\\anaconda3\\lib\\site-packages)\n",
      "WARNING: There was an error checking the latest version of pip.\n"
     ]
    },
    {
     "name": "stdout",
     "output_type": "stream",
     "text": [
      "Requirement already satisfied: faiss-cpu in c:\\users\\srnadimp\\anaconda3\\lib\\site-packages (1.7.4)\n"
     ]
    },
    {
     "name": "stderr",
     "output_type": "stream",
     "text": [
      "WARNING: Ignoring invalid distribution -pencv-python-headless (c:\\users\\srnadimp\\anaconda3\\lib\\site-packages)\n",
      "WARNING: Ignoring invalid distribution -treamlit (c:\\users\\srnadimp\\anaconda3\\lib\\site-packages)\n",
      "WARNING: Ignoring invalid distribution -pencv-python-headless (c:\\users\\srnadimp\\anaconda3\\lib\\site-packages)\n",
      "WARNING: Ignoring invalid distribution -treamlit (c:\\users\\srnadimp\\anaconda3\\lib\\site-packages)\n",
      "WARNING: There was an error checking the latest version of pip.\n"
     ]
    }
   ],
   "source": [
    "!pip install openai\n",
    "#%pip install semantic-link\n",
    "!pip install langchain\n",
    "!pip install pandasai\n",
    "!pip install faiss-cpu"
   ]
  },
  {
   "cell_type": "code",
   "execution_count": 16,
   "metadata": {},
   "outputs": [
    {
     "ename": "NameError",
     "evalue": "name 'python' is not defined",
     "output_type": "error",
     "traceback": [
      "\u001b[1;31m---------------------------------------------------------------------------\u001b[0m",
      "\u001b[1;31mNameError\u001b[0m                                 Traceback (most recent call last)",
      "Input \u001b[1;32mIn [16]\u001b[0m, in \u001b[0;36m<cell line: 1>\u001b[1;34m()\u001b[0m\n\u001b[1;32m----> 1\u001b[0m \u001b[43mpython\u001b[49m \u001b[38;5;241m-\u001b[39m\u001b[38;5;241m-\u001b[39mversion\n",
      "\u001b[1;31mNameError\u001b[0m: name 'python' is not defined"
     ]
    }
   ],
   "source": [
    "#3.10.3"
   ]
  },
  {
   "cell_type": "code",
   "execution_count": 11,
   "metadata": {},
   "outputs": [
    {
     "name": "stdout",
     "output_type": "stream",
     "text": [
      "Requirement already satisfied: langchain in c:\\users\\srnadimp\\anaconda3\\lib\\site-packages (0.0.340)\n",
      "Requirement already satisfied: PyYAML>=5.3 in c:\\users\\srnadimp\\anaconda3\\lib\\site-packages (from langchain) (6.0)\n",
      "Requirement already satisfied: SQLAlchemy<3,>=1.4 in c:\\users\\srnadimp\\anaconda3\\lib\\site-packages (from langchain) (1.4.50)\n",
      "Requirement already satisfied: aiohttp<4.0.0,>=3.8.3 in c:\\users\\srnadimp\\anaconda3\\lib\\site-packages (from langchain) (3.9.1)\n",
      "Requirement already satisfied: anyio<4.0 in c:\\users\\srnadimp\\anaconda3\\lib\\site-packages (from langchain) (3.5.0)\n",
      "Requirement already satisfied: async-timeout<5.0.0,>=4.0.0 in c:\\users\\srnadimp\\anaconda3\\lib\\site-packages (from langchain) (4.0.1)\n",
      "Requirement already satisfied: dataclasses-json<0.7,>=0.5.7 in c:\\users\\srnadimp\\anaconda3\\lib\\site-packages (from langchain) (0.6.2)\n",
      "Requirement already satisfied: jsonpatch<2.0,>=1.33 in c:\\users\\srnadimp\\anaconda3\\lib\\site-packages (from langchain) (1.33)\n",
      "Requirement already satisfied: langsmith<0.1.0,>=0.0.63 in c:\\users\\srnadimp\\anaconda3\\lib\\site-packages (from langchain) (0.0.66)\n",
      "Requirement already satisfied: numpy<2,>=1 in c:\\users\\srnadimp\\anaconda3\\lib\\site-packages (from langchain) (1.23.3)\n",
      "Requirement already satisfied: pydantic<3,>=1 in c:\\users\\srnadimp\\anaconda3\\lib\\site-packages (from langchain) (1.9.2)\n",
      "Requirement already satisfied: requests<3,>=2 in c:\\users\\srnadimp\\anaconda3\\lib\\site-packages (from langchain) (2.28.1)\n",
      "Requirement already satisfied: tenacity<9.0.0,>=8.1.0 in c:\\users\\srnadimp\\anaconda3\\lib\\site-packages (from langchain) (8.2.3)\n",
      "Requirement already satisfied: attrs>=17.3.0 in c:\\users\\srnadimp\\anaconda3\\lib\\site-packages (from aiohttp<4.0.0,>=3.8.3->langchain) (22.1.0)\n",
      "Requirement already satisfied: multidict<7.0,>=4.5 in c:\\users\\srnadimp\\anaconda3\\lib\\site-packages (from aiohttp<4.0.0,>=3.8.3->langchain) (5.1.0)\n",
      "Requirement already satisfied: yarl<2.0,>=1.0 in c:\\users\\srnadimp\\anaconda3\\lib\\site-packages (from aiohttp<4.0.0,>=3.8.3->langchain) (1.6.3)\n",
      "Requirement already satisfied: frozenlist>=1.1.1 in c:\\users\\srnadimp\\anaconda3\\lib\\site-packages (from aiohttp<4.0.0,>=3.8.3->langchain) (1.2.0)\n",
      "Requirement already satisfied: aiosignal>=1.1.2 in c:\\users\\srnadimp\\anaconda3\\lib\\site-packages (from aiohttp<4.0.0,>=3.8.3->langchain) (1.2.0)\n",
      "Requirement already satisfied: idna>=2.8 in c:\\users\\srnadimp\\anaconda3\\lib\\site-packages (from anyio<4.0->langchain) (3.4)\n",
      "Requirement already satisfied: sniffio>=1.1 in c:\\users\\srnadimp\\anaconda3\\lib\\site-packages (from anyio<4.0->langchain) (1.2.0)\n",
      "Requirement already satisfied: typing-extensions>=3.6.5 in c:\\users\\srnadimp\\anaconda3\\lib\\site-packages (from async-timeout<5.0.0,>=4.0.0->langchain) (4.8.0)\n",
      "Note: you may need to restart the kernel to use updated packages.Requirement already satisfied: marshmallow<4.0.0,>=3.18.0 in c:\\users\\srnadimp\\anaconda3\\lib\\site-packages (from dataclasses-json<0.7,>=0.5.7->langchain) (3.20.1)\n",
      "Requirement already satisfied: typing-inspect<1,>=0.4.0 in c:\\users\\srnadimp\\anaconda3\\lib\\site-packages (from dataclasses-json<0.7,>=0.5.7->langchain) (0.9.0)\n",
      "Requirement already satisfied: jsonpointer>=1.9 in c:\\users\\srnadimp\\anaconda3\\lib\\site-packages (from jsonpatch<2.0,>=1.33->langchain) (2.4)\n",
      "Requirement already satisfied: charset-normalizer<3,>=2 in c:\\users\\srnadimp\\anaconda3\\lib\\site-packages (from requests<3,>=2->langchain) (2.1.1)\n",
      "Requirement already satisfied: urllib3<1.27,>=1.21.1 in c:\\users\\srnadimp\\anaconda3\\lib\\site-packages (from requests<3,>=2->langchain) (1.26.12)\n",
      "Requirement already satisfied: certifi>=2017.4.17 in c:\\users\\srnadimp\\anaconda3\\lib\\site-packages (from requests<3,>=2->langchain) (2023.7.22)\n",
      "Requirement already satisfied: greenlet!=0.4.17 in c:\\users\\srnadimp\\anaconda3\\lib\\site-packages (from SQLAlchemy<3,>=1.4->langchain) (1.1.1)\n",
      "\n"
     ]
    },
    {
     "name": "stderr",
     "output_type": "stream",
     "text": [
      "WARNING: Ignoring invalid distribution -pencv-python-headless (c:\\users\\srnadimp\\anaconda3\\lib\\site-packages)\n",
      "WARNING: Ignoring invalid distribution -treamlit (c:\\users\\srnadimp\\anaconda3\\lib\\site-packages)\n",
      "WARNING: Ignoring invalid distribution -pencv-python-headless (c:\\users\\srnadimp\\anaconda3\\lib\\site-packages)\n",
      "WARNING: Ignoring invalid distribution -treamlit (c:\\users\\srnadimp\\anaconda3\\lib\\site-packages)\n",
      "WARNING: There was an error checking the latest version of pip.\n"
     ]
    },
    {
     "name": "stdout",
     "output_type": "stream",
     "text": [
      "Requirement already satisfied: packaging>=17.0 in c:\\users\\srnadimp\\anaconda3\\lib\\site-packages (from marshmallow<4.0.0,>=3.18.0->dataclasses-json<0.7,>=0.5.7->langchain) (21.3)\n",
      "Requirement already satisfied: mypy-extensions>=0.3.0 in c:\\users\\srnadimp\\anaconda3\\lib\\site-packages (from typing-inspect<1,>=0.4.0->dataclasses-json<0.7,>=0.5.7->langchain) (0.4.3)\n",
      "Requirement already satisfied: pyparsing!=3.0.5,>=2.0.2 in c:\\users\\srnadimp\\anaconda3\\lib\\site-packages (from packaging>=17.0->marshmallow<4.0.0,>=3.18.0->dataclasses-json<0.7,>=0.5.7->langchain) (3.0.9)\n"
     ]
    }
   ],
   "source": [
    "pip install --upgrade langchain"
   ]
  },
  {
   "cell_type": "code",
   "execution_count": 12,
   "metadata": {},
   "outputs": [
    {
     "ename": "TypeError",
     "evalue": "issubclass() arg 1 must be a class",
     "output_type": "error",
     "traceback": [
      "\u001b[1;31m---------------------------------------------------------------------------\u001b[0m",
      "\u001b[1;31mTypeError\u001b[0m                                 Traceback (most recent call last)",
      "Input \u001b[1;32mIn [12]\u001b[0m, in \u001b[0;36m<cell line: 1>\u001b[1;34m()\u001b[0m\n\u001b[1;32m----> 1\u001b[0m \u001b[38;5;28;01mfrom\u001b[39;00m \u001b[38;5;21;01mlangchain\u001b[39;00m\u001b[38;5;21;01m.\u001b[39;00m\u001b[38;5;21;01mtext_splitter\u001b[39;00m \u001b[38;5;28;01mimport\u001b[39;00m CharacterTextSplitter\n\u001b[0;32m      2\u001b[0m \u001b[38;5;28;01mfrom\u001b[39;00m \u001b[38;5;21;01mlangchain\u001b[39;00m\u001b[38;5;21;01m.\u001b[39;00m\u001b[38;5;21;01mvectorstores\u001b[39;00m\u001b[38;5;21;01m.\u001b[39;00m\u001b[38;5;21;01mfaiss\u001b[39;00m \u001b[38;5;28;01mimport\u001b[39;00m FAISS\n\u001b[0;32m      3\u001b[0m \u001b[38;5;28;01mfrom\u001b[39;00m \u001b[38;5;21;01mlangchain\u001b[39;00m\u001b[38;5;21;01m.\u001b[39;00m\u001b[38;5;21;01membeddings\u001b[39;00m \u001b[38;5;28;01mimport\u001b[39;00m OpenAIEmbeddings, AzureOpenAIEmbeddings\n",
      "File \u001b[1;32m~\\Anaconda3\\lib\\site-packages\\langchain\\text_splitter.py:55\u001b[0m, in \u001b[0;36m<module>\u001b[1;34m\u001b[0m\n\u001b[0;32m     34\u001b[0m \u001b[38;5;28;01mfrom\u001b[39;00m \u001b[38;5;21;01mtyping\u001b[39;00m \u001b[38;5;28;01mimport\u001b[39;00m (\n\u001b[0;32m     35\u001b[0m     AbstractSet,\n\u001b[0;32m     36\u001b[0m     Any,\n\u001b[1;32m   (...)\u001b[0m\n\u001b[0;32m     50\u001b[0m     cast,\n\u001b[0;32m     51\u001b[0m )\n\u001b[0;32m     53\u001b[0m \u001b[38;5;28;01mimport\u001b[39;00m \u001b[38;5;21;01mrequests\u001b[39;00m\n\u001b[1;32m---> 55\u001b[0m \u001b[38;5;28;01mfrom\u001b[39;00m \u001b[38;5;21;01mlangchain\u001b[39;00m\u001b[38;5;21;01m.\u001b[39;00m\u001b[38;5;21;01mdocstore\u001b[39;00m\u001b[38;5;21;01m.\u001b[39;00m\u001b[38;5;21;01mdocument\u001b[39;00m \u001b[38;5;28;01mimport\u001b[39;00m Document\n\u001b[0;32m     56\u001b[0m \u001b[38;5;28;01mfrom\u001b[39;00m \u001b[38;5;21;01mlangchain\u001b[39;00m\u001b[38;5;21;01m.\u001b[39;00m\u001b[38;5;21;01mschema\u001b[39;00m \u001b[38;5;28;01mimport\u001b[39;00m BaseDocumentTransformer\n\u001b[0;32m     58\u001b[0m logger \u001b[38;5;241m=\u001b[39m logging\u001b[38;5;241m.\u001b[39mgetLogger(\u001b[38;5;18m__name__\u001b[39m)\n",
      "File \u001b[1;32m~\\Anaconda3\\lib\\site-packages\\langchain\\docstore\\__init__.py:17\u001b[0m, in \u001b[0;36m<module>\u001b[1;34m\u001b[0m\n\u001b[0;32m      1\u001b[0m \u001b[38;5;124;03m\"\"\"**Docstores** are classes to store and load Documents.\u001b[39;00m\n\u001b[0;32m      2\u001b[0m \n\u001b[0;32m      3\u001b[0m \u001b[38;5;124;03mThe **Docstore** is a simplified version of the Document Loader.\u001b[39;00m\n\u001b[1;32m   (...)\u001b[0m\n\u001b[0;32m     15\u001b[0m \u001b[38;5;124;03m    Document, AddableMixin\u001b[39;00m\n\u001b[0;32m     16\u001b[0m \u001b[38;5;124;03m\"\"\"\u001b[39;00m\n\u001b[1;32m---> 17\u001b[0m \u001b[38;5;28;01mfrom\u001b[39;00m \u001b[38;5;21;01mlangchain\u001b[39;00m\u001b[38;5;21;01m.\u001b[39;00m\u001b[38;5;21;01mdocstore\u001b[39;00m\u001b[38;5;21;01m.\u001b[39;00m\u001b[38;5;21;01marbitrary_fn\u001b[39;00m \u001b[38;5;28;01mimport\u001b[39;00m DocstoreFn\n\u001b[0;32m     18\u001b[0m \u001b[38;5;28;01mfrom\u001b[39;00m \u001b[38;5;21;01mlangchain\u001b[39;00m\u001b[38;5;21;01m.\u001b[39;00m\u001b[38;5;21;01mdocstore\u001b[39;00m\u001b[38;5;21;01m.\u001b[39;00m\u001b[38;5;21;01min_memory\u001b[39;00m \u001b[38;5;28;01mimport\u001b[39;00m InMemoryDocstore\n\u001b[0;32m     19\u001b[0m \u001b[38;5;28;01mfrom\u001b[39;00m \u001b[38;5;21;01mlangchain\u001b[39;00m\u001b[38;5;21;01m.\u001b[39;00m\u001b[38;5;21;01mdocstore\u001b[39;00m\u001b[38;5;21;01m.\u001b[39;00m\u001b[38;5;21;01mwikipedia\u001b[39;00m \u001b[38;5;28;01mimport\u001b[39;00m Wikipedia\n",
      "File \u001b[1;32m~\\Anaconda3\\lib\\site-packages\\langchain\\docstore\\arbitrary_fn.py:3\u001b[0m, in \u001b[0;36m<module>\u001b[1;34m\u001b[0m\n\u001b[0;32m      1\u001b[0m \u001b[38;5;28;01mfrom\u001b[39;00m \u001b[38;5;21;01mtyping\u001b[39;00m \u001b[38;5;28;01mimport\u001b[39;00m Callable, Union\n\u001b[1;32m----> 3\u001b[0m \u001b[38;5;28;01mfrom\u001b[39;00m \u001b[38;5;21;01mlangchain\u001b[39;00m\u001b[38;5;21;01m.\u001b[39;00m\u001b[38;5;21;01mdocstore\u001b[39;00m\u001b[38;5;21;01m.\u001b[39;00m\u001b[38;5;21;01mbase\u001b[39;00m \u001b[38;5;28;01mimport\u001b[39;00m Docstore\n\u001b[0;32m      4\u001b[0m \u001b[38;5;28;01mfrom\u001b[39;00m \u001b[38;5;21;01mlangchain\u001b[39;00m\u001b[38;5;21;01m.\u001b[39;00m\u001b[38;5;21;01mschema\u001b[39;00m \u001b[38;5;28;01mimport\u001b[39;00m Document\n\u001b[0;32m      7\u001b[0m \u001b[38;5;28;01mclass\u001b[39;00m \u001b[38;5;21;01mDocstoreFn\u001b[39;00m(Docstore):\n",
      "File \u001b[1;32m~\\Anaconda3\\lib\\site-packages\\langchain\\docstore\\base.py:5\u001b[0m, in \u001b[0;36m<module>\u001b[1;34m\u001b[0m\n\u001b[0;32m      2\u001b[0m \u001b[38;5;28;01mfrom\u001b[39;00m \u001b[38;5;21;01mabc\u001b[39;00m \u001b[38;5;28;01mimport\u001b[39;00m ABC, abstractmethod\n\u001b[0;32m      3\u001b[0m \u001b[38;5;28;01mfrom\u001b[39;00m \u001b[38;5;21;01mtyping\u001b[39;00m \u001b[38;5;28;01mimport\u001b[39;00m Dict, List, Union\n\u001b[1;32m----> 5\u001b[0m \u001b[38;5;28;01mfrom\u001b[39;00m \u001b[38;5;21;01mlangchain\u001b[39;00m\u001b[38;5;21;01m.\u001b[39;00m\u001b[38;5;21;01mdocstore\u001b[39;00m\u001b[38;5;21;01m.\u001b[39;00m\u001b[38;5;21;01mdocument\u001b[39;00m \u001b[38;5;28;01mimport\u001b[39;00m Document\n\u001b[0;32m      8\u001b[0m \u001b[38;5;28;01mclass\u001b[39;00m \u001b[38;5;21;01mDocstore\u001b[39;00m(ABC):\n\u001b[0;32m      9\u001b[0m     \u001b[38;5;124;03m\"\"\"Interface to access to place that stores documents.\"\"\"\u001b[39;00m\n",
      "File \u001b[1;32m~\\Anaconda3\\lib\\site-packages\\langchain\\docstore\\document.py:1\u001b[0m, in \u001b[0;36m<module>\u001b[1;34m\u001b[0m\n\u001b[1;32m----> 1\u001b[0m \u001b[38;5;28;01mfrom\u001b[39;00m \u001b[38;5;21;01mlangchain\u001b[39;00m\u001b[38;5;21;01m.\u001b[39;00m\u001b[38;5;21;01mschema\u001b[39;00m \u001b[38;5;28;01mimport\u001b[39;00m Document\n\u001b[0;32m      3\u001b[0m __all__ \u001b[38;5;241m=\u001b[39m [\u001b[38;5;124m\"\u001b[39m\u001b[38;5;124mDocument\u001b[39m\u001b[38;5;124m\"\u001b[39m]\n",
      "File \u001b[1;32m~\\Anaconda3\\lib\\site-packages\\langchain\\schema\\__init__.py:2\u001b[0m, in \u001b[0;36m<module>\u001b[1;34m\u001b[0m\n\u001b[0;32m      1\u001b[0m \u001b[38;5;124;03m\"\"\"**Schemas** are the LangChain Base Classes and Interfaces.\"\"\"\u001b[39;00m\n\u001b[1;32m----> 2\u001b[0m \u001b[38;5;28;01mfrom\u001b[39;00m \u001b[38;5;21;01mlangchain\u001b[39;00m\u001b[38;5;21;01m.\u001b[39;00m\u001b[38;5;21;01mschema\u001b[39;00m\u001b[38;5;21;01m.\u001b[39;00m\u001b[38;5;21;01magent\u001b[39;00m \u001b[38;5;28;01mimport\u001b[39;00m AgentAction, AgentFinish\n\u001b[0;32m      3\u001b[0m \u001b[38;5;28;01mfrom\u001b[39;00m \u001b[38;5;21;01mlangchain\u001b[39;00m\u001b[38;5;21;01m.\u001b[39;00m\u001b[38;5;21;01mschema\u001b[39;00m\u001b[38;5;21;01m.\u001b[39;00m\u001b[38;5;21;01mcache\u001b[39;00m \u001b[38;5;28;01mimport\u001b[39;00m BaseCache\n\u001b[0;32m      4\u001b[0m \u001b[38;5;28;01mfrom\u001b[39;00m \u001b[38;5;21;01mlangchain\u001b[39;00m\u001b[38;5;21;01m.\u001b[39;00m\u001b[38;5;21;01mschema\u001b[39;00m\u001b[38;5;21;01m.\u001b[39;00m\u001b[38;5;21;01mchat_history\u001b[39;00m \u001b[38;5;28;01mimport\u001b[39;00m BaseChatMessageHistory\n",
      "File \u001b[1;32m~\\Anaconda3\\lib\\site-packages\\langchain\\schema\\agent.py:9\u001b[0m, in \u001b[0;36m<module>\u001b[1;34m\u001b[0m\n\u001b[0;32m      5\u001b[0m \u001b[38;5;28;01mfrom\u001b[39;00m \u001b[38;5;21;01mlangchain\u001b[39;00m\u001b[38;5;21;01m.\u001b[39;00m\u001b[38;5;21;01mload\u001b[39;00m\u001b[38;5;21;01m.\u001b[39;00m\u001b[38;5;21;01mserializable\u001b[39;00m \u001b[38;5;28;01mimport\u001b[39;00m Serializable\n\u001b[0;32m      6\u001b[0m \u001b[38;5;28;01mfrom\u001b[39;00m \u001b[38;5;21;01mlangchain\u001b[39;00m\u001b[38;5;21;01m.\u001b[39;00m\u001b[38;5;21;01mschema\u001b[39;00m\u001b[38;5;21;01m.\u001b[39;00m\u001b[38;5;21;01mmessages\u001b[39;00m \u001b[38;5;28;01mimport\u001b[39;00m BaseMessage\n\u001b[1;32m----> 9\u001b[0m \u001b[38;5;28;01mclass\u001b[39;00m \u001b[38;5;21;01mAgentAction\u001b[39;00m(Serializable):\n\u001b[0;32m     10\u001b[0m     \u001b[38;5;124;03m\"\"\"A full description of an action for an ActionAgent to execute.\"\"\"\u001b[39;00m\n\u001b[0;32m     12\u001b[0m     tool: \u001b[38;5;28mstr\u001b[39m\n",
      "File \u001b[1;32m~\\Anaconda3\\lib\\site-packages\\pydantic\\main.py:205\u001b[0m, in \u001b[0;36mpydantic.main.ModelMetaclass.__new__\u001b[1;34m()\u001b[0m\n",
      "File \u001b[1;32m~\\Anaconda3\\lib\\site-packages\\pydantic\\fields.py:491\u001b[0m, in \u001b[0;36mpydantic.fields.ModelField.infer\u001b[1;34m()\u001b[0m\n",
      "File \u001b[1;32m~\\Anaconda3\\lib\\site-packages\\pydantic\\fields.py:421\u001b[0m, in \u001b[0;36mpydantic.fields.ModelField.__init__\u001b[1;34m()\u001b[0m\n",
      "File \u001b[1;32m~\\Anaconda3\\lib\\site-packages\\pydantic\\fields.py:537\u001b[0m, in \u001b[0;36mpydantic.fields.ModelField.prepare\u001b[1;34m()\u001b[0m\n",
      "File \u001b[1;32m~\\Anaconda3\\lib\\site-packages\\pydantic\\fields.py:641\u001b[0m, in \u001b[0;36mpydantic.fields.ModelField._type_analysis\u001b[1;34m()\u001b[0m\n",
      "File \u001b[1;32m~\\Anaconda3\\lib\\typing.py:852\u001b[0m, in \u001b[0;36m_SpecialGenericAlias.__subclasscheck__\u001b[1;34m(self, cls)\u001b[0m\n\u001b[0;32m    850\u001b[0m     \u001b[38;5;28;01mreturn\u001b[39;00m \u001b[38;5;28missubclass\u001b[39m(\u001b[38;5;28mcls\u001b[39m\u001b[38;5;241m.\u001b[39m__origin__, \u001b[38;5;28mself\u001b[39m\u001b[38;5;241m.\u001b[39m__origin__)\n\u001b[0;32m    851\u001b[0m \u001b[38;5;28;01mif\u001b[39;00m \u001b[38;5;129;01mnot\u001b[39;00m \u001b[38;5;28misinstance\u001b[39m(\u001b[38;5;28mcls\u001b[39m, _GenericAlias):\n\u001b[1;32m--> 852\u001b[0m     \u001b[38;5;28;01mreturn\u001b[39;00m \u001b[38;5;28;43missubclass\u001b[39;49m\u001b[43m(\u001b[49m\u001b[38;5;28;43mcls\u001b[39;49m\u001b[43m,\u001b[49m\u001b[43m \u001b[49m\u001b[38;5;28;43mself\u001b[39;49m\u001b[38;5;241;43m.\u001b[39;49m\u001b[43m__origin__\u001b[49m\u001b[43m)\u001b[49m\n\u001b[0;32m    853\u001b[0m \u001b[38;5;28;01mreturn\u001b[39;00m \u001b[38;5;28msuper\u001b[39m()\u001b[38;5;241m.\u001b[39m\u001b[38;5;21m__subclasscheck__\u001b[39m(\u001b[38;5;28mcls\u001b[39m)\n",
      "\u001b[1;31mTypeError\u001b[0m: issubclass() arg 1 must be a class"
     ]
    }
   ],
   "source": [
    "from langchain.text_splitter import CharacterTextSplitter\n",
    "from langchain.vectorstores.faiss import FAISS\n",
    "from langchain.embeddings import OpenAIEmbeddings, AzureOpenAIEmbeddings\n",
    "from langchain.chat_models import AzureChatOpenAI"
   ]
  },
  {
   "cell_type": "code",
   "execution_count": 2,
   "metadata": {},
   "outputs": [],
   "source": [
    "import os\n",
    "import openai\n",
    "#import sempy.fabric as fabric\n",
    "import pandas as pd"
   ]
  },
  {
   "cell_type": "code",
   "execution_count": 3,
   "metadata": {},
   "outputs": [],
   "source": [
    "os.environ[\"OPENAI_API_TYPE\"] = \"azure\"\n",
    " \n",
    "os.environ[\"OPENAI_API_KEY\"] = \"6ad08c8e58dd4de9985b86b1209d9cc2\"\n",
    " \n",
    "os.environ[\"OPENAI_API_BASE\"] = \"https://azureopenaitext.openai.azure.com/\"\n",
    " \n",
    "os.environ[\"OPENAI_API_VERSION\"] = \"2023-09-15-preview\""
   ]
  },
  {
   "cell_type": "code",
   "execution_count": 4,
   "metadata": {},
   "outputs": [],
   "source": [
    "openai.api_type = \"azure\"\n",
    "openai.api_base = \"https://azureopenaitext.openai.azure.com/\"\n",
    "openai.api_version = \"2023-09-15-preview\"\n",
    "openai.api_key = \"6ad08c8e58dd4de9985b86b1209d9cc2\""
   ]
  },
  {
   "cell_type": "code",
   "execution_count": 5,
   "metadata": {},
   "outputs": [],
   "source": [
    "def create_list_of_strings_from_a_DF(input_df):\n",
    "    combined_strings = []\n",
    "\n",
    "    for index, row in input_df.iterrows():\n",
    "        combined_string = '-'.join(row.astype(str))  # Combine values in the row with '-'\n",
    "        combined_strings.append(combined_string)\n",
    "\n",
    "    #print(combined_strings)\n",
    "    return combined_string\n",
    "\n",
    "def create_list_of_strings_of_a_column(df_column):\n",
    "    combined_strings = [f\"{index}: {value}\" for index, value in enumerate(df_column)]#, start=1)]\n",
    "    #combined_strings = df_column.tolist()\n",
    "    return combined_strings"
   ]
  },
  {
   "cell_type": "code",
   "execution_count": 6,
   "metadata": {},
   "outputs": [
    {
     "data": {
      "text/html": [
       "<div>\n",
       "<style scoped>\n",
       "    .dataframe tbody tr th:only-of-type {\n",
       "        vertical-align: middle;\n",
       "    }\n",
       "\n",
       "    .dataframe tbody tr th {\n",
       "        vertical-align: top;\n",
       "    }\n",
       "\n",
       "    .dataframe thead th {\n",
       "        text-align: right;\n",
       "    }\n",
       "</style>\n",
       "<table border=\"1\" class=\"dataframe\">\n",
       "  <thead>\n",
       "    <tr style=\"text-align: right;\">\n",
       "      <th></th>\n",
       "      <th>Report_Name</th>\n",
       "      <th>Page_Name</th>\n",
       "      <th>Title</th>\n",
       "      <th>Type</th>\n",
       "      <th>Columns</th>\n",
       "      <th>Description</th>\n",
       "    </tr>\n",
       "  </thead>\n",
       "  <tbody>\n",
       "    <tr>\n",
       "      <th>0</th>\n",
       "      <td>POC_Revenue Opportunities</td>\n",
       "      <td>Opportunity Overview</td>\n",
       "      <td>Revenue</td>\n",
       "      <td>card</td>\n",
       "      <td>Opportunity Revenue</td>\n",
       "      <td>The Power BI visual titled \"Revenue\" is a Card...</td>\n",
       "    </tr>\n",
       "    <tr>\n",
       "      <th>1</th>\n",
       "      <td>POC_Revenue Opportunities</td>\n",
       "      <td>Opportunity Overview</td>\n",
       "      <td>Count</td>\n",
       "      <td>card</td>\n",
       "      <td>Opportunity Count</td>\n",
       "      <td>The \"Count\" Power BI visual is a Card type vis...</td>\n",
       "    </tr>\n",
       "    <tr>\n",
       "      <th>2</th>\n",
       "      <td>POC_Revenue Opportunities</td>\n",
       "      <td>Opportunity Overview</td>\n",
       "      <td>Product Slicer</td>\n",
       "      <td>slicer</td>\n",
       "      <td>Product Code</td>\n",
       "      <td>The Power BI visual titled \"Product Slicer\" is...</td>\n",
       "    </tr>\n",
       "    <tr>\n",
       "      <th>3</th>\n",
       "      <td>POC_Revenue Opportunities</td>\n",
       "      <td>Opportunity Overview</td>\n",
       "      <td>Opportunity Count by Region</td>\n",
       "      <td>treemap</td>\n",
       "      <td>Region, State, Opportunity Count</td>\n",
       "      <td>The Power BI visual titled \"Opportunity Count ...</td>\n",
       "    </tr>\n",
       "    <tr>\n",
       "      <th>4</th>\n",
       "      <td>POC_Revenue Opportunities</td>\n",
       "      <td>Opportunity Overview</td>\n",
       "      <td>Revenue by State</td>\n",
       "      <td>filledMap</td>\n",
       "      <td>State, Revenue</td>\n",
       "      <td>The Power BI visual titled \"Revenue by State\" ...</td>\n",
       "    </tr>\n",
       "    <tr>\n",
       "      <th>5</th>\n",
       "      <td>POC_Revenue Opportunities</td>\n",
       "      <td>Opportunity Overview</td>\n",
       "      <td>Revenue and Opportunity Count by Month</td>\n",
       "      <td>lineStackedColumnComboChart</td>\n",
       "      <td>Month, Revenue, Opportunity Count</td>\n",
       "      <td>The Power BI visual titled \"Revenue and Opport...</td>\n",
       "    </tr>\n",
       "    <tr>\n",
       "      <th>6</th>\n",
       "      <td>POC_Revenue Opportunities</td>\n",
       "      <td>Opportunity Overview</td>\n",
       "      <td>Pipeline by Stage</td>\n",
       "      <td>barChart</td>\n",
       "      <td>Sales Stage, Opportunity Count</td>\n",
       "      <td>The Power BI visual titled \"Pipeline by Stage\"...</td>\n",
       "    </tr>\n",
       "    <tr>\n",
       "      <th>7</th>\n",
       "      <td>POC_Revenue Opportunities</td>\n",
       "      <td>Opportunity Overview</td>\n",
       "      <td>Revenue by Region and State</td>\n",
       "      <td>barChart</td>\n",
       "      <td>Region, State, Revenue</td>\n",
       "      <td>The Power BI visual titled \"Revenue by Region ...</td>\n",
       "    </tr>\n",
       "    <tr>\n",
       "      <th>8</th>\n",
       "      <td>POC_Revenue Opportunities</td>\n",
       "      <td>Detail</td>\n",
       "      <td>Matrix</td>\n",
       "      <td>pivotTable</td>\n",
       "      <td>Opportunity Size, Region, Partner, Opportuniti...</td>\n",
       "      <td>The Power BI visual titled \"Matrix\" is a dynam...</td>\n",
       "    </tr>\n",
       "  </tbody>\n",
       "</table>\n",
       "</div>"
      ],
      "text/plain": [
       "                 Report_Name             Page_Name  \\\n",
       "0  POC_Revenue Opportunities  Opportunity Overview   \n",
       "1  POC_Revenue Opportunities  Opportunity Overview   \n",
       "2  POC_Revenue Opportunities  Opportunity Overview   \n",
       "3  POC_Revenue Opportunities  Opportunity Overview   \n",
       "4  POC_Revenue Opportunities  Opportunity Overview   \n",
       "5  POC_Revenue Opportunities  Opportunity Overview   \n",
       "6  POC_Revenue Opportunities  Opportunity Overview   \n",
       "7  POC_Revenue Opportunities  Opportunity Overview   \n",
       "8  POC_Revenue Opportunities                Detail   \n",
       "\n",
       "                                    Title                         Type  \\\n",
       "0                                 Revenue                         card   \n",
       "1                                   Count                         card   \n",
       "2                          Product Slicer                       slicer   \n",
       "3             Opportunity Count by Region                      treemap   \n",
       "4                        Revenue by State                    filledMap   \n",
       "5  Revenue and Opportunity Count by Month  lineStackedColumnComboChart   \n",
       "6                       Pipeline by Stage                     barChart   \n",
       "7             Revenue by Region and State                     barChart   \n",
       "8                                  Matrix                   pivotTable   \n",
       "\n",
       "                                             Columns  \\\n",
       "0                                Opportunity Revenue   \n",
       "1                                  Opportunity Count   \n",
       "2                                       Product Code   \n",
       "3                   Region, State, Opportunity Count   \n",
       "4                                     State, Revenue   \n",
       "5                  Month, Revenue, Opportunity Count   \n",
       "6                     Sales Stage, Opportunity Count   \n",
       "7                             Region, State, Revenue   \n",
       "8  Opportunity Size, Region, Partner, Opportuniti...   \n",
       "\n",
       "                                         Description  \n",
       "0  The Power BI visual titled \"Revenue\" is a Card...  \n",
       "1  The \"Count\" Power BI visual is a Card type vis...  \n",
       "2  The Power BI visual titled \"Product Slicer\" is...  \n",
       "3  The Power BI visual titled \"Opportunity Count ...  \n",
       "4  The Power BI visual titled \"Revenue by State\" ...  \n",
       "5  The Power BI visual titled \"Revenue and Opport...  \n",
       "6  The Power BI visual titled \"Pipeline by Stage\"...  \n",
       "7  The Power BI visual titled \"Revenue by Region ...  \n",
       "8  The Power BI visual titled \"Matrix\" is a dynam...  "
      ]
     },
     "execution_count": 6,
     "metadata": {},
     "output_type": "execute_result"
    }
   ],
   "source": [
    "POC_Revenue_Opportunities_MasterData_df = pd.read_csv(r'PowerBI_Report_Metadata\\POC_Revenue_Opportunities_MasterData.csv',encoding=\"ISO-8859-1\")\n",
    "POC_Revenue_Opportunities_MasterData_df"
   ]
  },
  {
   "cell_type": "code",
   "execution_count": 7,
   "metadata": {},
   "outputs": [
    {
     "data": {
      "text/plain": [
       "['0: The Power BI visual titled \"Revenue\" is a Card type visualization designed to succinctly display key information related to business opportunities and their corresponding revenues. This visual primarily focuses on the \"Opportunity Revenue\" dataset, presenting a clear and concise representation of financial metrics associated with various business prospects. The visual is structured to provide at-a-glance insights, allowing users to quickly assess and comprehend the revenue generated from different opportunities. By leveraging the Card visualization type, this Power BI element streamlines the presentation of essential data, making it an effective tool for monitoring and analyzing the financial performance of individual opportunities within the broader business context.',\n",
       " '1: The \"Count\" Power BI visual is a Card type visualization designed to display crucial information related to opportunities. This visual specifically focuses on the \"Opportunity Count\" metric, providing a clear and concise representation of the total number of opportunities within the dataset. The simplicity of the Card visualization allows for quick comprehension of the key metric, making it an effective tool for users to assess and monitor the overall volume of opportunities at a glance. Whether used in sales, project management, or any other context where opportunity tracking is vital, the \"Count\" Card visual in Power BI offers a streamlined and visually appealing way to present the essential metric of Opportunity Count.',\n",
       " '2: The Power BI visual titled \"Product Slicer\" is a dynamic and interactive slicer designed to enhance data analysis by allowing users to filter information based on specific product criteria. This slicer type is specifically tailored to the \"Product Code\" column, enabling users to easily navigate and narrow down their focus within the dataset. With the Product Slicer, users can seamlessly slice and dice data, gaining a more granular understanding of their information by isolating relevant product codes. This visual empowers users to make precise and informed decisions, providing a user-friendly interface for efficient exploration of data related to different products.',\n",
       " '3: The Power BI visual titled \"Opportunity Count by Region\" is a treemap designed to visually represent data related to business opportunities across different geographical regions. The treemap is structured based on two key columns: \"Region\" and \"State.\" Each distinct region is represented by a colored tile, with the size of the tile corresponding to the magnitude of the \"Opportunity Count\" within that region. Additionally, within each region, individual states are further differentiated, providing a hierarchical view of the data. This visual enables users to quickly grasp the distribution of business opportunities, with larger tiles indicating regions or states with a higher count of opportunities. The color scheme enhances the visual appeal and aids in the intuitive interpretation of the data.',\n",
       " '4: The Power BI visual titled \"Revenue by State\" is a filled map that offers a comprehensive and visually intuitive representation of revenue distribution across different states. The visual is designed to showcase the financial performance of various regions, with a focus on the two key columns: \"State\" and \"Revenue.\" The map employs a color-filled gradient to highlight variations in revenue levels, allowing users to quickly discern patterns and identify high and low-performing states. The incorporation of state-specific data, coupled with the visually impactful filled map format, makes this Power BI visual an effective tool for analyzing and communicating regional revenue insights within a business or dataset.',\n",
       " '5: The Power BI visual titled \"Revenue and Opportunity Count by Month\" is a dynamic and insightful representation of data, designed as a lineStackedColumnComboChart. This visually engaging chart amalgamates two key metrics over time\\x97Revenue and Opportunity Count\\x97onto a single, comprehensive graph. The horizontal axis is delineated by the temporal dimension, with months serving as data points. The vertical axis is dual-purpose, accommodating both Revenue and Opportunity Count, allowing stakeholders to effortlessly discern patterns and correlations between these two vital business aspects. The Revenue is depicted through a line chart, providing a smooth, continuous representation, while the Opportunity Count is presented using stacked columns, enabling a clear understanding of the distribution and density of opportunities. This visualization facilitates a holistic view of the data, aiding decision-makers in recognizing trends, making informed assessments, and formulating strategic plans based on the juxtaposition of Revenue and Opportunity Count dynamics over the months.',\n",
       " '6: The Power BI visual titled \"Pipeline by Stage\" is a bar chart designed to visually represent crucial sales data. This dynamic visualization is structured with two essential columns: \"Sales Stage\" and \"Opportunity Count.\" The \"Sales Stage\" axis categorizes the various stages within the sales pipeline, offering a comprehensive view of the progression from initial leads to finalized opportunities. Meanwhile, the vertical bars correspond to the \"Opportunity Count\" for each respective stage, providing an intuitive and insightful representation of the distribution and magnitude of opportunities at each stage. This visual empowers users to quickly analyze and comprehend the distribution of opportunities throughout the sales pipeline, aiding in strategic decision-making and performance evaluation.',\n",
       " '7: The Power BI visual titled \"Revenue by Region and State\" is a bar chart designed to visually represent and analyze revenue data across different geographical levels. The chart is structured with two primary categorical axes: \"Region\" and \"State,\" allowing users to explore revenue variations at both regional and state-specific levels. The vertical bars in the chart correspond to the \"Revenue\" column, providing a clear and intuitive comparison of revenue values across the specified regions and states. This visual is instrumental in identifying trends, patterns, and disparities in revenue distribution, offering a comprehensive overview of financial performance within various geographic segments.',\n",
       " '8: The Power BI visual titled \"Matrix\" is a dynamic and interactive pivot table that facilitates comprehensive analysis of business data. This visual is structured to include key columns such as \"Opportunity Size,\" \"Region,\" \"Partner,\" \"Opportunities,\" \"Revenue,\" \"Factored Revenue,\" and \"Avg Revenue.\" Each row in the matrix represents a unique combination of these dimensions, allowing users to quickly grasp the distribution of opportunities and associated financial metrics across various regions, partners, and opportunity sizes. The \"Opportunities\" column presents the total number of opportunities, while \"Revenue\" and \"Factored Revenue\" provide insights into the overall and factored financial gains. Additionally, the \"Avg Revenue\" column delivers the average revenue per opportunity, aiding in assessing performance and identifying trends. The matrix\\'s interactive nature empowers users to customize their analysis, offering a powerful tool for strategic decision-making within the Power BI environment.']"
      ]
     },
     "execution_count": 7,
     "metadata": {},
     "output_type": "execute_result"
    }
   ],
   "source": [
    "embeddings_input = create_list_of_strings_of_a_column(POC_Revenue_Opportunities_MasterData_df['Description'])\n",
    "embeddings_input"
   ]
  },
  {
   "cell_type": "code",
   "execution_count": 8,
   "metadata": {},
   "outputs": [
    {
     "name": "stderr",
     "output_type": "stream",
     "text": [
      "c:\\Program Files\\Python310\\lib\\site-packages\\langchain\\embeddings\\azure_openai.py:105: UserWarning: As of openai>=1.0.0, Azure endpoints should be specified via the `azure_endpoint` param not `openai_api_base` (or alias `base_url`). Updating `openai_api_base` from https://azureopenaitext.openai.azure.com/ to https://azureopenaitext.openai.azure.com//openai.\n",
      "  warnings.warn(\n"
     ]
    }
   ],
   "source": [
    "embeddings = AzureOpenAIEmbeddings()#OpenAIEmbeddings()\n",
    "document_search = FAISS.from_texts(embeddings_input,embeddings)"
   ]
  },
  {
   "cell_type": "code",
   "execution_count": 14,
   "metadata": {},
   "outputs": [
    {
     "data": {
      "text/plain": [
       "[(Document(page_content='0: The Power BI visual titled \"Revenue\" is a Card type visualization designed to succinctly display key information related to business opportunities and their corresponding revenues. This visual primarily focuses on the \"Opportunity Revenue\" dataset, presenting a clear and concise representation of financial metrics associated with various business prospects. The visual is structured to provide at-a-glance insights, allowing users to quickly assess and comprehend the revenue generated from different opportunities. By leveraging the Card visualization type, this Power BI element streamlines the presentation of essential data, making it an effective tool for monitoring and analyzing the financial performance of individual opportunities within the broader business context.'),\n",
       "  0.36139494),\n",
       " (Document(page_content='4: The Power BI visual titled \"Revenue by State\" is a filled map that offers a comprehensive and visually intuitive representation of revenue distribution across different states. The visual is designed to showcase the financial performance of various regions, with a focus on the two key columns: \"State\" and \"Revenue.\" The map employs a color-filled gradient to highlight variations in revenue levels, allowing users to quickly discern patterns and identify high and low-performing states. The incorporation of state-specific data, coupled with the visually impactful filled map format, makes this Power BI visual an effective tool for analyzing and communicating regional revenue insights within a business or dataset.'),\n",
       "  0.38168943),\n",
       " (Document(page_content='5: The Power BI visual titled \"Revenue and Opportunity Count by Month\" is a dynamic and insightful representation of data, designed as a lineStackedColumnComboChart. This visually engaging chart amalgamates two key metrics over time\\x97Revenue and Opportunity Count\\x97onto a single, comprehensive graph. The horizontal axis is delineated by the temporal dimension, with months serving as data points. The vertical axis is dual-purpose, accommodating both Revenue and Opportunity Count, allowing stakeholders to effortlessly discern patterns and correlations between these two vital business aspects. The Revenue is depicted through a line chart, providing a smooth, continuous representation, while the Opportunity Count is presented using stacked columns, enabling a clear understanding of the distribution and density of opportunities. This visualization facilitates a holistic view of the data, aiding decision-makers in recognizing trends, making informed assessments, and formulating strategic plans based on the juxtaposition of Revenue and Opportunity Count dynamics over the months.'),\n",
       "  0.39063442),\n",
       " (Document(page_content='7: The Power BI visual titled \"Revenue by Region and State\" is a bar chart designed to visually represent and analyze revenue data across different geographical levels. The chart is structured with two primary categorical axes: \"Region\" and \"State,\" allowing users to explore revenue variations at both regional and state-specific levels. The vertical bars in the chart correspond to the \"Revenue\" column, providing a clear and intuitive comparison of revenue values across the specified regions and states. This visual is instrumental in identifying trends, patterns, and disparities in revenue distribution, offering a comprehensive overview of financial performance within various geographic segments.'),\n",
       "  0.39286077),\n",
       " (Document(page_content='8: The Power BI visual titled \"Matrix\" is a dynamic and interactive pivot table that facilitates comprehensive analysis of business data. This visual is structured to include key columns such as \"Opportunity Size,\" \"Region,\" \"Partner,\" \"Opportunities,\" \"Revenue,\" \"Factored Revenue,\" and \"Avg Revenue.\" Each row in the matrix represents a unique combination of these dimensions, allowing users to quickly grasp the distribution of opportunities and associated financial metrics across various regions, partners, and opportunity sizes. The \"Opportunities\" column presents the total number of opportunities, while \"Revenue\" and \"Factored Revenue\" provide insights into the overall and factored financial gains. Additionally, the \"Avg Revenue\" column delivers the average revenue per opportunity, aiding in assessing performance and identifying trends. The matrix\\'s interactive nature empowers users to customize their analysis, offering a powerful tool for strategic decision-making within the Power BI environment.'),\n",
       "  0.42828292),\n",
       " (Document(page_content='6: The Power BI visual titled \"Pipeline by Stage\" is a bar chart designed to visually represent crucial sales data. This dynamic visualization is structured with two essential columns: \"Sales Stage\" and \"Opportunity Count.\" The \"Sales Stage\" axis categorizes the various stages within the sales pipeline, offering a comprehensive view of the progression from initial leads to finalized opportunities. Meanwhile, the vertical bars correspond to the \"Opportunity Count\" for each respective stage, providing an intuitive and insightful representation of the distribution and magnitude of opportunities at each stage. This visual empowers users to quickly analyze and comprehend the distribution of opportunities throughout the sales pipeline, aiding in strategic decision-making and performance evaluation.'),\n",
       "  0.46107742),\n",
       " (Document(page_content='3: The Power BI visual titled \"Opportunity Count by Region\" is a treemap designed to visually represent data related to business opportunities across different geographical regions. The treemap is structured based on two key columns: \"Region\" and \"State.\" Each distinct region is represented by a colored tile, with the size of the tile corresponding to the magnitude of the \"Opportunity Count\" within that region. Additionally, within each region, individual states are further differentiated, providing a hierarchical view of the data. This visual enables users to quickly grasp the distribution of business opportunities, with larger tiles indicating regions or states with a higher count of opportunities. The color scheme enhances the visual appeal and aids in the intuitive interpretation of the data.'),\n",
       "  0.4637694),\n",
       " (Document(page_content='1: The \"Count\" Power BI visual is a Card type visualization designed to display crucial information related to opportunities. This visual specifically focuses on the \"Opportunity Count\" metric, providing a clear and concise representation of the total number of opportunities within the dataset. The simplicity of the Card visualization allows for quick comprehension of the key metric, making it an effective tool for users to assess and monitor the overall volume of opportunities at a glance. Whether used in sales, project management, or any other context where opportunity tracking is vital, the \"Count\" Card visual in Power BI offers a streamlined and visually appealing way to present the essential metric of Opportunity Count.'),\n",
       "  0.49018052),\n",
       " (Document(page_content='2: The Power BI visual titled \"Product Slicer\" is a dynamic and interactive slicer designed to enhance data analysis by allowing users to filter information based on specific product criteria. This slicer type is specifically tailored to the \"Product Code\" column, enabling users to easily navigate and narrow down their focus within the dataset. With the Product Slicer, users can seamlessly slice and dice data, gaining a more granular understanding of their information by isolating relevant product codes. This visual empowers users to make precise and informed decisions, providing a user-friendly interface for efficient exploration of data related to different products.'),\n",
       "  0.49797246)]"
      ]
     },
     "execution_count": 14,
     "metadata": {},
     "output_type": "execute_result"
    }
   ],
   "source": [
    "result = document_search.similarity_search_with_score('Revenue',len(embeddings_input))\n",
    "result"
   ]
  }
 ],
 "metadata": {
  "kernelspec": {
   "display_name": "Python 3 (ipykernel)",
   "language": "python",
   "name": "python3"
  },
  "language_info": {
   "codemirror_mode": {
    "name": "ipython",
    "version": 3
   },
   "file_extension": ".py",
   "mimetype": "text/x-python",
   "name": "python",
   "nbconvert_exporter": "python",
   "pygments_lexer": "ipython3",
   "version": "3.9.12"
  }
 },
 "nbformat": 4,
 "nbformat_minor": 2
}
