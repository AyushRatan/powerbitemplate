{
 "cells": [
  {
   "cell_type": "code",
   "execution_count": null,
   "id": "a6f5d50e",
   "metadata": {},
   "outputs": [],
   "source": [
    "# Notes : This notebook is all about digging through the powerbiclient and methods that are avaiable on top of reports.Later part consists of Nitin Code."
   ]
  },
  {
   "cell_type": "code",
   "execution_count": 1,
   "id": "b3bf4915",
   "metadata": {},
   "outputs": [],
   "source": [
    "from powerbiclient import Report, models"
   ]
  },
  {
   "cell_type": "code",
   "execution_count": 2,
   "id": "ddddaa55",
   "metadata": {},
   "outputs": [
    {
     "name": "stdout",
     "output_type": "stream",
     "text": [
      "A local browser window will open for interactive sign in.\n",
      "\n",
      "Interactive authentication successfully completed.\n",
      "You are now logged in.\n",
      "\n",
      "The result should be passed only to trusted code in your notebook.\n"
     ]
    }
   ],
   "source": [
    "from powerbiclient.authentication import InteractiveLoginAuthentication\n",
    "device_auth = InteractiveLoginAuthentication()"
   ]
  },
  {
   "cell_type": "code",
   "execution_count": 20,
   "id": "ce5c1773",
   "metadata": {},
   "outputs": [],
   "source": [
    "group_id = \"653fc201-df39-4f8d-9bb1-b9de4e2b03be\"\n",
    "report_id = \"e1ddb897-55aa-45d5-b27c-0aaaabdb649c\""
   ]
  },
  {
   "cell_type": "code",
   "execution_count": 21,
   "id": "65669559",
   "metadata": {},
   "outputs": [],
   "source": [
    "report = Report(group_id = group_id, report_id = report_id, auth = device_auth)"
   ]
  },
  {
   "cell_type": "code",
   "execution_count": 22,
   "id": "210d4a04",
   "metadata": {},
   "outputs": [
    {
     "data": {
      "application/vnd.jupyter.widget-view+json": {
       "model_id": "d578545e52244aa1a99d095e6832dfef",
       "version_major": 2,
       "version_minor": 0
      },
      "text/plain": [
       "Report()"
      ]
     },
     "metadata": {},
     "output_type": "display_data"
    }
   ],
   "source": [
    "report"
   ]
  },
  {
   "cell_type": "code",
   "execution_count": 6,
   "id": "58f58dac",
   "metadata": {},
   "outputs": [
    {
     "data": {
      "text/plain": [
       "[{'name': 'ReportSection',\n",
       "  'displayName': 'Opportunity Overview',\n",
       "  'isActive': True,\n",
       "  'visibility': 0,\n",
       "  'defaultSize': {'type': 0, 'width': 1280, 'height': 720},\n",
       "  'mobileSize': {'type': 5, 'width': 324, 'height': 1376},\n",
       "  'defaultDisplayOption': 0,\n",
       "  'background': {'color': '#D9D9D9', 'transparency': 0, 'hasImage': True},\n",
       "  'wallpaper': {'color': '#FFFFFF', 'transparency': 0, 'hasImage': False}},\n",
       " {'name': 'ReportSection9380eec50a2a0165bb4b',\n",
       "  'displayName': 'Detail',\n",
       "  'isActive': False,\n",
       "  'visibility': 0,\n",
       "  'defaultSize': {'type': 0, 'width': 1280, 'height': 720},\n",
       "  'mobileSize': {'type': 5, 'width': 324, 'height': 555},\n",
       "  'defaultDisplayOption': 0,\n",
       "  'background': None,\n",
       "  'wallpaper': None},\n",
       " {'name': 'ReportSectionf4c4d2dee7b9c36a1669',\n",
       "  'displayName': 'Tooltip',\n",
       "  'isActive': False,\n",
       "  'visibility': 1,\n",
       "  'defaultSize': {'width': 320, 'height': 240},\n",
       "  'mobileSize': None,\n",
       "  'defaultDisplayOption': 0,\n",
       "  'background': None,\n",
       "  'wallpaper': None}]"
      ]
     },
     "execution_count": 6,
     "metadata": {},
     "output_type": "execute_result"
    }
   ],
   "source": [
    "report.get_pages()"
   ]
  },
  {
   "cell_type": "code",
   "execution_count": 17,
   "id": "6a50b011",
   "metadata": {
    "scrolled": false
   },
   "outputs": [],
   "source": [
    "#report.visuals_on_page(\"ReportSection\")"
   ]
  },
  {
   "cell_type": "code",
   "execution_count": 54,
   "id": "e56b3b7a",
   "metadata": {},
   "outputs": [
    {
     "data": {
      "text/plain": [
       "[{'name': '19ecc2a10be572617037',\n",
       "  'title': 'Button',\n",
       "  'type': 'actionButton',\n",
       "  'layout': {'x': 1179.7802197802198,\n",
       "   'y': 696.2637362637363,\n",
       "   'z': 13000,\n",
       "   'width': 100.21978021978022,\n",
       "   'height': 23.736263736263737,\n",
       "   'displayState': {'mode': 0}}},\n",
       " {'name': '1076e6e6eb8147e9c530',\n",
       "  'title': 'Shape For Mobile',\n",
       "  'type': 'basicShape',\n",
       "  'layout': {'x': 592.896,\n",
       "   'y': 468.992,\n",
       "   'z': 2000,\n",
       "   'width': 12.288,\n",
       "   'height': 12.288,\n",
       "   'displayState': {'mode': 0}}},\n",
       " {'name': '6a3918d4d9b1969a9c03',\n",
       "  'title': 'Shape For Mobile',\n",
       "  'type': 'basicShape',\n",
       "  'layout': {'x': 210.944,\n",
       "   'y': 459.776,\n",
       "   'z': 1000,\n",
       "   'width': 12,\n",
       "   'height': 12,\n",
       "   'displayState': {'mode': 0}}},\n",
       " {'name': '34ae7fe26f8eacd4bd0d',\n",
       "  'title': 'Shape For Mobile',\n",
       "  'type': 'basicShape',\n",
       "  'layout': {'x': 220.944,\n",
       "   'y': 469.776,\n",
       "   'z': 0,\n",
       "   'width': 12,\n",
       "   'height': 12,\n",
       "   'displayState': {'mode': 0}}},\n",
       " {'name': 'bc3ae578283ca2bf2584',\n",
       "  'title': 'Shape For Mobile',\n",
       "  'type': 'basicShape',\n",
       "  'layout': {'x': 230.944,\n",
       "   'y': 479.776,\n",
       "   'z': 3000,\n",
       "   'width': 12,\n",
       "   'height': 12,\n",
       "   'displayState': {'mode': 0}}},\n",
       " {'name': 'VisualContainer1',\n",
       "  'title': 'BadHires by Gender',\n",
       "  'type': 'donutChart',\n",
       "  'layout': {'x': 36.043956043956044,\n",
       "   'y': 69.45054945054946,\n",
       "   'z': 4000,\n",
       "   'width': 284.83516483516485,\n",
       "   'height': 227.6923076923077,\n",
       "   'displayState': {'mode': 0}}},\n",
       " {'name': 'VisualContainer2',\n",
       "  'title': 'Bad Hires YoY % Change by Month and AgeGroup',\n",
       "  'type': 'lineChart',\n",
       "  'layout': {'x': 366.5934065934066,\n",
       "   'y': 69.45054945054946,\n",
       "   'z': 5000,\n",
       "   'width': 880.8791208791209,\n",
       "   'height': 227.6923076923077,\n",
       "   'displayState': {'mode': 0}}},\n",
       " {'name': 'VisualContainer3',\n",
       "  'title': 'BadHires by Region and Ethnicity',\n",
       "  'type': 'pivotTable',\n",
       "  'layout': {'x': 366.5934065934066,\n",
       "   'y': 338.46153846153845,\n",
       "   'z': 6000,\n",
       "   'width': 880.8791208791209,\n",
       "   'height': 348.13186813186815,\n",
       "   'displayState': {'mode': 0}}},\n",
       " {'name': 'VisualContainer5',\n",
       "  'title': 'BadHire%ofActives by AgeGroup',\n",
       "  'type': 'barChart',\n",
       "  'layout': {'x': 36.043956043956044,\n",
       "   'y': 338.46153846153845,\n",
       "   'z': 7000,\n",
       "   'width': 284.83516483516485,\n",
       "   'height': 348.13186813186815,\n",
       "   'displayState': {'mode': 0}}},\n",
       " {'name': '4753bcd838020a3ae279',\n",
       "  'title': 'SALES AND MARKETING',\n",
       "  'type': 'textbox',\n",
       "  'layout': {'x': 30,\n",
       "   'y': 13.846153846153845,\n",
       "   'z': 8000,\n",
       "   'width': 1150.3846153846152,\n",
       "   'height': 55.38461538461538,\n",
       "   'displayState': {'mode': 0}}},\n",
       " {'name': 'f7cf4a0527b52c31fa41',\n",
       "  'title': 'Shape',\n",
       "  'type': 'basicShape',\n",
       "  'layout': {'x': 1009.3919550982226,\n",
       "   'y': 391.54349859681946,\n",
       "   'z': 9000,\n",
       "   'width': 52.68475210477081,\n",
       "   'height': 17.96071094480823,\n",
       "   'displayState': {'mode': 1}}},\n",
       " {'name': 'dbdace5f8faf20db8717',\n",
       "  'title': 'Shape',\n",
       "  'type': 'basicShape',\n",
       "  'layout': {'x': 959.1019644527595,\n",
       "   'y': 262.22637979420017,\n",
       "   'z': 10000,\n",
       "   'width': 20.355472404115996,\n",
       "   'height': 124.52759588400373,\n",
       "   'displayState': {'mode': 1}}},\n",
       " {'name': '21e748bf2aa5e20ad9ca',\n",
       "  'title': 'Button',\n",
       "  'type': 'actionButton',\n",
       "  'layout': {'x': 0,\n",
       "   'y': 264.82758620689657,\n",
       "   'z': 11000,\n",
       "   'width': 29.038112522686024,\n",
       "   'height': 95.24500907441016,\n",
       "   'displayState': {'mode': 1}}},\n",
       " {'name': '38a2dcd4ffaee8ddda09',\n",
       "  'title': 'Button',\n",
       "  'type': 'actionButton',\n",
       "  'layout': {'x': 1191.874659400545,\n",
       "   'y': 13.940054495912806,\n",
       "   'z': 12000,\n",
       "   'width': 55.76021798365122,\n",
       "   'height': 40.65849227974569,\n",
       "   'displayState': {'mode': 0}}}]"
      ]
     },
     "execution_count": 54,
     "metadata": {},
     "output_type": "execute_result"
    }
   ],
   "source": [
    "report.visuals_on_page(\"ReportSection\")"
   ]
  },
  {
   "cell_type": "code",
   "execution_count": 16,
   "id": "9b19d397",
   "metadata": {
    "scrolled": true
   },
   "outputs": [],
   "source": [
    "#report.get_manager_state()"
   ]
  },
  {
   "cell_type": "code",
   "execution_count": 15,
   "id": "24a62909",
   "metadata": {},
   "outputs": [],
   "source": [
    "#report.get_view_spec()"
   ]
  },
  {
   "cell_type": "code",
   "execution_count": 14,
   "id": "f441c081",
   "metadata": {},
   "outputs": [],
   "source": [
    "#report.keys"
   ]
  },
  {
   "cell_type": "code",
   "execution_count": 52,
   "id": "6c181243",
   "metadata": {},
   "outputs": [],
   "source": [
    "#report.export_visual_data(\"ReportSectionf4c4d2dee7b9c36a1669\", \"donutChart\")"
   ]
  },
  {
   "cell_type": "code",
   "execution_count": 53,
   "id": "7227b123",
   "metadata": {},
   "outputs": [],
   "source": [
    "#report"
   ]
  },
  {
   "cell_type": "code",
   "execution_count": null,
   "id": "25c59ffe",
   "metadata": {},
   "outputs": [],
   "source": []
  },
  {
   "cell_type": "code",
   "execution_count": null,
   "id": "5faa8d93",
   "metadata": {},
   "outputs": [],
   "source": []
  },
  {
   "cell_type": "code",
   "execution_count": null,
   "id": "9c9076b7",
   "metadata": {},
   "outputs": [],
   "source": []
  },
  {
   "cell_type": "code",
   "execution_count": null,
   "id": "d5517454",
   "metadata": {},
   "outputs": [],
   "source": []
  },
  {
   "cell_type": "code",
   "execution_count": null,
   "id": "e172c911",
   "metadata": {},
   "outputs": [],
   "source": []
  },
  {
   "cell_type": "code",
   "execution_count": null,
   "id": "c3ef2948",
   "metadata": {},
   "outputs": [],
   "source": []
  },
  {
   "cell_type": "code",
   "execution_count": null,
   "id": "9017a4be",
   "metadata": {},
   "outputs": [],
   "source": []
  },
  {
   "cell_type": "code",
   "execution_count": null,
   "id": "eb626314",
   "metadata": {},
   "outputs": [],
   "source": []
  },
  {
   "cell_type": "code",
   "execution_count": null,
   "id": "6a072b59",
   "metadata": {},
   "outputs": [],
   "source": []
  },
  {
   "cell_type": "code",
   "execution_count": null,
   "id": "b396552f",
   "metadata": {},
   "outputs": [],
   "source": []
  },
  {
   "cell_type": "code",
   "execution_count": null,
   "id": "fbc9801d",
   "metadata": {},
   "outputs": [],
   "source": []
  },
  {
   "cell_type": "code",
   "execution_count": null,
   "id": "a2eb6ead",
   "metadata": {},
   "outputs": [],
   "source": []
  },
  {
   "cell_type": "code",
   "execution_count": null,
   "id": "46118f56",
   "metadata": {},
   "outputs": [],
   "source": []
  },
  {
   "cell_type": "code",
   "execution_count": null,
   "id": "55f154b5",
   "metadata": {},
   "outputs": [],
   "source": []
  },
  {
   "cell_type": "code",
   "execution_count": null,
   "id": "078cb624",
   "metadata": {},
   "outputs": [],
   "source": []
  },
  {
   "cell_type": "code",
   "execution_count": null,
   "id": "b7f6fe7c",
   "metadata": {},
   "outputs": [],
   "source": [
    "#Nitin_Code"
   ]
  },
  {
   "cell_type": "code",
   "execution_count": null,
   "id": "bd9aa283",
   "metadata": {},
   "outputs": [],
   "source": [
    "import pandas as pd\n",
    "\n",
    "from powerbiclient import Report, models\n",
    "from powerbiclient.authentication import InteractiveLoginAuthentication\n",
    "device_auth = InteractiveLoginAuthentication()\n",
    "\n",
    "# group_id = \"1e4c934b-97de-47ce-bfa0-e64ed96aeb24\"\n",
    "# report_id = \"495034f3-1c93-414f-929d-0f06ec036afa\"\n",
    "\n",
    "ROOT_PATH = r'C:\\\\Users\\\\SRNADIMP\\\\OneDrive - Capgemini\\\\New Laptop\\\\OneDrive - Capgemini\\\\Desktop\\\\BI_Report_Template_Matching'"
   ]
  },
  {
   "cell_type": "code",
   "execution_count": null,
   "id": "a86d37d9",
   "metadata": {},
   "outputs": [],
   "source": [
    "def get_pbi_metadata(group_id,report_id):\n",
    "    report = Report(group_id = group_id, report_id = report_id, auth = device_auth)\n",
    "    print(report)\n",
    "\n",
    "    pages = report.get_pages()\n",
    "    visuals_data = []\n",
    "    content_page = next((page for page in pages if page['displayName'] != ' '), None)\n",
    "\n",
    "    # Iterate through each page in the report\n",
    "    for page in pages:\n",
    "        page_name = page['displayName']\n",
    "        print(page_name)\n",
    "        # Fetch visuals from each page\n",
    "        visuals = report.visuals_on_page(page_name=content_page['name'])\n",
    "        #print(visuals)\n",
    "        for visual in visuals:\n",
    "            visual_title = visual['title']\n",
    "            visual_type = visual['type']\n",
    "            visual_name = visual['name']\n",
    "            \n",
    "            # Store metadata in a dictionary\n",
    "            visual_info = {\n",
    "                'Page Name': page_name,\n",
    "                'Visual Title': visual_title,\n",
    "                'Visual Type': visual_type,\n",
    "                'Visual Name': visual_name\n",
    "            }\n",
    "            visuals_data.append(visual_info)\n",
    "\n",
    "    visuals_df = pd.DataFrame(visuals_data)\n",
    "    excel_file_path = metadata.xlsx\n",
    "    visuals_df.to_excel(excel_file_path, index=False, sheet_name='Visual Metadata')"
   ]
  },
  {
   "cell_type": "code",
   "execution_count": null,
   "id": "737ac21f",
   "metadata": {},
   "outputs": [],
   "source": [
    "get_metadata = get_pbi_metadata(\"653fc201-df39-4f8d-9bb1-b9de4e2b03be\",\"8bbfe108-f5ca-4579-91a0-9a2d37bdefb4\")"
   ]
  },
  {
   "cell_type": "code",
   "execution_count": null,
   "id": "7e95cabd",
   "metadata": {},
   "outputs": [],
   "source": []
  },
  {
   "cell_type": "code",
   "execution_count": null,
   "id": "3f0a38ac",
   "metadata": {},
   "outputs": [],
   "source": []
  },
  {
   "cell_type": "code",
   "execution_count": null,
   "id": "20f759c5",
   "metadata": {},
   "outputs": [],
   "source": []
  }
 ],
 "metadata": {
  "kernelspec": {
   "display_name": "Python 3 (ipykernel)",
   "language": "python",
   "name": "python3"
  },
  "language_info": {
   "codemirror_mode": {
    "name": "ipython",
    "version": 3
   },
   "file_extension": ".py",
   "mimetype": "text/x-python",
   "name": "python",
   "nbconvert_exporter": "python",
   "pygments_lexer": "ipython3",
   "version": "3.9.12"
  }
 },
 "nbformat": 4,
 "nbformat_minor": 5
}
