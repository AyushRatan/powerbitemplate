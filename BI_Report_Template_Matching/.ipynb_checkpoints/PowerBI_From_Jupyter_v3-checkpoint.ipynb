{
 "cells": [
  {
   "cell_type": "code",
   "execution_count": 1,
   "id": "bd9aa283",
   "metadata": {},
   "outputs": [
    {
     "name": "stdout",
     "output_type": "stream",
     "text": [
      "A local browser window will open for interactive sign in.\n",
      "\n",
      "Interactive authentication successfully completed.\n",
      "You are now logged in.\n",
      "\n",
      "The result should be passed only to trusted code in your notebook.\n"
     ]
    }
   ],
   "source": [
    "import time\n",
    "import pandas as pd\n",
    "from powerbiclient import Report, models\n",
    "from powerbiclient.authentication import InteractiveLoginAuthentication\n",
    "device_auth = InteractiveLoginAuthentication()"
   ]
  },
  {
   "cell_type": "code",
   "execution_count": 2,
   "id": "ffd8d06d",
   "metadata": {},
   "outputs": [],
   "source": [
    "group_id = \"653fc201-df39-4f8d-9bb1-b9de4e2b03be\"\n",
    "report_id = \"9dd64136-98f1-4ef6-bd89-086c749403f1\""
   ]
  },
  {
   "cell_type": "code",
   "execution_count": 3,
   "id": "c587a501",
   "metadata": {},
   "outputs": [
    {
     "data": {
      "application/vnd.jupyter.widget-view+json": {
       "model_id": "4e12f3c7ea584d5687a9c75bcc5efc96",
       "version_major": 2,
       "version_minor": 0
      },
      "text/plain": [
       "Report()"
      ]
     },
     "metadata": {},
     "output_type": "display_data"
    }
   ],
   "source": [
    "report = Report(group_id = group_id, report_id = report_id, auth = device_auth)\n",
    "report"
   ]
  },
  {
   "cell_type": "code",
   "execution_count": 4,
   "id": "71edb449",
   "metadata": {},
   "outputs": [],
   "source": [
    "pages = report.get_pages()\n",
    "visuals_data = []\n",
    "\n",
    "for page in pages:\n",
    "    page_name = page['displayName']\n",
    "    if page['displayName'] != ' ':\n",
    "        content_page = page\n",
    "    visuals = report.visuals_on_page(page_name=content_page['name'])\n",
    "    for visual in visuals:\n",
    "        visual_title = visual['title']\n",
    "        visual_type = visual['type']\n",
    "        visual_name = visual['name']\n",
    "\n",
    "        visual_info = {\n",
    "            'Page Name': page_name,\n",
    "            'Visual Title': visual_title,\n",
    "            'Visual Type': visual_type,\n",
    "            'Visual Name': visual_name\n",
    "        }\n",
    "        visuals_data.append(visual_info)\n",
    "\n",
    "visuals_df = pd.DataFrame(visuals_data)\n",
    "excel_file_path = \"./metadata_stores.xlsx\"\n",
    "visuals_df.to_excel(excel_file_path, index=False, sheet_name='Visual Metadata')"
   ]
  },
  {
   "cell_type": "code",
   "execution_count": null,
   "id": "0ee3588c",
   "metadata": {},
   "outputs": [],
   "source": []
  },
  {
   "cell_type": "code",
   "execution_count": null,
   "id": "942ddb49",
   "metadata": {},
   "outputs": [],
   "source": []
  }
 ],
 "metadata": {
  "kernelspec": {
   "display_name": "Python 3 (ipykernel)",
   "language": "python",
   "name": "python3"
  },
  "language_info": {
   "codemirror_mode": {
    "name": "ipython",
    "version": 3
   },
   "file_extension": ".py",
   "mimetype": "text/x-python",
   "name": "python",
   "nbconvert_exporter": "python",
   "pygments_lexer": "ipython3",
   "version": "3.9.12"
  }
 },
 "nbformat": 4,
 "nbformat_minor": 5
}
