{
 "cells": [
  {
   "cell_type": "code",
   "execution_count": 1,
   "id": "0ac3eea5",
   "metadata": {},
   "outputs": [],
   "source": [
    "import pandas as pd"
   ]
  },
  {
   "cell_type": "code",
   "execution_count": 2,
   "id": "bb04be26",
   "metadata": {},
   "outputs": [],
   "source": [
    "d2 = pd.read_csv(\"POC_Revenue_Opportunities_merged.csv\")"
   ]
  },
  {
   "cell_type": "code",
   "execution_count": 8,
   "id": "9e2cc250",
   "metadata": {},
   "outputs": [
    {
     "data": {
      "text/html": [
       "<div>\n",
       "<style scoped>\n",
       "    .dataframe tbody tr th:only-of-type {\n",
       "        vertical-align: middle;\n",
       "    }\n",
       "\n",
       "    .dataframe tbody tr th {\n",
       "        vertical-align: top;\n",
       "    }\n",
       "\n",
       "    .dataframe thead th {\n",
       "        text-align: right;\n",
       "    }\n",
       "</style>\n",
       "<table border=\"1\" class=\"dataframe\">\n",
       "  <thead>\n",
       "    <tr style=\"text-align: right;\">\n",
       "      <th></th>\n",
       "      <th>Table Name</th>\n",
       "      <th>Column_Names</th>\n",
       "      <th>Measure Name</th>\n",
       "      <th>Measure Expression</th>\n",
       "      <th>Measure Data Type</th>\n",
       "      <th>Measure Hidden</th>\n",
       "      <th>Page Name</th>\n",
       "      <th>Visual Title</th>\n",
       "      <th>Visual Type</th>\n",
       "    </tr>\n",
       "  </thead>\n",
       "  <tbody>\n",
       "    <tr>\n",
       "      <th>0</th>\n",
       "      <td>Account</td>\n",
       "      <td>Account, Region, Segment, Account ID, State</td>\n",
       "      <td>None</td>\n",
       "      <td>None</td>\n",
       "      <td>None</td>\n",
       "      <td>None</td>\n",
       "      <td>None</td>\n",
       "      <td>None</td>\n",
       "      <td>None</td>\n",
       "    </tr>\n",
       "    <tr>\n",
       "      <th>1</th>\n",
       "      <td>Fact A</td>\n",
       "      <td>EstimatedCloseDate, Opportunity ID, Sales Stag...</td>\n",
       "      <td>None</td>\n",
       "      <td>None</td>\n",
       "      <td>None</td>\n",
       "      <td>None</td>\n",
       "      <td>None</td>\n",
       "      <td>None</td>\n",
       "      <td>None</td>\n",
       "    </tr>\n",
       "    <tr>\n",
       "      <th>2</th>\n",
       "      <td>Fact B</td>\n",
       "      <td>EstimatedCloseDate, Opportunity ID, Sales Stag...</td>\n",
       "      <td>None</td>\n",
       "      <td>None</td>\n",
       "      <td>None</td>\n",
       "      <td>None</td>\n",
       "      <td>None</td>\n",
       "      <td>None</td>\n",
       "      <td>None</td>\n",
       "    </tr>\n",
       "    <tr>\n",
       "      <th>3</th>\n",
       "      <td>Opportunity</td>\n",
       "      <td>Name, Opportunity ID, Rank, SizeID, Opportunit...</td>\n",
       "      <td>None</td>\n",
       "      <td>None</td>\n",
       "      <td>None</td>\n",
       "      <td>None</td>\n",
       "      <td>None</td>\n",
       "      <td>None</td>\n",
       "      <td>None</td>\n",
       "    </tr>\n",
       "    <tr>\n",
       "      <th>4</th>\n",
       "      <td>Partner</td>\n",
       "      <td>Partner, Partner ID, Partner Driven</td>\n",
       "      <td>None</td>\n",
       "      <td>None</td>\n",
       "      <td>None</td>\n",
       "      <td>None</td>\n",
       "      <td>None</td>\n",
       "      <td>None</td>\n",
       "      <td>None</td>\n",
       "    </tr>\n",
       "  </tbody>\n",
       "</table>\n",
       "</div>"
      ],
      "text/plain": [
       "    Table Name                                       Column_Names  \\\n",
       "0      Account        Account, Region, Segment, Account ID, State   \n",
       "1       Fact A  EstimatedCloseDate, Opportunity ID, Sales Stag...   \n",
       "2       Fact B  EstimatedCloseDate, Opportunity ID, Sales Stag...   \n",
       "3  Opportunity  Name, Opportunity ID, Rank, SizeID, Opportunit...   \n",
       "4      Partner                Partner, Partner ID, Partner Driven   \n",
       "\n",
       "  Measure Name Measure Expression Measure Data Type Measure Hidden Page Name  \\\n",
       "0         None               None              None           None      None   \n",
       "1         None               None              None           None      None   \n",
       "2         None               None              None           None      None   \n",
       "3         None               None              None           None      None   \n",
       "4         None               None              None           None      None   \n",
       "\n",
       "  Visual Title Visual Type  \n",
       "0         None        None  \n",
       "1         None        None  \n",
       "2         None        None  \n",
       "3         None        None  \n",
       "4         None        None  "
      ]
     },
     "execution_count": 8,
     "metadata": {},
     "output_type": "execute_result"
    }
   ],
   "source": [
    "d2.head()"
   ]
  },
  {
   "cell_type": "code",
   "execution_count": 44,
   "id": "ce56c413",
   "metadata": {},
   "outputs": [
    {
     "ename": "SyntaxError",
     "evalue": "unexpected EOF while parsing (1089088206.py, line 1)",
     "output_type": "error",
     "traceback": [
      "\u001b[1;36m  Cell \u001b[1;32mIn[44], line 1\u001b[1;36m\u001b[0m\n\u001b[1;33m    (d2[\"Table Name\"].str.capitalize()\u001b[0m\n\u001b[1;37m                                      ^\u001b[0m\n\u001b[1;31mSyntaxError\u001b[0m\u001b[1;31m:\u001b[0m unexpected EOF while parsing\n"
     ]
    }
   ],
   "source": [
    "(d2[\"Table Name\"]"
   ]
  },
  {
   "cell_type": "code",
   "execution_count": 12,
   "id": "8df1dedc",
   "metadata": {},
   "outputs": [
    {
     "data": {
      "text/html": [
       "<div>\n",
       "<style scoped>\n",
       "    .dataframe tbody tr th:only-of-type {\n",
       "        vertical-align: middle;\n",
       "    }\n",
       "\n",
       "    .dataframe tbody tr th {\n",
       "        vertical-align: top;\n",
       "    }\n",
       "\n",
       "    .dataframe thead th {\n",
       "        text-align: right;\n",
       "    }\n",
       "</style>\n",
       "<table border=\"1\" class=\"dataframe\">\n",
       "  <thead>\n",
       "    <tr style=\"text-align: right;\">\n",
       "      <th></th>\n",
       "      <th>Table Name</th>\n",
       "      <th>Column_Names</th>\n",
       "    </tr>\n",
       "  </thead>\n",
       "  <tbody>\n",
       "    <tr>\n",
       "      <th>0</th>\n",
       "      <td>Account</td>\n",
       "      <td>Account, Region, Segment, Account ID, State</td>\n",
       "    </tr>\n",
       "    <tr>\n",
       "      <th>1</th>\n",
       "      <td>Fact A</td>\n",
       "      <td>EstimatedCloseDate, Opportunity ID, Sales Stag...</td>\n",
       "    </tr>\n",
       "    <tr>\n",
       "      <th>2</th>\n",
       "      <td>Fact B</td>\n",
       "      <td>EstimatedCloseDate, Opportunity ID, Sales Stag...</td>\n",
       "    </tr>\n",
       "  </tbody>\n",
       "</table>\n",
       "</div>"
      ],
      "text/plain": [
       "  Table Name                                       Column_Names\n",
       "0    Account        Account, Region, Segment, Account ID, State\n",
       "1     Fact A  EstimatedCloseDate, Opportunity ID, Sales Stag...\n",
       "2     Fact B  EstimatedCloseDate, Opportunity ID, Sales Stag..."
      ]
     },
     "execution_count": 12,
     "metadata": {},
     "output_type": "execute_result"
    }
   ],
   "source": [
    "d2[[\"Table Name\", \"Column_Names\"]].head(3)"
   ]
  },
  {
   "cell_type": "code",
   "execution_count": 13,
   "id": "aa3e9633",
   "metadata": {},
   "outputs": [],
   "source": [
    "#loc, iloc"
   ]
  },
  {
   "cell_type": "code",
   "execution_count": 21,
   "id": "009b9bba",
   "metadata": {},
   "outputs": [
    {
     "data": {
      "text/html": [
       "<div>\n",
       "<style scoped>\n",
       "    .dataframe tbody tr th:only-of-type {\n",
       "        vertical-align: middle;\n",
       "    }\n",
       "\n",
       "    .dataframe tbody tr th {\n",
       "        vertical-align: top;\n",
       "    }\n",
       "\n",
       "    .dataframe thead th {\n",
       "        text-align: right;\n",
       "    }\n",
       "</style>\n",
       "<table border=\"1\" class=\"dataframe\">\n",
       "  <thead>\n",
       "    <tr style=\"text-align: right;\">\n",
       "      <th></th>\n",
       "      <th>Table Name</th>\n",
       "      <th>Column_Names</th>\n",
       "      <th>Measure Name</th>\n",
       "      <th>Measure Expression</th>\n",
       "      <th>Measure Data Type</th>\n",
       "      <th>Measure Hidden</th>\n",
       "      <th>Page Name</th>\n",
       "      <th>Visual Title</th>\n",
       "      <th>Visual Type</th>\n",
       "    </tr>\n",
       "  </thead>\n",
       "  <tbody>\n",
       "    <tr>\n",
       "      <th>4</th>\n",
       "      <td>Partner</td>\n",
       "      <td>Partner, Partner ID, Partner Driven</td>\n",
       "      <td>None</td>\n",
       "      <td>None</td>\n",
       "      <td>None</td>\n",
       "      <td>None</td>\n",
       "      <td>None</td>\n",
       "      <td>None</td>\n",
       "      <td>None</td>\n",
       "    </tr>\n",
       "  </tbody>\n",
       "</table>\n",
       "</div>"
      ],
      "text/plain": [
       "  Table Name                         Column_Names Measure Name  \\\n",
       "4    Partner  Partner, Partner ID, Partner Driven         None   \n",
       "\n",
       "  Measure Expression Measure Data Type Measure Hidden Page Name Visual Title  \\\n",
       "4               None              None           None      None         None   \n",
       "\n",
       "  Visual Type  \n",
       "4        None  "
      ]
     },
     "execution_count": 21,
     "metadata": {},
     "output_type": "execute_result"
    }
   ],
   "source": [
    "#1\n",
    "d2[d2[\"Table Name\"] == \"Partner\"]"
   ]
  },
  {
   "cell_type": "code",
   "execution_count": 26,
   "id": "586fb40c",
   "metadata": {},
   "outputs": [
    {
     "data": {
      "text/html": [
       "<div>\n",
       "<style scoped>\n",
       "    .dataframe tbody tr th:only-of-type {\n",
       "        vertical-align: middle;\n",
       "    }\n",
       "\n",
       "    .dataframe tbody tr th {\n",
       "        vertical-align: top;\n",
       "    }\n",
       "\n",
       "    .dataframe thead th {\n",
       "        text-align: right;\n",
       "    }\n",
       "</style>\n",
       "<table border=\"1\" class=\"dataframe\">\n",
       "  <thead>\n",
       "    <tr style=\"text-align: right;\">\n",
       "      <th></th>\n",
       "      <th>Table Name</th>\n",
       "      <th>Column_Names</th>\n",
       "      <th>Measure Name</th>\n",
       "      <th>Measure Expression</th>\n",
       "      <th>Measure Data Type</th>\n",
       "      <th>Measure Hidden</th>\n",
       "      <th>Page Name</th>\n",
       "      <th>Visual Title</th>\n",
       "      <th>Visual Type</th>\n",
       "    </tr>\n",
       "  </thead>\n",
       "  <tbody>\n",
       "    <tr>\n",
       "      <th>0</th>\n",
       "      <td>Account</td>\n",
       "      <td>Account, Region, Segment, Account ID, State</td>\n",
       "      <td>None</td>\n",
       "      <td>None</td>\n",
       "      <td>None</td>\n",
       "      <td>None</td>\n",
       "      <td>None</td>\n",
       "      <td>None</td>\n",
       "      <td>None</td>\n",
       "    </tr>\n",
       "    <tr>\n",
       "      <th>1</th>\n",
       "      <td>Fact A</td>\n",
       "      <td>EstimatedCloseDate, Opportunity ID, Sales Stag...</td>\n",
       "      <td>None</td>\n",
       "      <td>None</td>\n",
       "      <td>None</td>\n",
       "      <td>None</td>\n",
       "      <td>None</td>\n",
       "      <td>None</td>\n",
       "      <td>None</td>\n",
       "    </tr>\n",
       "    <tr>\n",
       "      <th>4</th>\n",
       "      <td>Partner</td>\n",
       "      <td>Partner, Partner ID, Partner Driven</td>\n",
       "      <td>None</td>\n",
       "      <td>None</td>\n",
       "      <td>None</td>\n",
       "      <td>None</td>\n",
       "      <td>None</td>\n",
       "      <td>None</td>\n",
       "      <td>None</td>\n",
       "    </tr>\n",
       "  </tbody>\n",
       "</table>\n",
       "</div>"
      ],
      "text/plain": [
       "  Table Name                                       Column_Names Measure Name  \\\n",
       "0    Account        Account, Region, Segment, Account ID, State         None   \n",
       "1     Fact A  EstimatedCloseDate, Opportunity ID, Sales Stag...         None   \n",
       "4    Partner                Partner, Partner ID, Partner Driven         None   \n",
       "\n",
       "  Measure Expression Measure Data Type Measure Hidden Page Name Visual Title  \\\n",
       "0               None              None           None      None         None   \n",
       "1               None              None           None      None         None   \n",
       "4               None              None           None      None         None   \n",
       "\n",
       "  Visual Type  \n",
       "0        None  \n",
       "1        None  \n",
       "4        None  "
      ]
     },
     "execution_count": 26,
     "metadata": {},
     "output_type": "execute_result"
    }
   ],
   "source": [
    "#2\n",
    "d2[d2[\"Table Name\"].isin([\"Partner\", \"Account\", \"Fact A\"])]"
   ]
  },
  {
   "cell_type": "code",
   "execution_count": 33,
   "id": "3783fb09",
   "metadata": {},
   "outputs": [],
   "source": [
    "d2.loc[d2[\"Table Name\"].isin([\"Partner\", \"Account\", \"Fact A\"]), \"Table Name\"] = \"DUMMY\""
   ]
  },
  {
   "cell_type": "code",
   "execution_count": 36,
   "id": "2342a324",
   "metadata": {},
   "outputs": [
    {
     "data": {
      "text/html": [
       "<div>\n",
       "<style scoped>\n",
       "    .dataframe tbody tr th:only-of-type {\n",
       "        vertical-align: middle;\n",
       "    }\n",
       "\n",
       "    .dataframe tbody tr th {\n",
       "        vertical-align: top;\n",
       "    }\n",
       "\n",
       "    .dataframe thead th {\n",
       "        text-align: right;\n",
       "    }\n",
       "</style>\n",
       "<table border=\"1\" class=\"dataframe\">\n",
       "  <thead>\n",
       "    <tr style=\"text-align: right;\">\n",
       "      <th></th>\n",
       "      <th>Table Name</th>\n",
       "      <th>Column_Names</th>\n",
       "      <th>Measure Name</th>\n",
       "      <th>Measure Expression</th>\n",
       "      <th>Measure Data Type</th>\n",
       "      <th>Measure Hidden</th>\n",
       "      <th>Page Name</th>\n",
       "      <th>Visual Title</th>\n",
       "      <th>Visual Type</th>\n",
       "    </tr>\n",
       "  </thead>\n",
       "  <tbody>\n",
       "    <tr>\n",
       "      <th>0</th>\n",
       "      <td>DUMMY</td>\n",
       "      <td>Account, Region, Segment, Account ID, State</td>\n",
       "      <td>None</td>\n",
       "      <td>None</td>\n",
       "      <td>None</td>\n",
       "      <td>None</td>\n",
       "      <td>None</td>\n",
       "      <td>None</td>\n",
       "      <td>None</td>\n",
       "    </tr>\n",
       "    <tr>\n",
       "      <th>1</th>\n",
       "      <td>DUMMY</td>\n",
       "      <td>EstimatedCloseDate, Opportunity ID, Sales Stag...</td>\n",
       "      <td>None</td>\n",
       "      <td>None</td>\n",
       "      <td>None</td>\n",
       "      <td>None</td>\n",
       "      <td>None</td>\n",
       "      <td>None</td>\n",
       "      <td>None</td>\n",
       "    </tr>\n",
       "    <tr>\n",
       "      <th>4</th>\n",
       "      <td>DUMMY</td>\n",
       "      <td>Partner, Partner ID, Partner Driven</td>\n",
       "      <td>None</td>\n",
       "      <td>None</td>\n",
       "      <td>None</td>\n",
       "      <td>None</td>\n",
       "      <td>None</td>\n",
       "      <td>None</td>\n",
       "      <td>None</td>\n",
       "    </tr>\n",
       "  </tbody>\n",
       "</table>\n",
       "</div>"
      ],
      "text/plain": [
       "  Table Name                                       Column_Names Measure Name  \\\n",
       "0      DUMMY        Account, Region, Segment, Account ID, State         None   \n",
       "1      DUMMY  EstimatedCloseDate, Opportunity ID, Sales Stag...         None   \n",
       "4      DUMMY                Partner, Partner ID, Partner Driven         None   \n",
       "\n",
       "  Measure Expression Measure Data Type Measure Hidden Page Name Visual Title  \\\n",
       "0               None              None           None      None         None   \n",
       "1               None              None           None      None         None   \n",
       "4               None              None           None      None         None   \n",
       "\n",
       "  Visual Type  \n",
       "0        None  \n",
       "1        None  \n",
       "4        None  "
      ]
     },
     "execution_count": 36,
     "metadata": {},
     "output_type": "execute_result"
    }
   ],
   "source": [
    "d2.iloc[[0,1,4]]"
   ]
  },
  {
   "cell_type": "code",
   "execution_count": 38,
   "id": "84e6ddcc",
   "metadata": {},
   "outputs": [
    {
     "data": {
      "text/plain": [
       "array(['DUMMY', 'DUMMY', 'Fact B', 'Opportunity', 'DUMMY', 'Product',\n",
       "       'SalesStage', 'Fact', 'Fact', 'Fact', 'Fact', 'Fact', 'Fact',\n",
       "       'None', 'None', 'None', 'None', 'None', 'None', 'None', 'None',\n",
       "       'None', 'None', 'None', 'None', 'None', 'None', 'None', 'None',\n",
       "       'None', 'None', 'None', 'None', 'None'], dtype=object)"
      ]
     },
     "execution_count": 38,
     "metadata": {},
     "output_type": "execute_result"
    }
   ],
   "source": [
    "d2[\"Table Name\"].values"
   ]
  },
  {
   "cell_type": "code",
   "execution_count": null,
   "id": "8f9bd638",
   "metadata": {},
   "outputs": [],
   "source": []
  },
  {
   "cell_type": "code",
   "execution_count": null,
   "id": "df97dee3",
   "metadata": {},
   "outputs": [],
   "source": []
  }
 ],
 "metadata": {
  "kernelspec": {
   "display_name": "Python 3 (ipykernel)",
   "language": "python",
   "name": "python3"
  },
  "language_info": {
   "codemirror_mode": {
    "name": "ipython",
    "version": 3
   },
   "file_extension": ".py",
   "mimetype": "text/x-python",
   "name": "python",
   "nbconvert_exporter": "python",
   "pygments_lexer": "ipython3",
   "version": "3.9.12"
  }
 },
 "nbformat": 4,
 "nbformat_minor": 5
}
