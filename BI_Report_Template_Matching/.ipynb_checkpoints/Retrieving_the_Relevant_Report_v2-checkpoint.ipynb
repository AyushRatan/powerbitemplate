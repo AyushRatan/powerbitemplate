{
 "cells": [
  {
   "cell_type": "code",
   "execution_count": 1,
   "id": "464097a4",
   "metadata": {},
   "outputs": [],
   "source": [
    "import pandas as pd\n",
    "import os"
   ]
  },
  {
   "cell_type": "code",
   "execution_count": 3,
   "id": "97e1c4a5",
   "metadata": {},
   "outputs": [],
   "source": [
    "import langchain\n",
    "import pandas as pd"
   ]
  },
  {
   "cell_type": "code",
   "execution_count": 4,
   "id": "4831dab7",
   "metadata": {},
   "outputs": [
    {
     "data": {
      "text/html": [
       "<div>\n",
       "<style scoped>\n",
       "    .dataframe tbody tr th:only-of-type {\n",
       "        vertical-align: middle;\n",
       "    }\n",
       "\n",
       "    .dataframe tbody tr th {\n",
       "        vertical-align: top;\n",
       "    }\n",
       "\n",
       "    .dataframe thead th {\n",
       "        text-align: right;\n",
       "    }\n",
       "</style>\n",
       "<table border=\"1\" class=\"dataframe\">\n",
       "  <thead>\n",
       "    <tr style=\"text-align: right;\">\n",
       "      <th></th>\n",
       "      <th>Report_Name</th>\n",
       "      <th>Page_Name</th>\n",
       "      <th>Visual_Title</th>\n",
       "      <th>Visual_Type</th>\n",
       "      <th>Columns</th>\n",
       "      <th>Responses</th>\n",
       "    </tr>\n",
       "  </thead>\n",
       "  <tbody>\n",
       "    <tr>\n",
       "      <th>0</th>\n",
       "      <td>POC_Regional_Sales</td>\n",
       "      <td>Sales Overview</td>\n",
       "      <td>Revenue Open by Sales Stage</td>\n",
       "      <td>funnel</td>\n",
       "      <td>Sales Stage, Revenue Open</td>\n",
       "      <td>The Revenue Open by Sales Stage visual in Powe...</td>\n",
       "    </tr>\n",
       "    <tr>\n",
       "      <th>1</th>\n",
       "      <td>POC_Regional_Sales</td>\n",
       "      <td>Sales Overview</td>\n",
       "      <td>Forecast by Location</td>\n",
       "      <td>shapeMap</td>\n",
       "      <td>State or Province, State or Province.1, Rev Go...</td>\n",
       "      <td>The Power BI visual Forecast by Location is a ...</td>\n",
       "    </tr>\n",
       "    <tr>\n",
       "      <th>2</th>\n",
       "      <td>POC_Regional_Sales</td>\n",
       "      <td>Sales Overview</td>\n",
       "      <td>Revenue Won and Revenue In Pipeline by Product...</td>\n",
       "      <td>barChart</td>\n",
       "      <td>Product Category, Product, Revenue Won, Revenu...</td>\n",
       "      <td>The Power BI visual \"Revenue Won and Revenue I...</td>\n",
       "    </tr>\n",
       "  </tbody>\n",
       "</table>\n",
       "</div>"
      ],
      "text/plain": [
       "          Report_Name       Page_Name  \\\n",
       "0  POC_Regional_Sales  Sales Overview   \n",
       "1  POC_Regional_Sales  Sales Overview   \n",
       "2  POC_Regional_Sales  Sales Overview   \n",
       "\n",
       "                                        Visual_Title Visual_Type  \\\n",
       "0                        Revenue Open by Sales Stage      funnel   \n",
       "1                               Forecast by Location    shapeMap   \n",
       "2  Revenue Won and Revenue In Pipeline by Product...    barChart   \n",
       "\n",
       "                                             Columns  \\\n",
       "0                          Sales Stage, Revenue Open   \n",
       "1  State or Province, State or Province.1, Rev Go...   \n",
       "2  Product Category, Product, Revenue Won, Revenu...   \n",
       "\n",
       "                                           Responses  \n",
       "0  The Revenue Open by Sales Stage visual in Powe...  \n",
       "1  The Power BI visual Forecast by Location is a ...  \n",
       "2  The Power BI visual \"Revenue Won and Revenue I...  "
      ]
     },
     "execution_count": 4,
     "metadata": {},
     "output_type": "execute_result"
    }
   ],
   "source": [
    "folder_name = \"MasterData\"\n",
    "file_path_4 = os.path.join(folder_name, f\"Merged_MasterData.xlsx\")\n",
    "metadata_df = pd.read_excel(file_path_4)\n",
    "metadata_df[:3]"
   ]
  },
  {
   "cell_type": "code",
   "execution_count": 7,
   "id": "3a1ca082",
   "metadata": {},
   "outputs": [],
   "source": [
    "#from langchain.retrievers.multi_vector import MultiVectorRetriever"
   ]
  },
  {
   "cell_type": "code",
   "execution_count": null,
   "id": "e68ba67f",
   "metadata": {},
   "outputs": [],
   "source": [
    "# Initialize the MultiVector Retriever\n",
    "retriever = langchain.MultiVectorRetriever(\n",
    "    vectorstore=langchain.Chroma(\n",
    "        collection_name=\"descriptions\",\n",
    "        embedding_function=langchain.OpenAIEmbeddings(),\n",
    "    ),\n",
    "    docstore=langchain.InMemoryStore(),\n",
    "    id_key=\"Report_Name\",\n",
    ")\n",
    "\n",
    "# Add the descriptions to the vectorstore\n",
    "for i, row in metadata_df.iterrows():\n",
    "    description = row[\"Description\"]\n",
    "    report_name = row[\"Report_Name\"]\n",
    "    retriever.vectorstore.add_documents([langchain.Document(page_content=description, metadata={\"Report_Name\": report_name})])\n",
    "\n",
    "def retrieve_similar_descriptions(query):\n",
    "    \"\"\"Retrieves the top 3 descriptions that are similar to the given query.\"\"\"\n",
    "    return retriever.search(query, k=3)\n",
    "\n",
    "# Example usage\n",
    "query = \"What are the sales figures for the North region?\"\n",
    "similar_descriptions = retrieve_similar_descriptions(query)\n",
    "\n",
    "for description in similar_descriptions:\n",
    "    print(f\"Report Name: {description.metadata['Report_Name']}\")\n",
    "    print(f\"Visual Title: {description.metadata['Visual_Title']}\")\n",
    "    print(f\"Description: {description.page_content}\")\n",
    "    print(\"---------------------------------\")\n"
   ]
  },
  {
   "cell_type": "code",
   "execution_count": null,
   "id": "60146cdd",
   "metadata": {},
   "outputs": [],
   "source": []
  },
  {
   "cell_type": "code",
   "execution_count": null,
   "id": "41df4fbe",
   "metadata": {},
   "outputs": [],
   "source": []
  },
  {
   "cell_type": "code",
   "execution_count": null,
   "id": "09261ed9",
   "metadata": {},
   "outputs": [],
   "source": []
  },
  {
   "cell_type": "code",
   "execution_count": null,
   "id": "19171a2c",
   "metadata": {},
   "outputs": [],
   "source": [
    "pip install sentence_transformers"
   ]
  },
  {
   "cell_type": "code",
   "execution_count": 8,
   "id": "6457f6c3",
   "metadata": {},
   "outputs": [
    {
     "ename": "ModuleNotFoundError",
     "evalue": "No module named 'sentence_transformers'",
     "output_type": "error",
     "traceback": [
      "\u001b[1;31m---------------------------------------------------------------------------\u001b[0m",
      "\u001b[1;31mModuleNotFoundError\u001b[0m                       Traceback (most recent call last)",
      "Cell \u001b[1;32mIn[8], line 2\u001b[0m\n\u001b[0;32m      1\u001b[0m \u001b[38;5;28;01mimport\u001b[39;00m \u001b[38;5;21;01mpandas\u001b[39;00m \u001b[38;5;28;01mas\u001b[39;00m \u001b[38;5;21;01mpd\u001b[39;00m\n\u001b[1;32m----> 2\u001b[0m \u001b[38;5;28;01mfrom\u001b[39;00m \u001b[38;5;21;01msentence_transformers\u001b[39;00m \u001b[38;5;28;01mimport\u001b[39;00m SentenceTransformer\n\u001b[0;32m      3\u001b[0m \u001b[38;5;28;01mimport\u001b[39;00m \u001b[38;5;21;01mfaiss\u001b[39;00m\n",
      "\u001b[1;31mModuleNotFoundError\u001b[0m: No module named 'sentence_transformers'"
     ]
    }
   ],
   "source": [
    "import pandas as pd\n",
    "from sentence_transformers import SentenceTransformer\n",
    "import faiss"
   ]
  },
  {
   "cell_type": "code",
   "execution_count": null,
   "id": "67d17c65",
   "metadata": {},
   "outputs": [],
   "source": [
    "import pandas as pd\n",
    "from sentence_transformers import SentenceTransformer\n",
    "import faiss\n",
    "\n",
    "# Load your metadata sheet\n",
    "metadata_df = pd.read_excel(\"path_to_your_metadata_sheet.xlsx\")\n",
    "\n",
    "# Load a pre-trained SentenceTransformer model\n",
    "model = SentenceTransformer(\"paraphrase-MiniLM-L6-v2\")\n",
    "\n",
    "# Encode the Description column\n",
    "description_embeddings = model.encode(metadata_df[\"Description\"].astype(str), convert_to_tensor=True)\n",
    "\n",
    "# Build an index using faiss\n",
    "index = faiss.IndexFlatIP(description_embeddings.size(1))\n",
    "index.add(description_embeddings.numpy())\n",
    "\n",
    "# Function to perform similarity search\n",
    "def get_top_matches(query, top_k=3):\n",
    "    query_embedding = model.encode(query, convert_to_tensor=True).numpy()\n",
    "    _, similar_indices = index.search(query_embedding, top_k)\n",
    "    return metadata_df.iloc[similar_indices[0]]\n",
    "\n",
    "# Example usage\n",
    "user_query = \"Your user query here\"\n",
    "top_matches = get_top_matches(user_query)\n",
    "print(top_matches[[\"Report_Name\", \"Page_Name\", \"Visual_Title\", \"Visual_Type\", \"Columns\", \"Description\"]])\n"
   ]
  },
  {
   "cell_type": "code",
   "execution_count": null,
   "id": "7bdda155",
   "metadata": {},
   "outputs": [],
   "source": []
  },
  {
   "cell_type": "code",
   "execution_count": null,
   "id": "d96cfae5",
   "metadata": {},
   "outputs": [],
   "source": []
  },
  {
   "cell_type": "code",
   "execution_count": null,
   "id": "9b272b33",
   "metadata": {},
   "outputs": [],
   "source": []
  },
  {
   "cell_type": "code",
   "execution_count": null,
   "id": "2c9a5f70",
   "metadata": {},
   "outputs": [],
   "source": []
  },
  {
   "cell_type": "code",
   "execution_count": null,
   "id": "ab271622",
   "metadata": {},
   "outputs": [],
   "source": []
  },
  {
   "cell_type": "code",
   "execution_count": null,
   "id": "e1df8de5",
   "metadata": {},
   "outputs": [],
   "source": []
  }
 ],
 "metadata": {
  "kernelspec": {
   "display_name": "Python 3 (ipykernel)",
   "language": "python",
   "name": "python3"
  },
  "language_info": {
   "codemirror_mode": {
    "name": "ipython",
    "version": 3
   },
   "file_extension": ".py",
   "mimetype": "text/x-python",
   "name": "python",
   "nbconvert_exporter": "python",
   "pygments_lexer": "ipython3",
   "version": "3.9.12"
  }
 },
 "nbformat": 4,
 "nbformat_minor": 5
}
