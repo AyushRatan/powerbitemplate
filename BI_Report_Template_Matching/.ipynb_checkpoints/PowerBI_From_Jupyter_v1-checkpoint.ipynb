{
 "cells": [
  {
   "cell_type": "code",
   "execution_count": null,
   "id": "9bce59a5",
   "metadata": {},
   "outputs": [],
   "source": [
    "# Notes : This notebook is all about the experiments carried out to access the Power Bi reports through python.PowerBIClient is success."
   ]
  },
  {
   "cell_type": "code",
   "execution_count": 1,
   "id": "45589b82",
   "metadata": {},
   "outputs": [
    {
     "name": "stdout",
     "output_type": "stream",
     "text": [
      "Requirement already satisfied: requests in c:\\users\\srnadimp\\anaconda3\\lib\\site-packages (2.28.1)\n",
      "Requirement already satisfied: charset-normalizer<3,>=2 in c:\\users\\srnadimp\\anaconda3\\lib\\site-packages (from requests) (2.1.1)\n",
      "Requirement already satisfied: idna<4,>=2.5 in c:\\users\\srnadimp\\anaconda3\\lib\\site-packages (from requests) (3.4)\n",
      "Requirement already satisfied: urllib3<1.27,>=1.21.1 in c:\\users\\srnadimp\\anaconda3\\lib\\site-packages (from requests) (1.26.12)\n",
      "Requirement already satisfied: certifi>=2017.4.17 in c:\\users\\srnadimp\\anaconda3\\lib\\site-packages (from requests) (2023.7.22)\n",
      "Note: you may need to restart the kernel to use updated packages.\n"
     ]
    },
    {
     "name": "stderr",
     "output_type": "stream",
     "text": [
      "WARNING: Ignoring invalid distribution -pencv-python-headless (c:\\users\\srnadimp\\anaconda3\\lib\\site-packages)\n",
      "WARNING: Ignoring invalid distribution -treamlit (c:\\users\\srnadimp\\anaconda3\\lib\\site-packages)\n",
      "WARNING: Ignoring invalid distribution -pencv-python-headless (c:\\users\\srnadimp\\anaconda3\\lib\\site-packages)\n",
      "WARNING: Ignoring invalid distribution -treamlit (c:\\users\\srnadimp\\anaconda3\\lib\\site-packages)\n",
      "WARNING: There was an error checking the latest version of pip.\n"
     ]
    }
   ],
   "source": [
    "pip install requests"
   ]
  },
  {
   "cell_type": "code",
   "execution_count": 2,
   "id": "16343bbe",
   "metadata": {},
   "outputs": [
    {
     "name": "stdout",
     "output_type": "stream",
     "text": [
      "Collecting powerbiclient\n",
      "  Downloading powerbiclient-3.1.1-py2.py3-none-any.whl.metadata (3.8 kB)\n",
      "Requirement already satisfied: ipywidgets>=7.0.0 in c:\\users\\srnadimp\\anaconda3\\lib\\site-packages (from powerbiclient) (7.6.5)\n",
      "Collecting jupyter-ui-poll>=0.1.2 (from powerbiclient)\n",
      "  Downloading jupyter_ui_poll-0.2.2-py2.py3-none-any.whl (9.0 kB)\n",
      "Requirement already satisfied: msal>=1.8.0 in c:\\users\\srnadimp\\anaconda3\\lib\\site-packages (from powerbiclient) (1.25.0)\n",
      "Requirement already satisfied: requests>=2.25.1 in c:\\users\\srnadimp\\anaconda3\\lib\\site-packages (from powerbiclient) (2.28.1)\n",
      "Requirement already satisfied: pandas in c:\\users\\srnadimp\\anaconda3\\lib\\site-packages (from powerbiclient) (1.5.0)\n",
      "Collecting pyspark (from powerbiclient)\n",
      "  Downloading pyspark-3.5.0.tar.gz (316.9 MB)\n",
      "     -------------------------------------- 316.9/316.9 MB 3.1 MB/s eta 0:00:00\n",
      "  Preparing metadata (setup.py): started\n",
      "  Preparing metadata (setup.py): finished with status 'done'\n",
      "Requirement already satisfied: ipykernel>=4.5.1 in c:\\users\\srnadimp\\anaconda3\\lib\\site-packages (from ipywidgets>=7.0.0->powerbiclient) (6.9.1)\n",
      "Requirement already satisfied: ipython-genutils~=0.2.0 in c:\\users\\srnadimp\\anaconda3\\lib\\site-packages (from ipywidgets>=7.0.0->powerbiclient) (0.2.0)\n",
      "Requirement already satisfied: traitlets>=4.3.1 in c:\\users\\srnadimp\\anaconda3\\lib\\site-packages (from ipywidgets>=7.0.0->powerbiclient) (5.1.1)\n",
      "Requirement already satisfied: nbformat>=4.2.0 in c:\\users\\srnadimp\\anaconda3\\lib\\site-packages (from ipywidgets>=7.0.0->powerbiclient) (5.3.0)\n",
      "Requirement already satisfied: widgetsnbextension~=3.5.0 in c:\\users\\srnadimp\\anaconda3\\lib\\site-packages (from ipywidgets>=7.0.0->powerbiclient) (3.5.2)\n",
      "Requirement already satisfied: ipython>=4.0.0 in c:\\users\\srnadimp\\anaconda3\\lib\\site-packages (from ipywidgets>=7.0.0->powerbiclient) (8.2.0)\n",
      "Requirement already satisfied: jupyterlab-widgets>=1.0.0 in c:\\users\\srnadimp\\anaconda3\\lib\\site-packages (from ipywidgets>=7.0.0->powerbiclient) (1.0.0)\n",
      "Requirement already satisfied: PyJWT<3,>=1.0.0 in c:\\users\\srnadimp\\anaconda3\\lib\\site-packages (from PyJWT[crypto]<3,>=1.0.0->msal>=1.8.0->powerbiclient) (2.1.0)\n",
      "Requirement already satisfied: cryptography<44,>=0.6 in c:\\users\\srnadimp\\anaconda3\\lib\\site-packages (from msal>=1.8.0->powerbiclient) (3.4.8)\n",
      "Requirement already satisfied: charset-normalizer<3,>=2 in c:\\users\\srnadimp\\anaconda3\\lib\\site-packages (from requests>=2.25.1->powerbiclient) (2.1.1)\n",
      "Requirement already satisfied: idna<4,>=2.5 in c:\\users\\srnadimp\\anaconda3\\lib\\site-packages (from requests>=2.25.1->powerbiclient) (3.4)\n",
      "Requirement already satisfied: urllib3<1.27,>=1.21.1 in c:\\users\\srnadimp\\anaconda3\\lib\\site-packages (from requests>=2.25.1->powerbiclient) (1.26.12)\n",
      "Requirement already satisfied: certifi>=2017.4.17 in c:\\users\\srnadimp\\anaconda3\\lib\\site-packages (from requests>=2.25.1->powerbiclient) (2023.7.22)\n",
      "Requirement already satisfied: python-dateutil>=2.8.1 in c:\\users\\srnadimp\\anaconda3\\lib\\site-packages (from pandas->powerbiclient) (2.8.2)\n",
      "Requirement already satisfied: pytz>=2020.1 in c:\\users\\srnadimp\\anaconda3\\lib\\site-packages (from pandas->powerbiclient) (2022.7.1)\n",
      "Requirement already satisfied: numpy>=1.20.3 in c:\\users\\srnadimp\\anaconda3\\lib\\site-packages (from pandas->powerbiclient) (1.23.3)\n",
      "Requirement already satisfied: py4j==0.10.9.7 in c:\\users\\srnadimp\\anaconda3\\lib\\site-packages (from pyspark->powerbiclient) (0.10.9.7)\n",
      "Requirement already satisfied: cffi>=1.12 in c:\\users\\srnadimp\\anaconda3\\lib\\site-packages (from cryptography<44,>=0.6->msal>=1.8.0->powerbiclient) (1.15.0)\n",
      "Requirement already satisfied: debugpy<2.0,>=1.0.0 in c:\\users\\srnadimp\\anaconda3\\lib\\site-packages (from ipykernel>=4.5.1->ipywidgets>=7.0.0->powerbiclient) (1.5.1)\n",
      "Requirement already satisfied: jupyter-client<8.0 in c:\\users\\srnadimp\\anaconda3\\lib\\site-packages (from ipykernel>=4.5.1->ipywidgets>=7.0.0->powerbiclient) (6.1.12)\n",
      "Requirement already satisfied: tornado<7.0,>=4.2 in c:\\users\\srnadimp\\anaconda3\\lib\\site-packages (from ipykernel>=4.5.1->ipywidgets>=7.0.0->powerbiclient) (6.2)\n",
      "Requirement already satisfied: matplotlib-inline<0.2.0,>=0.1.0 in c:\\users\\srnadimp\\anaconda3\\lib\\site-packages (from ipykernel>=4.5.1->ipywidgets>=7.0.0->powerbiclient) (0.1.2)\n",
      "Requirement already satisfied: nest-asyncio in c:\\users\\srnadimp\\anaconda3\\lib\\site-packages (from ipykernel>=4.5.1->ipywidgets>=7.0.0->powerbiclient) (1.5.5)\n",
      "Requirement already satisfied: backcall in c:\\users\\srnadimp\\anaconda3\\lib\\site-packages (from ipython>=4.0.0->ipywidgets>=7.0.0->powerbiclient) (0.2.0)\n",
      "Requirement already satisfied: decorator in c:\\users\\srnadimp\\anaconda3\\lib\\site-packages (from ipython>=4.0.0->ipywidgets>=7.0.0->powerbiclient) (5.1.1)\n",
      "Requirement already satisfied: jedi>=0.16 in c:\\users\\srnadimp\\anaconda3\\lib\\site-packages (from ipython>=4.0.0->ipywidgets>=7.0.0->powerbiclient) (0.18.1)\n",
      "Requirement already satisfied: pickleshare in c:\\users\\srnadimp\\anaconda3\\lib\\site-packages (from ipython>=4.0.0->ipywidgets>=7.0.0->powerbiclient) (0.7.5)\n",
      "Requirement already satisfied: prompt-toolkit!=3.0.0,!=3.0.1,<3.1.0,>=2.0.0 in c:\\users\\srnadimp\\anaconda3\\lib\\site-packages (from ipython>=4.0.0->ipywidgets>=7.0.0->powerbiclient) (3.0.20)\n",
      "Requirement already satisfied: pygments>=2.4.0 in c:\\users\\srnadimp\\anaconda3\\lib\\site-packages (from ipython>=4.0.0->ipywidgets>=7.0.0->powerbiclient) (2.13.0)Note: you may need to restart the kernel to use updated packages.\n"
     ]
    },
    {
     "name": "stderr",
     "output_type": "stream",
     "text": [
      "WARNING: Ignoring invalid distribution -pencv-python-headless (c:\\users\\srnadimp\\anaconda3\\lib\\site-packages)\n",
      "WARNING: Ignoring invalid distribution -treamlit (c:\\users\\srnadimp\\anaconda3\\lib\\site-packages)\n",
      "WARNING: Ignoring invalid distribution -pencv-python-headless (c:\\users\\srnadimp\\anaconda3\\lib\\site-packages)\n",
      "WARNING: Ignoring invalid distribution -treamlit (c:\\users\\srnadimp\\anaconda3\\lib\\site-packages)\n",
      "WARNING: There was an error checking the latest version of pip.\n"
     ]
    },
    {
     "name": "stdout",
     "output_type": "stream",
     "text": [
      "\n",
      "Requirement already satisfied: setuptools>=18.5 in c:\\users\\srnadimp\\anaconda3\\lib\\site-packages (from ipython>=4.0.0->ipywidgets>=7.0.0->powerbiclient) (61.2.0)\n",
      "Requirement already satisfied: stack-data in c:\\users\\srnadimp\\anaconda3\\lib\\site-packages (from ipython>=4.0.0->ipywidgets>=7.0.0->powerbiclient) (0.2.0)\n",
      "Requirement already satisfied: colorama in c:\\users\\srnadimp\\anaconda3\\lib\\site-packages (from ipython>=4.0.0->ipywidgets>=7.0.0->powerbiclient) (0.4.5)\n",
      "Requirement already satisfied: jsonschema>=2.6 in c:\\users\\srnadimp\\anaconda3\\lib\\site-packages (from nbformat>=4.2.0->ipywidgets>=7.0.0->powerbiclient) (4.16.0)\n",
      "Requirement already satisfied: jupyter-core in c:\\users\\srnadimp\\anaconda3\\lib\\site-packages (from nbformat>=4.2.0->ipywidgets>=7.0.0->powerbiclient) (4.9.2)\n",
      "Requirement already satisfied: fastjsonschema in c:\\users\\srnadimp\\anaconda3\\lib\\site-packages (from nbformat>=4.2.0->ipywidgets>=7.0.0->powerbiclient) (2.15.1)\n",
      "Requirement already satisfied: six>=1.5 in c:\\users\\srnadimp\\anaconda3\\lib\\site-packages (from python-dateutil>=2.8.1->pandas->powerbiclient) (1.16.0)\n",
      "Requirement already satisfied: notebook>=4.4.1 in c:\\users\\srnadimp\\anaconda3\\lib\\site-packages (from widgetsnbextension~=3.5.0->ipywidgets>=7.0.0->powerbiclient) (6.4.8)\n",
      "Requirement already satisfied: pycparser in c:\\users\\srnadimp\\anaconda3\\lib\\site-packages (from cffi>=1.12->cryptography<44,>=0.6->msal>=1.8.0->powerbiclient) (2.21)\n",
      "Requirement already satisfied: parso<0.9.0,>=0.8.0 in c:\\users\\srnadimp\\anaconda3\\lib\\site-packages (from jedi>=0.16->ipython>=4.0.0->ipywidgets>=7.0.0->powerbiclient) (0.8.3)\n",
      "Requirement already satisfied: attrs>=17.4.0 in c:\\users\\srnadimp\\anaconda3\\lib\\site-packages (from jsonschema>=2.6->nbformat>=4.2.0->ipywidgets>=7.0.0->powerbiclient) (22.1.0)\n",
      "Requirement already satisfied: pyrsistent!=0.17.0,!=0.17.1,!=0.17.2,>=0.14.0 in c:\\users\\srnadimp\\anaconda3\\lib\\site-packages (from jsonschema>=2.6->nbformat>=4.2.0->ipywidgets>=7.0.0->powerbiclient) (0.18.1)\n",
      "Requirement already satisfied: pyzmq>=13 in c:\\users\\srnadimp\\anaconda3\\lib\\site-packages (from jupyter-client<8.0->ipykernel>=4.5.1->ipywidgets>=7.0.0->powerbiclient) (22.3.0)\n",
      "Requirement already satisfied: pywin32>=1.0 in c:\\users\\srnadimp\\anaconda3\\lib\\site-packages (from jupyter-core->nbformat>=4.2.0->ipywidgets>=7.0.0->powerbiclient) (302)\n",
      "Requirement already satisfied: jinja2 in c:\\users\\srnadimp\\anaconda3\\lib\\site-packages (from notebook>=4.4.1->widgetsnbextension~=3.5.0->ipywidgets>=7.0.0->powerbiclient) (3.1.2)\n",
      "Requirement already satisfied: argon2-cffi in c:\\users\\srnadimp\\anaconda3\\lib\\site-packages (from notebook>=4.4.1->widgetsnbextension~=3.5.0->ipywidgets>=7.0.0->powerbiclient) (21.3.0)\n",
      "Requirement already satisfied: nbconvert in c:\\users\\srnadimp\\anaconda3\\lib\\site-packages (from notebook>=4.4.1->widgetsnbextension~=3.5.0->ipywidgets>=7.0.0->powerbiclient) (6.4.4)\n",
      "Requirement already satisfied: Send2Trash>=1.8.0 in c:\\users\\srnadimp\\anaconda3\\lib\\site-packages (from notebook>=4.4.1->widgetsnbextension~=3.5.0->ipywidgets>=7.0.0->powerbiclient) (1.8.0)\n",
      "Requirement already satisfied: terminado>=0.8.3 in c:\\users\\srnadimp\\anaconda3\\lib\\site-packages (from notebook>=4.4.1->widgetsnbextension~=3.5.0->ipywidgets>=7.0.0->powerbiclient) (0.13.1)\n",
      "Requirement already satisfied: prometheus-client in c:\\users\\srnadimp\\anaconda3\\lib\\site-packages (from notebook>=4.4.1->widgetsnbextension~=3.5.0->ipywidgets>=7.0.0->powerbiclient) (0.13.1)\n",
      "Requirement already satisfied: wcwidth in c:\\users\\srnadimp\\anaconda3\\lib\\site-packages (from prompt-toolkit!=3.0.0,!=3.0.1,<3.1.0,>=2.0.0->ipython>=4.0.0->ipywidgets>=7.0.0->powerbiclient) (0.2.5)\n",
      "Requirement already satisfied: executing in c:\\users\\srnadimp\\anaconda3\\lib\\site-packages (from stack-data->ipython>=4.0.0->ipywidgets>=7.0.0->powerbiclient) (0.8.3)\n",
      "Requirement already satisfied: asttokens in c:\\users\\srnadimp\\anaconda3\\lib\\site-packages (from stack-data->ipython>=4.0.0->ipywidgets>=7.0.0->powerbiclient) (2.0.5)\n",
      "Requirement already satisfied: pure-eval in c:\\users\\srnadimp\\anaconda3\\lib\\site-packages (from stack-data->ipython>=4.0.0->ipywidgets>=7.0.0->powerbiclient) (0.2.2)\n",
      "Requirement already satisfied: pywinpty>=1.1.0 in c:\\users\\srnadimp\\anaconda3\\lib\\site-packages (from terminado>=0.8.3->notebook>=4.4.1->widgetsnbextension~=3.5.0->ipywidgets>=7.0.0->powerbiclient) (2.0.2)\n",
      "Requirement already satisfied: argon2-cffi-bindings in c:\\users\\srnadimp\\anaconda3\\lib\\site-packages (from argon2-cffi->notebook>=4.4.1->widgetsnbextension~=3.5.0->ipywidgets>=7.0.0->powerbiclient) (21.2.0)\n",
      "Requirement already satisfied: MarkupSafe>=2.0 in c:\\users\\srnadimp\\anaconda3\\lib\\site-packages (from jinja2->notebook>=4.4.1->widgetsnbextension~=3.5.0->ipywidgets>=7.0.0->powerbiclient) (2.1.1)\n",
      "Requirement already satisfied: mistune<2,>=0.8.1 in c:\\users\\srnadimp\\anaconda3\\lib\\site-packages (from nbconvert->notebook>=4.4.1->widgetsnbextension~=3.5.0->ipywidgets>=7.0.0->powerbiclient) (0.8.4)\n",
      "Requirement already satisfied: jupyterlab-pygments in c:\\users\\srnadimp\\anaconda3\\lib\\site-packages (from nbconvert->notebook>=4.4.1->widgetsnbextension~=3.5.0->ipywidgets>=7.0.0->powerbiclient) (0.1.2)\n",
      "Requirement already satisfied: entrypoints>=0.2.2 in c:\\users\\srnadimp\\anaconda3\\lib\\site-packages (from nbconvert->notebook>=4.4.1->widgetsnbextension~=3.5.0->ipywidgets>=7.0.0->powerbiclient) (0.4)\n",
      "Requirement already satisfied: bleach in c:\\users\\srnadimp\\anaconda3\\lib\\site-packages (from nbconvert->notebook>=4.4.1->widgetsnbextension~=3.5.0->ipywidgets>=7.0.0->powerbiclient) (4.1.0)\n",
      "Requirement already satisfied: pandocfilters>=1.4.1 in c:\\users\\srnadimp\\anaconda3\\lib\\site-packages (from nbconvert->notebook>=4.4.1->widgetsnbextension~=3.5.0->ipywidgets>=7.0.0->powerbiclient) (1.5.0)\n",
      "Requirement already satisfied: testpath in c:\\users\\srnadimp\\anaconda3\\lib\\site-packages (from nbconvert->notebook>=4.4.1->widgetsnbextension~=3.5.0->ipywidgets>=7.0.0->powerbiclient) (0.5.0)\n",
      "Requirement already satisfied: defusedxml in c:\\users\\srnadimp\\anaconda3\\lib\\site-packages (from nbconvert->notebook>=4.4.1->widgetsnbextension~=3.5.0->ipywidgets>=7.0.0->powerbiclient) (0.7.1)\n",
      "Requirement already satisfied: beautifulsoup4 in c:\\users\\srnadimp\\anaconda3\\lib\\site-packages (from nbconvert->notebook>=4.4.1->widgetsnbextension~=3.5.0->ipywidgets>=7.0.0->powerbiclient) (4.11.1)\n",
      "Requirement already satisfied: nbclient<0.6.0,>=0.5.0 in c:\\users\\srnadimp\\anaconda3\\lib\\site-packages (from nbconvert->notebook>=4.4.1->widgetsnbextension~=3.5.0->ipywidgets>=7.0.0->powerbiclient) (0.5.13)\n",
      "Requirement already satisfied: soupsieve>1.2 in c:\\users\\srnadimp\\anaconda3\\lib\\site-packages (from beautifulsoup4->nbconvert->notebook>=4.4.1->widgetsnbextension~=3.5.0->ipywidgets>=7.0.0->powerbiclient) (2.3.1)\n",
      "Requirement already satisfied: packaging in c:\\users\\srnadimp\\anaconda3\\lib\\site-packages (from bleach->nbconvert->notebook>=4.4.1->widgetsnbextension~=3.5.0->ipywidgets>=7.0.0->powerbiclient) (21.3)\n",
      "Requirement already satisfied: webencodings in c:\\users\\srnadimp\\anaconda3\\lib\\site-packages (from bleach->nbconvert->notebook>=4.4.1->widgetsnbextension~=3.5.0->ipywidgets>=7.0.0->powerbiclient) (0.5.1)\n",
      "Requirement already satisfied: pyparsing!=3.0.5,>=2.0.2 in c:\\users\\srnadimp\\anaconda3\\lib\\site-packages (from packaging->bleach->nbconvert->notebook>=4.4.1->widgetsnbextension~=3.5.0->ipywidgets>=7.0.0->powerbiclient) (3.0.9)\n",
      "Downloading powerbiclient-3.1.1-py2.py3-none-any.whl (684 kB)\n",
      "   ---------------------------------------- 684.9/684.9 kB 7.2 MB/s eta 0:00:00\n",
      "Building wheels for collected packages: pyspark\n",
      "  Building wheel for pyspark (setup.py): started\n",
      "  Building wheel for pyspark (setup.py): finished with status 'done'\n",
      "  Created wheel for pyspark: filename=pyspark-3.5.0-py2.py3-none-any.whl size=317425383 sha256=1e15033ad9555e3bb13a0b03056f81ec3b2facc7cbefb3878ac6aff31fd0afce\n",
      "  Stored in directory: c:\\users\\srnadimp\\appdata\\local\\pip\\cache\\wheels\\57\\bd\\14\\ce9e21f2649298678d011fb8f71ed38ee70b42b94fef0be142\n",
      "Successfully built pyspark\n",
      "Installing collected packages: pyspark, jupyter-ui-poll, powerbiclient\n",
      "Successfully installed jupyter-ui-poll-0.2.2 powerbiclient-3.1.1 pyspark-3.5.0\n"
     ]
    }
   ],
   "source": [
    "pip install powerbiclient"
   ]
  },
  {
   "cell_type": "code",
   "execution_count": 14,
   "id": "3cbb9463",
   "metadata": {},
   "outputs": [],
   "source": [
    "#import libraries\n",
    "from powerbiclient import Report, models, authentication\n",
    "from powerbiclient.authentication import InteractiveLoginAuthentication"
   ]
  },
  {
   "cell_type": "code",
   "execution_count": 15,
   "id": "8b9afbba",
   "metadata": {},
   "outputs": [
    {
     "name": "stdout",
     "output_type": "stream",
     "text": [
      "A local browser window will open for interactive sign in.\n",
      "\n",
      "Interactive authentication successfully completed.\n",
      "You are now logged in.\n",
      "\n",
      "The result should be passed only to trusted code in your notebook.\n"
     ]
    }
   ],
   "source": [
    "# Authenticate to Power BI service using InteractiveLoginAuthentication\n",
    "auth = authentication.InteractiveLoginAuthentication()"
   ]
  },
  {
   "cell_type": "code",
   "execution_count": 21,
   "id": "603ddc85",
   "metadata": {},
   "outputs": [],
   "source": [
    "#Define your group ID and report ID\n",
    "group_id = \"653fc201-df39-4f8d-9bb1-b9de4e2b03be\"\n",
    "report_id = \"6f1bd60a-d7a2-41b8-9850-00c0b0d2c01e\"\n",
    "\n",
    "# Create a Power BI report object\n",
    "report = Report(group_id=group_id, report_id=report_id, auth=auth)"
   ]
  },
  {
   "cell_type": "code",
   "execution_count": 22,
   "id": "0903607d",
   "metadata": {},
   "outputs": [
    {
     "name": "stdout",
     "output_type": "stream",
     "text": [
      "Report()\n"
     ]
    }
   ],
   "source": [
    "print(report)"
   ]
  },
  {
   "cell_type": "code",
   "execution_count": null,
   "id": "fa7fde7a",
   "metadata": {},
   "outputs": [],
   "source": []
  },
  {
   "cell_type": "code",
   "execution_count": null,
   "id": "3a4cd32f",
   "metadata": {},
   "outputs": [],
   "source": []
  },
  {
   "cell_type": "code",
   "execution_count": null,
   "id": "39898a37",
   "metadata": {},
   "outputs": [],
   "source": []
  },
  {
   "cell_type": "code",
   "execution_count": 44,
   "id": "88ad6436",
   "metadata": {},
   "outputs": [
    {
     "ename": "Exception",
     "evalue": "Could not get embed URL: Report Id is required",
     "output_type": "error",
     "traceback": [
      "\u001b[1;31m---------------------------------------------------------------------------\u001b[0m",
      "\u001b[1;31mException\u001b[0m                                 Traceback (most recent call last)",
      "File \u001b[1;32m~\\Anaconda3\\lib\\site-packages\\powerbiclient\\report.py:265\u001b[0m, in \u001b[0;36mReport.__init__\u001b[1;34m(self, group_id, report_id, auth, view_mode, permissions, dataset_id, **kwargs)\u001b[0m\n\u001b[0;32m    264\u001b[0m \u001b[38;5;28;01mif\u001b[39;00m \u001b[38;5;129;01mnot\u001b[39;00m report_id:\n\u001b[1;32m--> 265\u001b[0m     \u001b[38;5;28;01mraise\u001b[39;00m \u001b[38;5;167;01mException\u001b[39;00m(\u001b[38;5;124m\"\u001b[39m\u001b[38;5;124mReport Id is required\u001b[39m\u001b[38;5;124m\"\u001b[39m)\n\u001b[0;32m    266\u001b[0m request_url \u001b[38;5;241m=\u001b[39m \u001b[38;5;124mf\u001b[39m\u001b[38;5;124m\"\u001b[39m\u001b[38;5;124mhttps://api.powerbi.com/v1.0/myorg\u001b[39m\u001b[38;5;132;01m{\u001b[39;00mgroup_url\u001b[38;5;132;01m}\u001b[39;00m\u001b[38;5;124m/reports/\u001b[39m\u001b[38;5;132;01m{\u001b[39;00mreport_id\u001b[38;5;132;01m}\u001b[39;00m\u001b[38;5;124m\"\u001b[39m\n",
      "\u001b[1;31mException\u001b[0m: Report Id is required",
      "\nDuring handling of the above exception, another exception occurred:\n",
      "\u001b[1;31mException\u001b[0m                                 Traceback (most recent call last)",
      "Input \u001b[1;32mIn [44]\u001b[0m, in \u001b[0;36m<cell line: 25>\u001b[1;34m()\u001b[0m\n\u001b[0;32m     21\u001b[0m         dataset_df\u001b[38;5;241m.\u001b[39mto_csv(csv_file_path, index\u001b[38;5;241m=\u001b[39m\u001b[38;5;28;01mFalse\u001b[39;00m)\n\u001b[0;32m     23\u001b[0m         \u001b[38;5;28mprint\u001b[39m(\u001b[38;5;124mf\u001b[39m\u001b[38;5;124m\"\u001b[39m\u001b[38;5;124mDataset \u001b[39m\u001b[38;5;124m'\u001b[39m\u001b[38;5;132;01m{\u001b[39;00mdataset_name\u001b[38;5;132;01m}\u001b[39;00m\u001b[38;5;124m'\u001b[39m\u001b[38;5;124m extracted and saved as \u001b[39m\u001b[38;5;124m'\u001b[39m\u001b[38;5;132;01m{\u001b[39;00mcsv_file_path\u001b[38;5;132;01m}\u001b[39;00m\u001b[38;5;124m'\u001b[39m\u001b[38;5;124m.\u001b[39m\u001b[38;5;124m\"\u001b[39m)\n\u001b[1;32m---> 25\u001b[0m \u001b[43mextract_datasets\u001b[49m\u001b[43m(\u001b[49m\u001b[43mreport_id\u001b[49m\u001b[43m,\u001b[49m\u001b[43m \u001b[49m\u001b[43moutput_folder\u001b[49m\u001b[43m)\u001b[49m\n",
      "Input \u001b[1;32mIn [44]\u001b[0m, in \u001b[0;36mextract_datasets\u001b[1;34m(report_id, output_folder)\u001b[0m\n\u001b[0;32m      7\u001b[0m \u001b[38;5;28;01mdef\u001b[39;00m \u001b[38;5;21mextract_datasets\u001b[39m(report_id, output_folder):\n\u001b[0;32m      8\u001b[0m     \u001b[38;5;66;03m# Connect to the Power BI report\u001b[39;00m\n\u001b[1;32m----> 9\u001b[0m     report \u001b[38;5;241m=\u001b[39m \u001b[43mReport\u001b[49m\u001b[43m(\u001b[49m\u001b[43mreport_id\u001b[49m\u001b[43m)\u001b[49m\n\u001b[0;32m     10\u001b[0m     \u001b[38;5;28mprint\u001b[39m(\u001b[38;5;124mf\u001b[39m\u001b[38;5;124m'\u001b[39m\u001b[38;5;124mReport : \u001b[39m\u001b[38;5;132;01m{\u001b[39;00mreport\u001b[38;5;132;01m}\u001b[39;00m\u001b[38;5;124m'\u001b[39m)\n\u001b[0;32m     11\u001b[0m     \u001b[38;5;66;03m# Get all datasets in the report\u001b[39;00m\n",
      "File \u001b[1;32m~\\Anaconda3\\lib\\site-packages\\powerbiclient\\report.py:272\u001b[0m, in \u001b[0;36mReport.__init__\u001b[1;34m(self, group_id, report_id, auth, view_mode, permissions, dataset_id, **kwargs)\u001b[0m\n\u001b[0;32m    268\u001b[0m     embed_url \u001b[38;5;241m=\u001b[39m \u001b[38;5;28mself\u001b[39m\u001b[38;5;241m.\u001b[39m_get_embed_url(\n\u001b[0;32m    269\u001b[0m         request_url\u001b[38;5;241m=\u001b[39mrequest_url, token\u001b[38;5;241m=\u001b[39maccess_token, response_key\u001b[38;5;241m=\u001b[39mresponse_key)\n\u001b[0;32m    271\u001b[0m \u001b[38;5;28;01mexcept\u001b[39;00m \u001b[38;5;167;01mException\u001b[39;00m \u001b[38;5;28;01mas\u001b[39;00m ex:\n\u001b[1;32m--> 272\u001b[0m     \u001b[38;5;28;01mraise\u001b[39;00m \u001b[38;5;167;01mException\u001b[39;00m(\u001b[38;5;124m\"\u001b[39m\u001b[38;5;124mCould not get embed URL: \u001b[39m\u001b[38;5;132;01m{0}\u001b[39;00m\u001b[38;5;124m\"\u001b[39m\u001b[38;5;241m.\u001b[39mformat(ex))\n\u001b[0;32m    274\u001b[0m \u001b[38;5;66;03m# Tells if Power BI events are being observed\u001b[39;00m\n\u001b[0;32m    275\u001b[0m \u001b[38;5;28mself\u001b[39m\u001b[38;5;241m.\u001b[39m_observing_events \u001b[38;5;241m=\u001b[39m \u001b[38;5;28;01mFalse\u001b[39;00m\n",
      "\u001b[1;31mException\u001b[0m: Could not get embed URL: Report Id is required"
     ]
    }
   ],
   "source": [
    "#Nitin_Code\n",
    "report_path = 'POC_Artificial_Intelligence_Sample.pbix'\n",
    "report_id = '595cb1a4-1361-4183-b36e-faa3926b4342'\n",
    "#report_id = \"be8908da-da25-452e-b220-163f52476cdd\"\n",
    "output_folder = 'output_ds'\n",
    "\n",
    "def extract_datasets(report_id, output_folder):\n",
    "    # Connect to the Power BI report\n",
    "    report = Report(report_id)\n",
    "    print(f'Report : {report}')\n",
    "    # Get all datasets in the report\n",
    "    datasets = report.get_datasets()\n",
    "\n",
    "    # Extract and save each dataset as a CSV file\n",
    "    for dataset in datasets:\n",
    "        dataset_name = dataset.name\n",
    "        dataset_df = dataset.get_data()\n",
    "\n",
    "        # Save the dataset as a CSV file\n",
    "        csv_file_path = f\"{output_folder}/{dataset_name}.csv\"\n",
    "        dataset_df.to_csv(csv_file_path, index=False)\n",
    "\n",
    "        print(f\"Dataset '{dataset_name}' extracted and saved as '{csv_file_path}'.\")\n",
    "\n",
    "extract_datasets(report_id, output_folder)"
   ]
  },
  {
   "cell_type": "code",
   "execution_count": null,
   "id": "e24f66ce",
   "metadata": {},
   "outputs": [],
   "source": []
  },
  {
   "cell_type": "code",
   "execution_count": null,
   "id": "f49faeee",
   "metadata": {},
   "outputs": [],
   "source": []
  },
  {
   "cell_type": "code",
   "execution_count": null,
   "id": "4aafc77f",
   "metadata": {},
   "outputs": [],
   "source": []
  },
  {
   "cell_type": "code",
   "execution_count": null,
   "id": "e30f8d15",
   "metadata": {},
   "outputs": [],
   "source": []
  },
  {
   "cell_type": "code",
   "execution_count": null,
   "id": "1b3ee722",
   "metadata": {},
   "outputs": [],
   "source": []
  },
  {
   "cell_type": "code",
   "execution_count": 30,
   "id": "5a7ea7cd",
   "metadata": {},
   "outputs": [],
   "source": [
    "#!pip install powerbiclient"
   ]
  },
  {
   "cell_type": "code",
   "execution_count": 35,
   "id": "5289f0db",
   "metadata": {},
   "outputs": [],
   "source": [
    "import requests"
   ]
  },
  {
   "cell_type": "code",
   "execution_count": 36,
   "id": "ee1ba19c",
   "metadata": {},
   "outputs": [],
   "source": [
    "res = requests.get('https://playgroundbe-bck-1.azurewebsites.net/Reports/SampleReport')\n",
    "access_token = res.json()['EmbedToken']['Token']\n",
    "embed_url = res.json()['EmbedUrl']"
   ]
  },
  {
   "cell_type": "code",
   "execution_count": 40,
   "id": "32e5ff7c",
   "metadata": {},
   "outputs": [],
   "source": [
    "group_id = \"f6bfd646-b718-44dc-a378-b73e6b528204\"\n",
    "report_id = \"be8908da-da25-452e-b220-163f52476cdd\""
   ]
  },
  {
   "cell_type": "code",
   "execution_count": 41,
   "id": "27221baa",
   "metadata": {},
   "outputs": [
    {
     "ename": "Exception",
     "evalue": "Could not get embed URL: Get embed URL failed with status code 401",
     "output_type": "error",
     "traceback": [
      "\u001b[1;31m---------------------------------------------------------------------------\u001b[0m",
      "\u001b[1;31mException\u001b[0m                                 Traceback (most recent call last)",
      "File \u001b[1;32m~\\Anaconda3\\lib\\site-packages\\powerbiclient\\report.py:268\u001b[0m, in \u001b[0;36mReport.__init__\u001b[1;34m(self, group_id, report_id, auth, view_mode, permissions, dataset_id, **kwargs)\u001b[0m\n\u001b[0;32m    267\u001b[0m         response_key \u001b[38;5;241m=\u001b[39m \u001b[38;5;124m\"\u001b[39m\u001b[38;5;124membedUrl\u001b[39m\u001b[38;5;124m\"\u001b[39m\n\u001b[1;32m--> 268\u001b[0m     embed_url \u001b[38;5;241m=\u001b[39m \u001b[38;5;28;43mself\u001b[39;49m\u001b[38;5;241;43m.\u001b[39;49m\u001b[43m_get_embed_url\u001b[49m\u001b[43m(\u001b[49m\n\u001b[0;32m    269\u001b[0m \u001b[43m        \u001b[49m\u001b[43mrequest_url\u001b[49m\u001b[38;5;241;43m=\u001b[39;49m\u001b[43mrequest_url\u001b[49m\u001b[43m,\u001b[49m\u001b[43m \u001b[49m\u001b[43mtoken\u001b[49m\u001b[38;5;241;43m=\u001b[39;49m\u001b[43maccess_token\u001b[49m\u001b[43m,\u001b[49m\u001b[43m \u001b[49m\u001b[43mresponse_key\u001b[49m\u001b[38;5;241;43m=\u001b[39;49m\u001b[43mresponse_key\u001b[49m\u001b[43m)\u001b[49m\n\u001b[0;32m    271\u001b[0m \u001b[38;5;28;01mexcept\u001b[39;00m \u001b[38;5;167;01mException\u001b[39;00m \u001b[38;5;28;01mas\u001b[39;00m ex:\n",
      "File \u001b[1;32m~\\Anaconda3\\lib\\site-packages\\powerbiclient\\report.py:309\u001b[0m, in \u001b[0;36mReport._get_embed_url\u001b[1;34m(self, request_url, token, response_key)\u001b[0m\n\u001b[0;32m    308\u001b[0m \u001b[38;5;28;01mif\u001b[39;00m \u001b[38;5;129;01mnot\u001b[39;00m response\u001b[38;5;241m.\u001b[39mok:\n\u001b[1;32m--> 309\u001b[0m     \u001b[38;5;28;01mraise\u001b[39;00m \u001b[38;5;167;01mException\u001b[39;00m(\n\u001b[0;32m    310\u001b[0m         \u001b[38;5;124m\"\u001b[39m\u001b[38;5;124mGet embed URL failed with status code \u001b[39m\u001b[38;5;132;01m{0}\u001b[39;00m\u001b[38;5;124m\"\u001b[39m\u001b[38;5;241m.\u001b[39mformat(response\u001b[38;5;241m.\u001b[39mstatus_code))\n\u001b[0;32m    311\u001b[0m \u001b[38;5;28;01mreturn\u001b[39;00m response\u001b[38;5;241m.\u001b[39mjson()[response_key]\n",
      "\u001b[1;31mException\u001b[0m: Get embed URL failed with status code 401",
      "\nDuring handling of the above exception, another exception occurred:\n",
      "\u001b[1;31mException\u001b[0m                                 Traceback (most recent call last)",
      "Input \u001b[1;32mIn [41]\u001b[0m, in \u001b[0;36m<cell line: 1>\u001b[1;34m()\u001b[0m\n\u001b[1;32m----> 1\u001b[0m report \u001b[38;5;241m=\u001b[39m \u001b[43mReport\u001b[49m\u001b[43m(\u001b[49m\u001b[43maccess_token\u001b[49m\u001b[38;5;241;43m=\u001b[39;49m\u001b[43maccess_token\u001b[49m\u001b[43m,\u001b[49m\u001b[43m \u001b[49m\u001b[43membed_url\u001b[49m\u001b[38;5;241;43m=\u001b[39;49m\u001b[43membed_url\u001b[49m\u001b[43m,\u001b[49m\u001b[43m \u001b[49m\u001b[43mtoken_type\u001b[49m\u001b[38;5;241;43m=\u001b[39;49m\u001b[43mmodels\u001b[49m\u001b[38;5;241;43m.\u001b[39;49m\u001b[43mTokenType\u001b[49m\u001b[38;5;241;43m.\u001b[39;49m\u001b[43mEMBED\u001b[49m\u001b[38;5;241;43m.\u001b[39;49m\u001b[43mvalue\u001b[49m\u001b[43m,\u001b[49m\u001b[43m \u001b[49m\u001b[43mgroup_id\u001b[49m\u001b[43m \u001b[49m\u001b[38;5;241;43m=\u001b[39;49m\u001b[43m \u001b[49m\u001b[43mgroup_id\u001b[49m\u001b[43m,\u001b[49m\u001b[43m \u001b[49m\u001b[43mreport_id\u001b[49m\u001b[43m \u001b[49m\u001b[38;5;241;43m=\u001b[39;49m\u001b[43m \u001b[49m\u001b[43mreport_id\u001b[49m\u001b[43m)\u001b[49m\n\u001b[0;32m      2\u001b[0m report\n",
      "File \u001b[1;32m~\\Anaconda3\\lib\\site-packages\\powerbiclient\\report.py:272\u001b[0m, in \u001b[0;36mReport.__init__\u001b[1;34m(self, group_id, report_id, auth, view_mode, permissions, dataset_id, **kwargs)\u001b[0m\n\u001b[0;32m    268\u001b[0m     embed_url \u001b[38;5;241m=\u001b[39m \u001b[38;5;28mself\u001b[39m\u001b[38;5;241m.\u001b[39m_get_embed_url(\n\u001b[0;32m    269\u001b[0m         request_url\u001b[38;5;241m=\u001b[39mrequest_url, token\u001b[38;5;241m=\u001b[39maccess_token, response_key\u001b[38;5;241m=\u001b[39mresponse_key)\n\u001b[0;32m    271\u001b[0m \u001b[38;5;28;01mexcept\u001b[39;00m \u001b[38;5;167;01mException\u001b[39;00m \u001b[38;5;28;01mas\u001b[39;00m ex:\n\u001b[1;32m--> 272\u001b[0m     \u001b[38;5;28;01mraise\u001b[39;00m \u001b[38;5;167;01mException\u001b[39;00m(\u001b[38;5;124m\"\u001b[39m\u001b[38;5;124mCould not get embed URL: \u001b[39m\u001b[38;5;132;01m{0}\u001b[39;00m\u001b[38;5;124m\"\u001b[39m\u001b[38;5;241m.\u001b[39mformat(ex))\n\u001b[0;32m    274\u001b[0m \u001b[38;5;66;03m# Tells if Power BI events are being observed\u001b[39;00m\n\u001b[0;32m    275\u001b[0m \u001b[38;5;28mself\u001b[39m\u001b[38;5;241m.\u001b[39m_observing_events \u001b[38;5;241m=\u001b[39m \u001b[38;5;28;01mFalse\u001b[39;00m\n",
      "\u001b[1;31mException\u001b[0m: Could not get embed URL: Get embed URL failed with status code 401"
     ]
    }
   ],
   "source": [
    "report = Report(access_token=access_token, embed_url=embed_url, token_type=models.TokenType.EMBED.value, group_id = group_id, report_id = report_id)\n",
    "report"
   ]
  },
  {
   "cell_type": "code",
   "execution_count": null,
   "id": "1251938c",
   "metadata": {},
   "outputs": [],
   "source": []
  },
  {
   "cell_type": "code",
   "execution_count": null,
   "id": "ffe49f7c",
   "metadata": {},
   "outputs": [],
   "source": []
  },
  {
   "cell_type": "code",
   "execution_count": null,
   "id": "7ed3b054",
   "metadata": {},
   "outputs": [],
   "source": []
  },
  {
   "cell_type": "code",
   "execution_count": null,
   "id": "afe72bb2",
   "metadata": {},
   "outputs": [],
   "source": []
  },
  {
   "cell_type": "code",
   "execution_count": null,
   "id": "23dc7a4d",
   "metadata": {},
   "outputs": [],
   "source": []
  },
  {
   "cell_type": "code",
   "execution_count": null,
   "id": "a4d4e079",
   "metadata": {},
   "outputs": [],
   "source": []
  },
  {
   "cell_type": "code",
   "execution_count": null,
   "id": "ff46a1c7",
   "metadata": {},
   "outputs": [],
   "source": []
  },
  {
   "cell_type": "code",
   "execution_count": 45,
   "id": "f700111d",
   "metadata": {},
   "outputs": [],
   "source": [
    "#17/11/2023"
   ]
  },
  {
   "cell_type": "code",
   "execution_count": 85,
   "id": "e171e912",
   "metadata": {},
   "outputs": [],
   "source": [
    "from powerbiclient import Report, models"
   ]
  },
  {
   "cell_type": "code",
   "execution_count": 86,
   "id": "21415888",
   "metadata": {},
   "outputs": [
    {
     "name": "stdout",
     "output_type": "stream",
     "text": [
      "Performing device flow authentication. Please follow the instructions below.\n",
      "To sign in, use a web browser to open the page https://microsoft.com/devicelogin and enter the code ITTQR222K to authenticate.\n",
      "\n",
      "Device flow authentication successfully completed.\n",
      "You are now logged in .\n",
      "\n",
      "The result should be passed only to trusted code in your notebook.\n"
     ]
    }
   ],
   "source": [
    "from powerbiclient.authentication import DeviceCodeLoginAuthentication\n",
    "device_auth = DeviceCodeLoginAuthentication()"
   ]
  },
  {
   "cell_type": "code",
   "execution_count": 87,
   "id": "5d62f6e9",
   "metadata": {},
   "outputs": [],
   "source": [
    "group_id = \"653fc201-df39-4f8d-9bb1-b9de4e2b03be\"\n",
    "report_id = \"6f1bd60a-d7a2-41b8-9850-00c0b0d2c01e\""
   ]
  },
  {
   "cell_type": "code",
   "execution_count": 88,
   "id": "21ec700c",
   "metadata": {},
   "outputs": [],
   "source": [
    "report = Report(group_id = group_id, report_id = report_id, auth = device_auth)"
   ]
  },
  {
   "cell_type": "code",
   "execution_count": 89,
   "id": "13a6a5e8",
   "metadata": {},
   "outputs": [
    {
     "data": {
      "application/vnd.jupyter.widget-view+json": {
       "model_id": "99eeb591b6754de5b555627b821757ac",
       "version_major": 2,
       "version_minor": 0
      },
      "text/plain": [
       "Report()"
      ]
     },
     "metadata": {},
     "output_type": "display_data"
    }
   ],
   "source": [
    "report"
   ]
  },
  {
   "cell_type": "code",
   "execution_count": null,
   "id": "1b6fc3c9",
   "metadata": {},
   "outputs": [],
   "source": []
  },
  {
   "cell_type": "code",
   "execution_count": 83,
   "id": "fe4f5fb4",
   "metadata": {},
   "outputs": [
    {
     "data": {
      "text/plain": [
       "[{'name': 'ReportSection76c409e0c333d60bb1e2',\n",
       "  'displayName': 'Key Influencers',\n",
       "  'isActive': False,\n",
       "  'visibility': 0,\n",
       "  'defaultSize': {'type': 4, 'width': 1312, 'height': 744},\n",
       "  'mobileSize': None,\n",
       "  'defaultDisplayOption': 0,\n",
       "  'background': None,\n",
       "  'wallpaper': None},\n",
       " {'name': 'ReportSectionacd41c847407a998c130',\n",
       "  'displayName': 'Decomposition Tree',\n",
       "  'isActive': False,\n",
       "  'visibility': 0,\n",
       "  'defaultSize': {'type': 4, 'width': 1312, 'height': 744},\n",
       "  'mobileSize': None,\n",
       "  'defaultDisplayOption': 0,\n",
       "  'background': None,\n",
       "  'wallpaper': None},\n",
       " {'name': 'ReportSection909ea50e7939156807d6',\n",
       "  'displayName': 'Anomaly Detection',\n",
       "  'isActive': True,\n",
       "  'visibility': 0,\n",
       "  'defaultSize': {'type': 4, 'width': 1312, 'height': 744},\n",
       "  'mobileSize': None,\n",
       "  'defaultDisplayOption': 0,\n",
       "  'background': {'color': '#e6e6e6', 'transparency': 20, 'hasImage': False},\n",
       "  'wallpaper': {'color': '#FFFFFF', 'transparency': 0, 'hasImage': False}}]"
      ]
     },
     "execution_count": 83,
     "metadata": {},
     "output_type": "execute_result"
    }
   ],
   "source": [
    "report.get_pages()"
   ]
  },
  {
   "cell_type": "code",
   "execution_count": null,
   "id": "fe1cfae1",
   "metadata": {},
   "outputs": [],
   "source": []
  },
  {
   "cell_type": "code",
   "execution_count": null,
   "id": "42d9d97a",
   "metadata": {},
   "outputs": [],
   "source": []
  },
  {
   "cell_type": "code",
   "execution_count": null,
   "id": "d38941ac",
   "metadata": {},
   "outputs": [],
   "source": []
  },
  {
   "cell_type": "code",
   "execution_count": null,
   "id": "b31dbb27",
   "metadata": {},
   "outputs": [],
   "source": []
  },
  {
   "cell_type": "code",
   "execution_count": null,
   "id": "9d925962",
   "metadata": {},
   "outputs": [],
   "source": []
  },
  {
   "cell_type": "code",
   "execution_count": null,
   "id": "74df9520",
   "metadata": {},
   "outputs": [],
   "source": []
  },
  {
   "cell_type": "code",
   "execution_count": null,
   "id": "eaf5c2af",
   "metadata": {},
   "outputs": [],
   "source": []
  },
  {
   "cell_type": "code",
   "execution_count": null,
   "id": "ebe79d43",
   "metadata": {},
   "outputs": [],
   "source": []
  },
  {
   "cell_type": "code",
   "execution_count": null,
   "id": "90b1b349",
   "metadata": {},
   "outputs": [],
   "source": []
  },
  {
   "cell_type": "code",
   "execution_count": 60,
   "id": "35f94d5f",
   "metadata": {},
   "outputs": [
    {
     "name": "stdout",
     "output_type": "stream",
     "text": [
      "Performing device flow authentication. Please follow the instructions below.\n",
      "To sign in, use a web browser to open the page https://microsoft.com/devicelogin and enter the code NJAX9AUYK to authenticate.\n",
      "\n",
      "Device flow authentication successfully completed.\n",
      "You are now logged in .\n",
      "\n",
      "The result should be passed only to trusted code in your notebook.\n",
      "Report()\n"
     ]
    }
   ],
   "source": [
    "from powerbiclient import Report, models\n",
    "\n",
    "from powerbiclient.authentication import DeviceCodeLoginAuthentication\n",
    "device_auth = DeviceCodeLoginAuthentication()\n",
    "\n",
    "group_id = \"653fc201-df39-4f8d-9bb1-b9de4e2b03be\"\n",
    "report_id = \"6f1bd60a-d7a2-41b8-9850-00c0b0d2c01e\"\n",
    "\n",
    "report = Report(group_id = group_id, report_id = report_id, auth = device_auth)\n",
    "\n",
    "print(report)"
   ]
  },
  {
   "cell_type": "code",
   "execution_count": null,
   "id": "0a987f40",
   "metadata": {},
   "outputs": [],
   "source": []
  },
  {
   "cell_type": "code",
   "execution_count": null,
   "id": "4c1843b0",
   "metadata": {},
   "outputs": [],
   "source": []
  }
 ],
 "metadata": {
  "kernelspec": {
   "display_name": "Python 3 (ipykernel)",
   "language": "python",
   "name": "python3"
  },
  "language_info": {
   "codemirror_mode": {
    "name": "ipython",
    "version": 3
   },
   "file_extension": ".py",
   "mimetype": "text/x-python",
   "name": "python",
   "nbconvert_exporter": "python",
   "pygments_lexer": "ipython3",
   "version": "3.9.12"
  }
 },
 "nbformat": 4,
 "nbformat_minor": 5
}
